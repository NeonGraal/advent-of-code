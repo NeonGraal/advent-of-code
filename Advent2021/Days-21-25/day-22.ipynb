{
 "cells": [
  {
   "cell_type": "markdown",
   "metadata": {},
   "source": [
    "# Day 22: Reactor Reboot\n",
    "\n",
    "Operating at these extreme ocean depths has overloaded the submarine's reactor; it needs to be rebooted.\n",
    "\n",
    "The reactor core is made up of a large 3-dimensional grid made up entirely of cubes, one cube per integer 3-dimensional coordinate (x,y,z). Each cube can be either on or off; at the start of the reboot process, they are all off. (Could it be an old model of a reactor you've seen before?)\n",
    "\n",
    "To reboot the reactor, you just need to set all of the cubes to either on or off by following a list of reboot steps (your puzzle input). Each step specifies a cuboid (the set of all cubes that have coordinates which fall within ranges for x, y, and z) and whether to turn all of the cubes in that cuboid on or off."
   ]
  },
  {
   "cell_type": "markdown",
   "metadata": {},
   "source": [
    "## Actions"
   ]
  },
  {
   "cell_type": "code",
   "execution_count": null,
   "metadata": {
    "dotnet_interactive": {
     "language": "csharp"
    }
   },
   "outputs": [
    {
     "data": {
      "text/plain": [
       "True -20..26/-36..17/-47..7"
      ]
     },
     "metadata": {},
     "output_type": "display_data"
    }
   ],
   "source": [
    "record struct Dim(int min, int max) {\n",
    "    static public Dim From(int[] nums) => new Dim(nums[0], nums[1]);\n",
    "    public bool Valid => min <= max;\n",
    "    public decimal Count => max - min + 1;\n",
    "    public override string ToString() => $\"{min}..{max}\";\n",
    "    public IEnumerable<int> Range => Enumerable.Range(min, max - min + 1);\n",
    "    public bool Contains(int i) => min <= i && i <= max;\n",
    "    public bool Inside(Dim d) => d.min <= min && max <= d.max;\n",
    "    public bool Overlaps(Dim d) => d.min <= max && d.max >= min;\n",
    "    public (Dim,Dim,Dim) Section(Dim d) {\n",
    "        var l = new Dim(min, d.min-1);\n",
    "        var g = new Dim(d.max+1, max);\n",
    "        if (l.Valid) {\n",
    "            if (g.Valid) return (l, d, g);\n",
    "            return (l, new Dim(d.min, max), g);\n",
    "        }\n",
    "        if (g.Valid) return (l, new Dim(min, d.max), g);\n",
    "        return (l, this, g);        \n",
    "    }\n",
    "}\n",
    "\n",
    "record struct Cube(Dim x, Dim y, Dim z) {\n",
    "    static public Cube From(int[] nums)\n",
    "        => new Cube(Dim.From(nums[0..2]), new Dim(nums[2], nums[3]), new Dim(nums[4], nums[5]));\n",
    "    public decimal Count\n",
    "        => x.Count * y.Count * z.Count;\n",
    "    public bool Overlaps(Cube c)\n",
    "        => x.Overlaps(c.x) && y.Overlaps(c.y) && z.Overlaps(c.z);\n",
    "    public IEnumerable<(int x, int y, int z)> Range { get {\n",
    "            var yRange = y.Range;\n",
    "            var zRange = z.Range;\n",
    "            return from xPos in x.Range\n",
    "                from yPos in yRange\n",
    "                from zPos in zRange\n",
    "                select (xPos, yPos, zPos);\n",
    "        } }\n",
    "    public IEnumerable<Cube> Minus(Cube d) {\n",
    "        if (!Overlaps(d)) return new[] { this };\n",
    "\n",
    "        var result = new List<Cube>();\n",
    "        var (xl, xm, xg) = x.Section(d.x);\n",
    "        var (yl, ym, yg) = y.Section(d.y);\n",
    "        var (zl, zm, zg) = z.Section(d.z);\n",
    "        \n",
    "        if (x.Inside(d.x)) {\n",
    "            if (y.Inside(d.y)) {\n",
    "                if (zl.Valid) result.Add(new Cube(x, y, zl));\n",
    "                if (zg.Valid) result.Add(new Cube(x, y, zg));\n",
    "                return result;\n",
    "            }\n",
    "            if (z.Inside(d.z)) {\n",
    "                if (yl.Valid) result.Add(new Cube(x, yl, z));\n",
    "                if (yg.Valid) result.Add(new Cube(x, yg, z));\n",
    "                return result;\n",
    "            }\n",
    "            if (zl.Valid) result.Add(new Cube(x, y, zl));\n",
    "            if (yl.Valid) result.Add(new Cube(x, yl, zm));\n",
    "            if (yg.Valid) result.Add(new Cube(x, yg, zm));\n",
    "            if (zg.Valid) result.Add(new Cube(x, y, zg));\n",
    "            return result;\n",
    "        }\n",
    "        if (y.Inside(d.y)) {\n",
    "            if (z.Inside(d.z)) {\n",
    "                if (xl.Valid) result.Add(new Cube(xl, y, z));\n",
    "                if (xg.Valid) result.Add(new Cube(xg, y, z));\n",
    "                return result;\n",
    "            }\n",
    "            if (zl.Valid) result.Add(new Cube(x, y, zl));\n",
    "            if (xl.Valid) result.Add(new Cube(xl, y, zm));\n",
    "            if (xg.Valid) result.Add(new Cube(xg, y, zm));\n",
    "            if (zg.Valid) result.Add(new Cube(x, y, zg));\n",
    "            return result;\n",
    "        }            \n",
    "        if (zl.Valid) result.Add(new Cube(x, y, zl));\n",
    "        if (yl.Valid) result.Add(new Cube(x, yl, zm));\n",
    "        if (xl.Valid) result.Add(new Cube(xl, ym, zm));\n",
    "        if (xg.Valid) result.Add(new Cube(xg, ym, zm));\n",
    "        if (yg.Valid) result.Add(new Cube(x, yg, zm));\n",
    "        if (zg.Valid) result.Add(new Cube(x, y, zg));\n",
    "        return result;\n",
    "    }\n",
    "    public override string ToString()\n",
    "        => $\"{x}/{y}/{z}\";\n",
    "}\n",
    "\n",
    "record struct Action(bool state, Cube cube) {\n",
    "    public override string ToString()\n",
    "        => $\"{state} {cube}\";\n",
    "}\n",
    "\n",
    "static var seps = new [] {' ', '=', '.', ',', 'x', 'y', 'z'};\n",
    "\n",
    "static Action Parse(string line) {\n",
    "    var parts = line.Split(seps, StringSplitOptions.RemoveEmptyEntries);\n",
    "    var nums = parts[1..].Select(int.Parse).ToArray();\n",
    "\n",
    "    return new Action(parts[0] == \"on\", Cube.From(nums));\n",
    "}\n",
    "\n",
    "Parse(\"on x=-20..26,y=-36..17,z=-47..7\").ToString()"
   ]
  },
  {
   "cell_type": "markdown",
   "metadata": {},
   "source": [
    "## Input"
   ]
  },
  {
   "cell_type": "code",
   "execution_count": null,
   "metadata": {
    "dotnet_interactive": {
     "language": "csharp"
    }
   },
   "outputs": [
    {
     "data": {
      "text/html": [
       "<div class=\"dni-plaintext\">420</div>"
      ]
     },
     "metadata": {},
     "output_type": "display_data"
    }
   ],
   "source": [
    "using System.IO;\n",
    "\n",
    "/* var input = new [] {\n",
    "        \"on x=10..12,y=10..12,z=10..12\",\n",
    "        \"on x=11..13,y=11..13,z=11..13\",\n",
    "        \"off x=9..11,y=9..11,z=9..11\",\n",
    "        \"on x=10..10,y=10..10,z=10..10\"\n",
    "    }; // */\n",
    "// var input = File.ReadAllLines(@\"day-22.sample1\");\n",
    "// var input = File.ReadAllLines(@\"day-22.sample2\");\n",
    "var input = File.ReadAllLines(@\"day-22.input\");\n",
    "\n",
    "var actions = input.Select(Parse).ToArray();\n",
    "\n",
    "// display(actions.Select(a => actions.Where(b => a!=b && a.cube.Overlaps(b.cube)).Select(b => $\"{a}|{b}\")));\n",
    "\n",
    "actions.Length"
   ]
  },
  {
   "cell_type": "markdown",
   "metadata": {},
   "source": [
    "## Part 1\n",
    "\n",
    "Execute the reboot steps. Afterward, considering only cubes in the region x=-50..50,y=-50..50,z=-50..50, how many cubes are on?"
   ]
  },
  {
   "cell_type": "code",
   "execution_count": null,
   "metadata": {
    "dotnet_interactive": {
     "language": "csharp"
    }
   },
   "outputs": [
    {
     "data": {
      "text/html": [
       "<div class=\"dni-plaintext\">650099</div>"
      ]
     },
     "metadata": {},
     "output_type": "display_data"
    }
   ],
   "source": [
    "var initDim = new Dim(-50,50);\n",
    "var cubes = initDim.Range.Select(x => initDim.Range.Select(y => initDim.Range.Select(z => false).ToArray()).ToArray()).ToArray();\n",
    "var initRegion = new Cube(initDim,initDim,initDim);\n",
    "\n",
    "foreach (var a in actions) {\n",
    "    var c = a.cube;\n",
    "    if (!c.Overlaps(initRegion)) continue;\n",
    "\n",
    "    foreach (var (x, y, z) in c.Range)\n",
    "        if (initDim.Contains(x) && initDim.Contains(y) && initDim.Contains(z))\n",
    "        cubes[x+50][y+50][z+50] = a.state;\n",
    "}\n",
    "\n",
    "cubes.Sum(x => x.Sum(y => y.Count(z => z)))"
   ]
  },
  {
   "cell_type": "markdown",
   "metadata": {},
   "source": [
    "## Part 2\n",
    "\n",
    "Now that the initialization procedure is complete, you can reboot the reactor.\n",
    "\n",
    "Starting with all cubes off, run all of the reboot steps for all cubes in the reactor."
   ]
  },
  {
   "cell_type": "code",
   "execution_count": null,
   "metadata": {
    "dotnet_interactive": {
     "language": "csharp"
    }
   },
   "outputs": [
    {
     "data": {
      "text/html": [
       "<div class=\"dni-plaintext\">1254011191104293</div>"
      ]
     },
     "metadata": {},
     "output_type": "display_data"
    }
   ],
   "source": [
    "var cubes = new List<Cube>();\n",
    "\n",
    "foreach (var a in actions) {\n",
    "    var overlaps = cubes.Where(a.cube.Overlaps).ToArray();\n",
    "    if (a.state) {\n",
    "        if (overlaps.Any()) {\n",
    "            var adds = overlaps.Aggregate(new[] { a.cube }, \n",
    "                (a, c) => a.SelectMany(s => s.Minus(c)).ToArray());\n",
    "            cubes.AddRange(adds);\n",
    "        } else\n",
    "            cubes.Add(a.cube);\n",
    "    } else {\n",
    "        foreach (var o in overlaps)\n",
    "            cubes.Remove(o);\n",
    "        var adds = overlaps.Aggregate(Array.Empty<Cube>(), \n",
    "            (l, c) => l.Concat(c.Minus(a.cube)).ToArray());\n",
    "        cubes.AddRange(adds);\n",
    "    }\n",
    "}\n",
    "\n",
    "// cubes.Count()\n",
    "cubes.Sum(c => c.Count)"
   ]
  }
 ],
 "metadata": {
  "kernelspec": {
   "display_name": ".NET (C#)",
   "language": "C#",
   "name": ".net-csharp"
  },
  "language_info": {
   "name": "C#"
  }
 },
 "nbformat": 4,
 "nbformat_minor": 2
}
