{
 "cells": [
  {
   "cell_type": "markdown",
   "metadata": {},
   "source": [
    "# Day 13: Transparent Origami\n",
    "\n",
    "You reach another volcanically active part of the cave. It would be nice if you could do some kind of thermal imaging so you could tell ahead of time which caves are too hot to safely enter.\n",
    "\n",
    "Fortunately, the submarine seems to be equipped with a thermal camera! When you activate it, you are greeted with:\n",
    "\n",
    "Congratulations on your purchase! To activate this infrared thermal imaging\n",
    "camera system, please enter the code found on page 1 of the manual.\n",
    "Apparently, the Elves have never used this feature. To your surprise, you manage to find the manual; as you go to open it, page 1 falls out. It's a large sheet of transparent paper! The transparent paper is marked with random dots and includes instructions on how to fold it up (your puzzle input)."
   ]
  },
  {
   "cell_type": "markdown",
   "metadata": {},
   "source": [
    "## Input\n",
    "\n",
    "The first section is a list of dots on the transparent paper. 0,0 represents the top-left coordinate. The first value, x, increases to the right. The second value, y, increases downward.\n",
    "\n",
    "Then, there is a list of fold instructions. Each instruction indicates a line on the transparent paper and wants you to fold the paper up (for horizontal y=... lines) or left (for vertical x=... lines)."
   ]
  },
  {
   "cell_type": "code",
   "execution_count": null,
   "metadata": {
    "dotnet_interactive": {
     "language": "csharp"
    }
   },
   "outputs": [
    {
     "data": {
      "text/html": [
       "<table><thead><tr><th>Item1</th><th>Item2</th><th>Item3</th><th>Item4</th></tr></thead><tbody><tr><td><div class=\"dni-plaintext\">883</div></td><td><div class=\"dni-plaintext\">12</div></td><td><div class=\"dni-plaintext\">1311</div></td><td><div class=\"dni-plaintext\">895</div></td></tr></tbody></table>"
      ]
     },
     "metadata": {},
     "output_type": "display_data"
    }
   ],
   "source": [
    "using System.IO;\n",
    "// var input = File.ReadAllLines(@\"day-13.sample\");\n",
    "var input = File.ReadAllLines(@\"day-13.input\");\n",
    "\n",
    "var points = input\n",
    "    .Where(s => s.Contains(\",\")).Select(l => l.Split(','))\n",
    "    .Select(p => (X: int.Parse(p[0]), Y: int.Parse(p[1]))).ToArray();\n",
    "var folds = input\n",
    "    .Where(s => s.Contains(\"fold\")).Select(l => l.Split(' ')[2].Split(\"=\"))\n",
    "    .Select(f => (Axis: f[0], At: int.Parse(f[1]))).ToArray();\n",
    "\n",
    "var width = points.Select(p => p.X).Max() + 1;\n",
    "var height = points.Select(p => p.Y).Max() + 1;\n",
    "\n",
    "(points.Length, folds.Length, width, height)"
   ]
  },
  {
   "cell_type": "markdown",
   "metadata": {},
   "source": [
    "## Part 1\n",
    "\n",
    "The transparent paper is pretty big, so for now, focus on just completing the first fold. After the first fold in the example above, 17 dots are visible - dots that end up overlapping after the fold is completed count as a single dot.\n",
    "\n",
    "How many dots are visible after completing just the first fold instruction on your transparent paper?"
   ]
  },
  {
   "cell_type": "code",
   "execution_count": null,
   "metadata": {
    "dotnet_interactive": {
     "language": "csharp"
    }
   },
   "outputs": [
    {
     "data": {
      "text/html": [
       "<div class=\"dni-plaintext\">743</div>"
      ]
     },
     "metadata": {},
     "output_type": "display_data"
    }
   ],
   "source": [
    "var dots = points.ToHashSet();\n",
    "\n",
    "foreach (var f in folds) {\n",
    "    var end = f.At * 2;\n",
    "    if (f.Axis == \"y\") {\n",
    "        dots = dots.Where(p => p.Y <= end && p.Y != f.At)\n",
    "            .Select(p => p.Y < f.At ? p : (X: p.X, Y: end - p.Y))\n",
    "            .ToHashSet();\n",
    "    } else if (f.Axis == \"x\") {\n",
    "        dots = dots.Where(p => p.X <= end && p.X != f.At)\n",
    "            .Select(p => p.X < f.At ? p : (X: end - p.X, Y: p.Y))\n",
    "            .ToHashSet();\n",
    "    }\n",
    "    break;\n",
    "}\n",
    "\n",
    "dots.Count()"
   ]
  },
  {
   "cell_type": "markdown",
   "metadata": {},
   "source": [
    "## Part Two\n",
    "\n",
    "Finish folding the transparent paper according to the instructions. The manual says the code is always eight capital letters.\n",
    "\n",
    "What code do you use to activate the infrared thermal imaging camera system?"
   ]
  },
  {
   "cell_type": "code",
   "execution_count": null,
   "metadata": {
    "dotnet_interactive": {
     "language": "csharp"
    }
   },
   "outputs": [
    {
     "data": {
      "text/html": [
       "<table><thead><tr><th><i>index</i></th><th>value</th></tr></thead><tbody><tr><td>0</td><td>###...##..###..#.....##..#..#.#..#.#...</td></tr><tr><td>1</td><td>#..#.#..#.#..#.#....#..#.#.#..#..#.#...</td></tr><tr><td>2</td><td>#..#.#....#..#.#....#..#.##...####.#...</td></tr><tr><td>3</td><td>###..#....###..#....####.#.#..#..#.#...</td></tr><tr><td>4</td><td>#.#..#..#.#....#....#..#.#.#..#..#.#...</td></tr><tr><td>5</td><td>#..#..##..#....####.#..#.#..#.#..#.####</td></tr></tbody></table>"
      ]
     },
     "metadata": {},
     "output_type": "display_data"
    }
   ],
   "source": [
    "var dots = points.ToHashSet();\n",
    "\n",
    "foreach (var f in folds) {\n",
    "    var end = f.At * 2;\n",
    "    if (f.Axis == \"y\") {\n",
    "        dots = dots.Where(p => p.Y <= end && p.Y != f.At)\n",
    "            .Select(p => p.Y < f.At ? p : (X: p.X, Y: end - p.Y))\n",
    "            .ToHashSet();\n",
    "    } else if (f.Axis == \"x\") {\n",
    "        dots = dots.Where(p => p.X <= end && p.X != f.At)\n",
    "            .Select(p => p.X < f.At ? p : (X: end - p.X, Y: p.Y))\n",
    "            .ToHashSet();\n",
    "    }\n",
    "}\n",
    "\n",
    "var width = dots.Select(d => d.X).Max() + 1;\n",
    "var height = dots.Select(d => d.Y).Max() + 1;\n",
    "\n",
    "var page = Enumerable.Range(0, height).Select(y => Enumerable.Range(0, width).Select(x => '.').ToArray()).ToArray();\n",
    "\n",
    "foreach (var d in dots) page[d.Y][d.X] = '#';\n",
    "\n",
    "page.Select(l => new String(l))"
   ]
  },
  {
   "cell_type": "markdown",
   "metadata": {},
   "source": [
    "```\n",
    "0\t###...##..###..#.....##..#..#.#..#.#...\n",
    "1\t#..#.#..#.#..#.#....#..#.#.#..#..#.#...\n",
    "2\t#..#.#....#..#.#....#..#.##...####.#...\n",
    "3\t###..#....###..#....####.#.#..#..#.#...\n",
    "4\t#.#..#..#.#....#....#..#.#.#..#..#.#...\n",
    "5\t#..#..##..#....####.#..#.#..#.#..#.####\n",
    "```"
   ]
  }
 ],
 "metadata": {
  "kernelspec": {
   "display_name": ".NET (C#)",
   "language": "C#",
   "name": ".net-csharp"
  },
  "language_info": {
   "name": "C#"
  }
 },
 "nbformat": 4,
 "nbformat_minor": 2
}
