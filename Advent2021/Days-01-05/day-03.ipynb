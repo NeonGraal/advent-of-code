{
 "cells": [
  {
   "cell_type": "markdown",
   "metadata": {},
   "source": [
    "The submarine has been making some odd creaking noises, so you ask it to produce a diagnostic report just in case.\n",
    "\n",
    "--- Part 1 ---\n",
    "\n",
    "The diagnostic report (your puzzle input) consists of a list of binary numbers which, when decoded properly, can tell you many useful things about the conditions of the submarine. The first parameter to check is the power consumption.\n",
    "\n",
    "You need to use the binary numbers in the diagnostic report to generate two new binary numbers (called the gamma rate and the epsilon rate). The power consumption can then be found by multiplying the gamma rate by the epsilon rate.\n",
    "\n",
    "Each bit in the gamma rate can be determined by finding the most common bit in the corresponding position of all numbers in the diagnostic report.\n",
    "\n",
    "The epsilon rate is calculated in a similar way; rather than use the most common bit, the least common bit from each position is used.\n",
    "\n",
    "Use the binary numbers in your diagnostic report to calculate the gamma rate and epsilon rate, then multiply them together. What is the power consumption of the submarine? (Be sure to represent your answer in decimal, not binary.)"
   ]
  },
  {
   "cell_type": "code",
   "execution_count": null,
   "metadata": {
    "dotnet_interactive": {
     "language": "csharp"
    }
   },
   "outputs": [
    {
     "data": {
      "text/html": [
       "<div class=\"dni-plaintext\">12</div>"
      ]
     },
     "metadata": {},
     "output_type": "display_data"
    }
   ],
   "source": [
    "var input = \"00100 11110 10110 10111 10101 01111 00111 11100 10000 11001 00010 01010\".Split(' ');\n",
    "input.Length"
   ]
  },
  {
   "cell_type": "code",
   "execution_count": null,
   "metadata": {
    "dotnet_interactive": {
     "language": "csharp"
    }
   },
   "outputs": [
    {
     "data": {
      "text/html": [
       "<div class=\"dni-plaintext\">1000</div>"
      ]
     },
     "metadata": {},
     "output_type": "display_data"
    }
   ],
   "source": [
    "using System.IO;\n",
    "var input = File.ReadAllLines(@\"day-03.input\");\n",
    "input.Length"
   ]
  },
  {
   "cell_type": "code",
   "execution_count": null,
   "metadata": {
    "dotnet_interactive": {
     "language": "csharp"
    }
   },
   "outputs": [],
   "source": [
    "\n",
    "//Part1\n",
    "var size = input[0].Length;\n",
    "var counts = new int[size];\n",
    "\n",
    "foreach (var v in input)\n",
    "    for (var i = 0; i< size; i++)\n",
    "        if (v[i] == '1') counts[i]++;\n",
    "\n",
    "var half = input.Length / 2;\n",
    "var (gamma, epsilon) = (0L, 0L);\n",
    "\n",
    "for (var i = 0; i < size; i++) {\n",
    "    (gamma, epsilon) = (gamma * 2, epsilon * 2);\n",
    "    if (counts[i] > half) gamma++;\n",
    "    else epsilon++;\n",
    "}\n",
    "\n",
    "(gamma, epsilon, gamma * epsilon)"
   ]
  },
  {
   "cell_type": "markdown",
   "metadata": {},
   "source": [
    "--- Part Two ---\n",
    "Next, you should verify the life support rating, which can be determined by multiplying the oxygen generator rating by the CO2 scrubber rating.\n",
    "\n",
    "Both the oxygen generator rating and the CO2 scrubber rating are values that can be found in your diagnostic report - finding them is the tricky part. Both values are located using a similar process that involves filtering out values until only one remains. Before searching for either rating value, start with the full list of binary numbers from your diagnostic report and consider just the first bit of those numbers. Then:\n",
    "\n",
    "Keep only numbers selected by the bit criteria for the type of rating value for which you are searching. Discard numbers which do not match the bit criteria.\n",
    "If you only have one number left, stop; this is the rating value for which you are searching.\n",
    "Otherwise, repeat the process, considering the next bit to the right.\n",
    "The bit criteria depends on which type of rating value you want to find:\n",
    "\n",
    "To find oxygen generator rating, determine the most common value (0 or 1) in the current bit position, and keep only numbers with that bit in that position. If 0 and 1 are equally common, keep values with a 1 in the position being considered.\n",
    "To find CO2 scrubber rating, determine the least common value (0 or 1) in the current bit position, and keep only numbers with that bit in that position. If 0 and 1 are equally common, keep values with a 0 in the position being considered."
   ]
  },
  {
   "cell_type": "code",
   "execution_count": null,
   "metadata": {
    "dotnet_interactive": {
     "language": "csharp"
    }
   },
   "outputs": [
    {
     "data": {
      "text/html": [
       "<table><thead><tr><th>Item1</th><th>Item2</th><th>Item3</th><th>Item4</th><th>Item5</th></tr></thead><tbody><tr><td><div class=\"dni-plaintext\">[ 000001111101 ]</div></td><td><div class=\"dni-plaintext\">[ 111100010100 ]</div></td><td><div class=\"dni-plaintext\">125</div></td><td><div class=\"dni-plaintext\">3860</div></td><td><div class=\"dni-plaintext\">482500</div></td></tr></tbody></table>"
      ]
     },
     "metadata": {},
     "output_type": "display_data"
    }
   ],
   "source": [
    "(string[], string[]) Split(string[] full, int pos) {\n",
    "    var splits = full.ToLookup(s => s[pos]);\n",
    "    return (splits['0'].ToArray(), splits['1'].ToArray());\n",
    "}\n",
    "\n",
    "var (oxy, co2) = (input, input);\n",
    "var size = input[0].Length;\n",
    "for (var i = 0; i < size; i++) {\n",
    "    if (oxy.Length > 1) {\n",
    "        var (zeros, ones) = Split(oxy, i);\n",
    "        oxy = ones.Length < zeros.Length ? zeros : ones;\n",
    "    }\n",
    "    if (co2.Length > 1) {\n",
    "        var (zeros, ones) = Split(co2, i);\n",
    "        co2 = zeros.Length > ones.Length ? ones : zeros;\n",
    "    }\n",
    "}\n",
    "\n",
    "var (oxyR, co2R) = (Convert.ToInt64(oxy[0], 2), Convert.ToInt64(co2[0], 2));\n",
    "\n",
    "(oxy, co2, oxyR, co2R, oxyR * co2R)"
   ]
  }
 ],
 "metadata": {
  "interpreter": {
   "hash": "8a4e81e559615a6277a157d0ab074183492b51849d576007bfb854953a6eeeac"
  },
  "kernelspec": {
   "display_name": ".NET (C#)",
   "language": "C#",
   "name": ".net-csharp"
  },
  "language_info": {
   "file_extension": ".cs",
   "mimetype": "text/x-csharp",
   "name": "C#",
   "pygments_lexer": "csharp",
   "version": "9.0"
  }
 },
 "nbformat": 4,
 "nbformat_minor": 2
}
