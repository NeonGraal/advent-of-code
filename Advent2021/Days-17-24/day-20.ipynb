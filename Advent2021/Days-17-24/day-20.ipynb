{
 "cells": [
  {
   "cell_type": "markdown",
   "metadata": {},
   "source": [
    "# Day 20: Trench map\n",
    "\n",
    "With the scanners fully deployed, you turn their attention to mapping the floor of the ocean trench.\n",
    "\n",
    "When you get back the image from the scanners, it seems to just be random noise. Perhaps you can combine an image enhancement algorithm and the input image (your puzzle input) to clean it up a little.\n"
   ]
  },
  {
   "cell_type": "markdown",
   "metadata": {},
   "source": [
    "## Input\n",
    "\n",
    "The first section is the image enhancement algorithm. It is normally given on a single line, but it has been wrapped to multiple lines in this example for legibility. The second section is the input image, a two-dimensional grid of light pixels (#) and dark pixels (.).\n",
    "\n",
    "The image enhancement algorithm describes how to enhance an image by simultaneously converting all pixels in the input image into an output image. Each pixel of the output image is determined by looking at a 3x3 square of pixels centered on the corresponding input image pixel. These nine input pixels are combined into a single binary number that is used as an index in the image enhancement algorithm string.\n",
    "\n",
    "The image enhancement algorithm string is exactly 512 characters long, enough to match every possible 9-bit binary number."
   ]
  },
  {
   "cell_type": "code",
   "execution_count": null,
   "metadata": {
    "dotnet_interactive": {
     "language": "csharp"
    }
   },
   "outputs": [
    {
     "data": {
      "text/html": [
       "<table><thead><tr><th>Item1</th><th>Item2</th><th>Item3</th><th>Item4</th></tr></thead><tbody><tr><td><div class=\"dni-plaintext\">100</div></td><td><div class=\"dni-plaintext\">100</div></td><td><div class=\"dni-plaintext\">.</div></td><td><div class=\"dni-plaintext\">5004</div></td></tr></tbody></table>"
      ]
     },
     "metadata": {},
     "output_type": "display_data"
    }
   ],
   "source": [
    "using System.IO;\n",
    "// var input = File.ReadAllLines(@\"day-20.sample\");\n",
    "// var input = File.ReadAllLines(@\"day-20.sample1\");\n",
    "var input = File.ReadAllLines(@\"day-20.input\");\n",
    "\n",
    "var enhance = input[0].ToCharArray();\n",
    "\n",
    "var lights = (input[2..], '.');\n",
    "\n",
    "(int, int, char, int) CountLit((string[] lights, char edge) lit)\n",
    "    => (lit.lights.Length, lit.lights[0].Length, lit.edge,\n",
    "        lit.lights.SelectMany(l => l.ToCharArray()).Count(c => c == '#'));\n",
    "\n",
    "CountLit(lights)"
   ]
  },
  {
   "cell_type": "markdown",
   "metadata": {},
   "source": [
    "## Enhance Image\n",
    "\n",
    "Through advances in imaging technology, the images being operated on here are infinite in size. Every pixel of the infinite output image needs to be calculated exactly based on the relevant pixels of the input image. The small input image you have is only a small region of the actual infinite input image; the rest of the input image consists of dark pixels (.). For the purposes of the example, to save on space, only a portion of the infinite-sized input and output images will be shown."
   ]
  },
  {
   "cell_type": "code",
   "execution_count": null,
   "metadata": {
    "dotnet_interactive": {
     "language": "csharp"
    }
   },
   "outputs": [
    {
     "data": {
      "text/html": [
       "<table><thead><tr><th>Item1</th><th>Item2</th><th>Item3</th><th>Item4</th></tr></thead><tbody><tr><td><div class=\"dni-plaintext\">102</div></td><td><div class=\"dni-plaintext\">102</div></td><td><div class=\"dni-plaintext\">#</div></td><td><div class=\"dni-plaintext\">5538</div></td></tr></tbody></table>"
      ]
     },
     "metadata": {},
     "output_type": "display_data"
    }
   ],
   "source": [
    "char EnhancePixel(params char[] pixels)\n",
    "    => enhance[Convert.ToInt16(new string(pixels), 2)];\n",
    "\n",
    "string EnhanceLine(string before, string line, string after, char edge) {\n",
    "    var sb = new StringBuilder();\n",
    "    var (bl, bc) = (edge, edge);\n",
    "    var (ll, lc) = (edge, edge);\n",
    "    var (al, ac) = (edge, edge);\n",
    "    for (var i = 0; i < line.Length; i++) {\n",
    "        sb.Append(EnhancePixel(bl, bc, before[i], ll, lc, line[i], al, ac, after[i]));\n",
    "        (bl, bc) = (bc, before[i]);\n",
    "        (ll, lc) = (lc, line[i]);\n",
    "        (al, ac) = (ac, after[i]);\n",
    "    }\n",
    "    return sb.ToString();\n",
    "}\n",
    "\n",
    "(string[], char) Enhance((string[] lines, char border) image) {\n",
    "    var wid = image.lines[0].Length;\n",
    "\n",
    "    var edge = image.border == '.' ? '0' : '1';\n",
    "\n",
    "    var blank = new String(edge, wid + 2);\n",
    "\n",
    "    var before = blank;\n",
    "    var line = blank;\n",
    "\n",
    "    return (image.lines\n",
    "        .Select(l => l.Replace('.', '0').Replace('#', '1') + edge + edge)\n",
    "        .Concat(new []{ blank, blank })\n",
    "        .Select(after => {\n",
    "            var result = EnhanceLine(before, line, after, edge);\n",
    "            (before, line) = (line, after);\n",
    "            return result;\n",
    "        })\n",
    "        .ToArray(), EnhancePixel(edge, edge, edge, edge, edge, edge, edge, edge, edge));\n",
    "}\n",
    "\n",
    "string ShowLit((string[] lights, char edge) lit) {\n",
    "    var wid = lit.lights[0].Length;\n",
    "    var blank = new String(lit.edge, wid + 6);\n",
    "    return String.Join(\"\\n\", lit.lights.Select(l => \"\" + lit.edge + lit.edge + ' ' + l + ' ' + lit.edge + lit.edge)\n",
    "        .Prepend(\"\").Prepend(blank).Prepend(blank)\n",
    "        .Append(\"\").Append(blank).Append(blank));\n",
    "}\n",
    "\n",
    "var enhanced= Enhance(lights);\n",
    "// display(ShowLit(enhanced));\n",
    "CountLit(enhanced)"
   ]
  },
  {
   "cell_type": "markdown",
   "metadata": {},
   "source": [
    "## Part 1\n",
    "\n",
    "Start with the original input image and apply the image enhancement algorithm twice, being careful to account for the infinite size of the images. How many pixels are lit in the resulting image?"
   ]
  },
  {
   "cell_type": "code",
   "execution_count": null,
   "metadata": {
    "dotnet_interactive": {
     "language": "csharp"
    }
   },
   "outputs": [
    {
     "data": {
      "text/html": [
       "<table><thead><tr><th>Item1</th><th>Item2</th><th>Item3</th><th>Item4</th></tr></thead><tbody><tr><td><div class=\"dni-plaintext\">104</div></td><td><div class=\"dni-plaintext\">104</div></td><td><div class=\"dni-plaintext\">.</div></td><td><div class=\"dni-plaintext\">5498</div></td></tr></tbody></table>"
      ]
     },
     "metadata": {},
     "output_type": "display_data"
    }
   ],
   "source": [
    "var r = Enhance(enhanced);\n",
    "\n",
    "// display(ShowLit(r));\n",
    "CountLit(r)"
   ]
  },
  {
   "cell_type": "markdown",
   "metadata": {},
   "source": [
    "## Part 2\n",
    "\n",
    "You still can't quite make out the details in the image. Maybe you just didn't enhance it enough.\n",
    "\n",
    "Start again with the original input image and apply the image enhancement algorithm 50 times. How many pixels are lit in the resulting image?"
   ]
  },
  {
   "cell_type": "code",
   "execution_count": null,
   "metadata": {
    "dotnet_interactive": {
     "language": "csharp"
    }
   },
   "outputs": [
    {
     "data": {
      "text/html": [
       "<table><thead><tr><th>Item1</th><th>Item2</th><th>Item3</th><th>Item4</th></tr></thead><tbody><tr><td><div class=\"dni-plaintext\">200</div></td><td><div class=\"dni-plaintext\">200</div></td><td><div class=\"dni-plaintext\">.</div></td><td><div class=\"dni-plaintext\">16014</div></td></tr></tbody></table>"
      ]
     },
     "metadata": {},
     "output_type": "display_data"
    }
   ],
   "source": [
    "var r = lights;\n",
    "\n",
    "for (var i = 0; i < 50; i++)\n",
    "    r = Enhance(r);\n",
    "\n",
    "// display(ShowLit(r));\n",
    "CountLit(r)"
   ]
  }
 ],
 "metadata": {
  "kernelspec": {
   "display_name": ".NET (C#)",
   "language": "C#",
   "name": ".net-csharp"
  },
  "language_info": {
   "name": "C#"
  }
 },
 "nbformat": 4,
 "nbformat_minor": 2
}
