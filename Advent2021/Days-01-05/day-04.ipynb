{
 "cells": [
  {
   "cell_type": "markdown",
   "metadata": {},
   "source": [
    "--- Day 4: Giant Squid ---\n",
    "You're already almost 1.5km (almost a mile) below the surface of the ocean, already so deep that you can't see any sunlight. What you can see, however, is a giant squid that has attached itself to the outside of your submarine.\n",
    "\n",
    "Maybe it wants to play bingo?\n",
    "\n",
    "Bingo is played on a set of boards each consisting of a 5x5 grid of numbers. Numbers are chosen at random, and the chosen number is marked on all boards on which it appears. (Numbers may not appear on all boards.) If all numbers in any row or any column of a board are marked, that board wins. (Diagonals don't count.)\n",
    "\n",
    "The submarine has a bingo subsystem to help passengers (currently, you and the giant squid) pass the time. It automatically generates a random order in which to draw numbers and a random set of boards (your puzzle input).\n",
    "\n",
    "At this point, the third board wins because it has at least one complete row or column of marked numbers (in this case, the entire top row is marked: 14 21 17 24 4).\n",
    "\n",
    "The score of the winning board can now be calculated. Start by finding the sum of all unmarked numbers on that board; in this case, the sum is 188. Then, multiply that sum by the number that was just called when the board won, 24, to get the final score, 188 * 24 = 4512.\n",
    "\n",
    "To guarantee victory against the giant squid, figure out which board will win first. What will your final score be if you choose that board?"
   ]
  },
  {
   "cell_type": "code",
   "execution_count": null,
   "metadata": {
    "dotnet_interactive": {
     "language": "csharp"
    }
   },
   "outputs": [
    {
     "ename": "Error",
     "evalue": "(1,23): error CS0535: 'Cell' does not implement interface member 'ICloneable.Clone()'",
     "output_type": "error",
     "traceback": [
      "(1,23): error CS0535: 'Cell' does not implement interface member 'ICloneable.Clone()'"
     ]
    }
   ],
   "source": [
    "record Cell(int num) {\n",
    "    public bool mark;\n",
    "}\n",
    "\n",
    "string Show(Cell[][] board)\n",
    "    => string.Join(\" : \",\n",
    "        board.Select(r => string.Join(\" \",\n",
    "            r.Select(c => c.num.ToString() + (c.mark ? \"X\" : \".\"))\n",
    "        )));\n",
    "\n",
    "var range = Enumerable.Range(0, 5);\n",
    "\n",
    "Cell[][] ParseBoard(IEnumerable<String> lines) \n",
    "    => lines.Skip(1)\n",
    "        .Select(l => l\n",
    "            .Split(' ', StringSplitOptions.RemoveEmptyEntries | StringSplitOptions.TrimEntries)\n",
    "            .Select(s => new Cell(int.Parse(s)))\n",
    "            .ToArray()\n",
    "        ).ToArray();\n",
    "\n",
    "void Mark(Cell[][] board, int num)\n",
    "    => Array.ForEach(board, l =>\n",
    "        Array.ForEach(l, c => {\n",
    "            if (c.num == num) c.mark = true;\n",
    "        }));\n",
    "\n",
    "bool Won(Cell[][] board)\n",
    "    => range.Any(i => range.All(j => board[i][j].mark) || range.All(j => board[j][i].mark));\n",
    "\n",
    "int[] Unmarked(Cell[][] board)\n",
    "    => range.SelectMany(y => \n",
    "            range.Select(x => board[y][x])\n",
    "                .Where(c => !c.mark))\n",
    "        .Select(c => c.num).ToArray();\n"
   ]
  },
  {
   "cell_type": "code",
   "execution_count": null,
   "metadata": {
    "dotnet_interactive": {
     "language": "csharp"
    }
   },
   "outputs": [],
   "source": []
  },
  {
   "cell_type": "code",
   "execution_count": null,
   "metadata": {
    "dotnet_interactive": {
     "language": "csharp"
    }
   },
   "outputs": [
    {
     "data": {
      "text/html": [
       "<table><thead><tr><th>Item1</th><th>Item2</th></tr></thead><tbody><tr><td><div class=\"dni-plaintext\">100</div></td><td><div class=\"dni-plaintext\">100</div></td></tr></tbody></table>"
      ]
     },
     "metadata": {},
     "output_type": "display_data"
    }
   ],
   "source": [
    "using System.IO;\n",
    "//var input = File.ReadAllLines(@\"day-04.sample\");\n",
    "var input = File.ReadAllLines(@\"day-04.input\");\n",
    "\n",
    "var numbers = input[0].Split(',').Select(int.Parse).ToArray();\n",
    "\n",
    "var boards = input.Skip(1).Chunk(6).Select(l => ParseBoard(l)).ToArray();\n",
    "\n",
    "(numbers.Length, boards.Length)"
   ]
  },
  {
   "cell_type": "code",
   "execution_count": null,
   "metadata": {
    "dotnet_interactive": {
     "language": "csharp"
    }
   },
   "outputs": [
    {
     "data": {
      "text/plain": [
       "14X 21X 17X 24X 4X : 10. 16. 15. 9X 19. : 18. 8. 23X 26. 20. : 22. 11X 13. 6. 5X : 2X 0X 12. 3. 7X"
      ]
     },
     "metadata": {},
     "output_type": "display_data"
    },
    {
     "data": {
      "text/html": [
       "<div class=\"dni-plaintext\">4512</div>"
      ]
     },
     "metadata": {},
     "output_type": "display_data"
    },
    {
     "data": {
      "text/html": [
       "<div class=\"dni-plaintext\">&lt;null&gt;</div>"
      ]
     },
     "metadata": {},
     "output_type": "display_data"
    }
   ],
   "source": [
    "// Part1\n",
    "foreach(var num in numbers) {\n",
    "    foreach (var b in boards) {\n",
    "        Mark(b, num);\n",
    "        if (Won(b)) {\n",
    "            display(Show(b));\n",
    "            var unmarked = Unmarked(b);\n",
    "            display(unmarked.Sum() * num);\n",
    "            return;\n",
    "        }\n",
    "    }\n",
    "}"
   ]
  },
  {
   "cell_type": "markdown",
   "metadata": {},
   "source": [
    "--- Part Two ---\n",
    "\n",
    "On the other hand, it might be wise to try a different strategy: let the giant squid win.\n",
    "\n",
    "You aren't sure how many bingo boards a giant squid could play at once, so rather than waste time counting its arms, the safe thing to do is to figure out which board will win last and choose that one. That way, no matter which boards it picks, it will win for sure.\n",
    "\n",
    "In the above example, the second board is the last to win, which happens after 13 is eventually called and its middle column is completely marked. If you were to keep playing until this point, the second board would have a sum of unmarked numbers equal to 148 for a final score of 148 * 13 = 1924.\n",
    "\n",
    "Figure out which board will win last. Once it wins, what would its final score be?"
   ]
  },
  {
   "cell_type": "code",
   "execution_count": null,
   "metadata": {
    "dotnet_interactive": {
     "language": "csharp"
    }
   },
   "outputs": [
    {
     "data": {
      "text/plain": [
       "67. 51X 43X 89X 94X : 4X 96X 50X 9X 8X : 22X 87X 77. 38X 35X : 39X 37. 17X 59. 32X : 5X 25X 26X 83X 81."
      ]
     },
     "metadata": {},
     "output_type": "display_data"
    },
    {
     "data": {
      "text/html": [
       "<div class=\"dni-plaintext\">2568</div>"
      ]
     },
     "metadata": {},
     "output_type": "display_data"
    },
    {
     "data": {
      "text/html": [
       "<div class=\"dni-plaintext\">&lt;null&gt;</div>"
      ]
     },
     "metadata": {},
     "output_type": "display_data"
    }
   ],
   "source": [
    "//Part 2\n",
    "var remaining = boards.ToList();\n",
    "\n",
    "foreach ( var num in numbers) {\n",
    "    foreach (var b in remaining.ToArray()) {\n",
    "        Mark(b, num);\n",
    "        if (Won(b)) {\n",
    "            remaining.Remove(b);\n",
    "            if (remaining.Count() == 0) {\n",
    "                display(Show(b));\n",
    "                var unmarked = Unmarked(b);\n",
    "                display(unmarked.Sum() * num);\n",
    "                return;\n",
    "            }\n",
    "        }\n",
    "    }\n",
    "}"
   ]
  }
 ],
 "metadata": {
  "kernelspec": {
   "display_name": ".NET (C#)",
   "language": "C#",
   "name": ".net-csharp"
  },
  "language_info": {
   "name": "C#"
  }
 },
 "nbformat": 4,
 "nbformat_minor": 2
}
