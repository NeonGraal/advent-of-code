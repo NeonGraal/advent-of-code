{
 "cells": [
  {
   "cell_type": "markdown",
   "metadata": {},
   "source": [
    "# Day 15: Chiton\n",
    "\n",
    "You've almost reached the exit of the cave, but the walls are getting closer together. Your submarine can barely still fit, though; the main problem is that the walls of the cave are covered in chitons, and it would be best not to bump any of them.\n",
    "\n",
    "The cavern is large, but has a very low ceiling, restricting your motion to two dimensions. The shape of the cavern resembles a square; a quick scan of chiton density produces a map of risk level throughout the cave (your puzzle input)."
   ]
  },
  {
   "cell_type": "markdown",
   "metadata": {},
   "source": [
    "## Input"
   ]
  },
  {
   "cell_type": "code",
   "execution_count": null,
   "metadata": {
    "dotnet_interactive": {
     "language": "csharp"
    }
   },
   "outputs": [
    {
     "data": {
      "text/html": [
       "<table><thead><tr><th>Item1</th><th>Item2</th></tr></thead><tbody><tr><td><div class=\"dni-plaintext\">100</div></td><td><div class=\"dni-plaintext\">100</div></td></tr></tbody></table>"
      ]
     },
     "metadata": {},
     "output_type": "display_data"
    }
   ],
   "source": [
    "using System.IO;\n",
    "// var input = File.ReadAllLines(@\"day-15.sample\");\n",
    "var input = File.ReadAllLines(@\"day-15.input\");\n",
    "\n",
    "var risks = input.Select(l => l.ToCharArray()\n",
    "        .Select(c => (int)(c - '0')).ToArray()\n",
    "    ).ToArray();\n",
    "\n",
    "(risks[0].Length, risks.Length)"
   ]
  },
  {
   "cell_type": "markdown",
   "metadata": {},
   "source": [
    "## Part 1\n",
    "\n",
    "You start in the top left position, your destination is the bottom right position, and you cannot move diagonally. The number at each position is its risk level; to determine the total risk of an entire path, add up the risk levels of each position you enter (that is, don't count the risk level of your starting position unless you enter it; leaving it adds no risk to your total).\n",
    "\n",
    "Your goal is to find a path with the lowest total risk.\n",
    "\n",
    "What is the lowest total risk of any path from the top left to the bottom right?"
   ]
  },
  {
   "cell_type": "code",
   "execution_count": null,
   "metadata": {
    "dotnet_interactive": {
     "language": "csharp"
    }
   },
   "outputs": [
    {
     "name": "stdout",
     "output_type": "stream",
     "text": [
      "^0677,8 ^0681,6 ^0677,8 ^0682,8\r\n",
      "^0680,3 <0684,4 ^0683,6 ^0691,9\r\n",
      "^0683,3 <0690,7 ^0686,3 <0693,7\r\n",
      "^0684,1 <0685,1 <0693,8 <0702,9\r\n"
     ]
    },
    {
     "data": {
      "text/html": [
       "<div class=\"dni-plaintext\">702</div>"
      ]
     },
     "metadata": {},
     "output_type": "display_data"
    }
   ],
   "source": [
    "enum Dir { none, left, up, right, down };\n",
    "\n",
    "record struct PathRisk(int Risk, int MinRisk, Dir From) {\n",
    "    public void Add(PathRisk p, Dir from) {\n",
    "        var newRisk = p.MinRisk + Risk;\n",
    "        if (newRisk < MinRisk) {\n",
    "            From = from;\n",
    "            MinRisk = newRisk;\n",
    "        }\n",
    "    }\n",
    "\n",
    "    public override string ToString()\n",
    "        => From switch {\n",
    "                Dir.left => $\"<{MinRisk:d4},{Risk:d}\",\n",
    "                Dir.up => $\"^{MinRisk:d4},{Risk:d}\",\n",
    "                Dir.right => $\">{MinRisk:d4},{Risk:d}\",\n",
    "                Dir.down => $\"v{MinRisk:d4},{Risk:d}\",\n",
    "                _ => \"    \"\n",
    "            };\n",
    "}\n",
    "\n",
    "var pathRisks = risks.Select(l => l.Select(r => new PathRisk(r, 9999, Dir.none)).ToArray()).ToArray();\n",
    "pathRisks[0][0].MinRisk = 0;\n",
    "\n",
    "int CalculateMinRisk(int show) {\n",
    "    var size = pathRisks.Length;\n",
    "    var last = size - 1;\n",
    "\n",
    "    for (var y = 0; y < size; y++)\n",
    "        for (var x = 0; x < size; x++) {\n",
    "            if (x > 0) pathRisks[y][x].Add(pathRisks[y][x-1], Dir.left);\n",
    "            if (y > 0) pathRisks[y][x].Add(pathRisks[y-1][x], Dir.up);\n",
    "            if (x < last) pathRisks[y][x].Add(pathRisks[y][x+1], Dir.right);\n",
    "            if (y < last) pathRisks[y][x].Add(pathRisks[y+1][x], Dir.down);\n",
    "        }\n",
    "\n",
    "    foreach (var r in pathRisks.TakeLast(show)) {\n",
    "        var row = string.Join(\" \", r.TakeLast(show).Select(p => p.ToString()));\n",
    "        Console.WriteLine(row);\n",
    "    }\n",
    "\n",
    "    return pathRisks[last][last].MinRisk;\n",
    "}\n",
    "\n",
    "CalculateMinRisk(4)\n"
   ]
  },
  {
   "cell_type": "markdown",
   "metadata": {},
   "source": [
    "## Part 2\n",
    "Now that you know how to find low-risk paths in the cave, you can try to find your way out.\n",
    "\n",
    "The entire cave is actually five times larger in both dimensions than you thought; the area you originally scanned is just one tile in a 5x5 tile area that forms the full map. Your original map tile repeats to the right and downward; each time the tile repeats to the right or downward, all of its risk levels are 1 higher than the tile immediately up or left of it. However, risk levels above 9 wrap back around to 1.\n",
    "\n",
    "Using the full map, what is the lowest total risk of any path from the top left to the bottom right?"
   ]
  },
  {
   "cell_type": "code",
   "execution_count": null,
   "metadata": {
    "dotnet_interactive": {
     "language": "csharp"
    }
   },
   "outputs": [
    {
     "name": "stdout",
     "output_type": "stream",
     "text": [
      "<2953,2 <2959,6\r\n",
      "^2960,7 ^2967,8\r\n",
      "<2951,2 <2957,6\r\n",
      "^2958,7 ^2965,8\r\n",
      "<2949,2 <2955,6\r\n",
      "^2956,7 ^2963,8\r\n",
      "<2948,2 <2954,6\r\n",
      "^2955,7 ^2962,8\r\n",
      "<2946,2 <2952,6\r\n",
      "^2953,7 ^2960,8\r\n",
      "<2945,2 <2951,6\r\n",
      "^2952,7 ^2959,8\r\n",
      "<2944,2 <2950,6\r\n",
      "^2951,7 ^2958,8\r\n",
      "<2943,2 <2949,6\r\n",
      "^2950,7 ^2957,8\r\n",
      "<2942,2 <2948,6\r\n",
      "^2949,7 ^2956,8\r\n",
      "<2941,2 <2947,6\r\n",
      "^2948,7 ^2955,8\r\n",
      "<2941,2 <2947,6\r\n",
      "^2948,7 ^2955,8\r\n",
      "<2941,2 <2947,6\r\n",
      "^2948,7 ^2955,8\r\n"
     ]
    },
    {
     "data": {
      "text/html": [
       "<div class=\"dni-plaintext\">2955</div>"
      ]
     },
     "metadata": {},
     "output_type": "display_data"
    }
   ],
   "source": [
    "static int IncRisk(int risk, int extra)\n",
    "    => (risk - 1 + extra) % 9 + 1;\n",
    "\n",
    "pathRisks = Enumerable.Range(0, 5).SelectMany(y => risks.Select(l => \n",
    "    Enumerable.Range(0, 5).SelectMany(x => l.Select(r => new PathRisk(IncRisk(r, x + y), 9999, Dir.none))).ToArray()\n",
    ")).ToArray();\n",
    "pathRisks[0][0].MinRisk = 0;\n",
    "\n",
    "var (oldRisk, minRisk) = (9999, CalculateMinRisk(2));\n",
    "\n",
    "while (minRisk < oldRisk) {\n",
    "    (oldRisk, minRisk) = (minRisk, CalculateMinRisk(2));\n",
    "}\n",
    "\n",
    "CalculateMinRisk(2)"
   ]
  }
 ],
 "metadata": {
  "kernelspec": {
   "display_name": ".NET (C#)",
   "language": "C#",
   "name": ".net-csharp"
  },
  "language_info": {
   "name": "C#"
  }
 },
 "nbformat": 4,
 "nbformat_minor": 2
}
