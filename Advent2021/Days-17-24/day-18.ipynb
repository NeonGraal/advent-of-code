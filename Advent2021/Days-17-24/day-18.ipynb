{
 "cells": [
  {
   "cell_type": "markdown",
   "metadata": {},
   "source": [
    "# Day 18: Snailfish\n",
    "\n",
    "You descend into the ocean trench and encounter some snailfish. They say they saw the sleigh keys! They'll even tell you which direction the keys went if you help one of the smaller snailfish with his math homework.\n",
    "\n",
    "Snailfish numbers aren't like regular numbers. Instead, every snailfish number is a pair - an ordered list of two elements. Each element of the pair can be either a regular number or another pair.\n",
    "\n",
    "Pairs are written as [x,y], where x and y are the elements within the pair.\n",
    "\n",
    "This snailfish homework is about addition. To add two snailfish numbers, form a pair from the left and right parameters of the addition operator.\n",
    "\n",
    "There's only one problem: snailfish numbers must always be reduced, and the process of adding two snailfish numbers can result in snailfish numbers that need to be reduced.\n",
    "\n",
    "To reduce a snailfish number, you must repeatedly do the first action in this list that applies to the snailfish number:\n",
    "\n",
    "- If any pair is nested inside four pairs, the leftmost such pair explodes.\n",
    "- If any regular number is 10 or greater, the leftmost such regular number splits.\n",
    "\n",
    "Once no action in the above list applies, the snailfish number is reduced.\n",
    "\n",
    "During reduction, at most one action applies, after which the process returns to the top of the list of actions. For example, if split produces a pair that meets the explode criteria, that pair explodes before other splits occur.\n",
    "\n",
    "To explode a pair, the pair's left value is added to the first regular number to the left of the exploding pair (if any), and the pair's right value is added to the first regular number to the right of the exploding pair (if any). Exploding pairs will always consist of two regular numbers. Then, the entire exploding pair is replaced with the regular number 0.\n",
    "\n",
    "To split a regular number, replace it with a pair; the left element of the pair should be the regular number divided by two and rounded down, while the right element of the pair should be the regular number divided by two and rounded up.\n",
    "\n",
    "To check whether it's the right answer, the snailfish teacher only checks the magnitude of the final sum. The magnitude of a pair is 3 times the magnitude of its left element plus 2 times the magnitude of its right element. The magnitude of a regular number is just that number."
   ]
  },
  {
   "cell_type": "markdown",
   "metadata": {},
   "source": [
    "## Parse and Render"
   ]
  },
  {
   "cell_type": "code",
   "execution_count": null,
   "metadata": {
    "dotnet_interactive": {
     "language": "csharp"
    }
   },
   "outputs": [
    {
     "data": {
      "text/html": [
       "<table><thead><tr><th>Item1</th><th>Item2</th></tr></thead><tbody><tr><td><div class=\"dni-plaintext\">True</div></td><td><div class=\"dni-plaintext\">True</div></td></tr></tbody></table>"
      ]
     },
     "metadata": {},
     "output_type": "display_data"
    }
   ],
   "source": [
    "record struct Value(int depth, int value);\n",
    "\n",
    "abstract class Number {\n",
    "    abstract public long Magnitude();\n",
    "    abstract public Value[] ToValues(int depth);\n",
    "}\n",
    "\n",
    "class Regular: Number {\n",
    "    public int value;\n",
    "\n",
    "    override public long Magnitude()\n",
    "        => value;\n",
    "    override public Value[] ToValues(int depth) \n",
    "        => new[]{ new Value(depth, value) };\n",
    "    override public string ToString()\n",
    "        => $\"{value}\";\n",
    "}\n",
    "\n",
    "class Pair: Number {\n",
    "    public Number left;\n",
    "    public Number right;\n",
    "\n",
    "    override public long Magnitude()\n",
    "        => left.Magnitude() * 3 + right.Magnitude() * 2;\n",
    "    override public Value[] ToValues(int depth) \n",
    "        => left.ToValues(depth+1).Concat(right.ToValues(depth+1)).ToArray();\n",
    "    override public string ToString()\n",
    "        => $\"[{left},{right}]\";\n",
    "}\n",
    "\n",
    "(Number,string) Parse(string input) {\n",
    "    var first = input[0];\n",
    "    var remain = input[1..];\n",
    "    if (first == '[') {\n",
    "        (var left, remain) = Parse(remain);\n",
    "        (var right, remain) = Parse(remain[1..]);\n",
    "        return (new Pair { left = left, right = right}, remain[1..]);\n",
    "    }\n",
    "    return (new Regular { value = first - '0'}, remain);\n",
    "}\n",
    "\n",
    "(Number, Value[]) FromValuesAt(Value[] number, int depth) {\n",
    "    var first = number[0];\n",
    "    if (depth < first.depth) {\n",
    "        var (left, remain) = FromValuesAt(number, depth + 1);\n",
    "        if (remain.Length == 0) return (left, remain);\n",
    "        (var right, remain) = FromValuesAt(remain, depth + 1);\n",
    "        return (new Pair { left = left, right = right}, remain);\n",
    "    }\n",
    "    return (new Regular { value = first.value }, number[1..]);\n",
    "}\n",
    "\n",
    "Number FromValues(Value[] number)\n",
    "    => FromValuesAt(number, 0).Item1;\n",
    "    \n",
    "var s = \"[[[[1,3],[5,3]],[[1,3],[8,7]]],[[[4,9],[6,9]],[[8,2],[7,3]]]]\";\n",
    "var n = Parse(s).Item1;\n",
    "var v = n.ToValues(0);\n",
    "\n",
    "(n.ToString() == s, FromValues(v).ToString() == s)\n"
   ]
  },
  {
   "cell_type": "markdown",
   "metadata": {},
   "source": [
    "## Add\n"
   ]
  },
  {
   "cell_type": "code",
   "execution_count": null,
   "metadata": {
    "dotnet_interactive": {
     "language": "csharp"
    }
   },
   "outputs": [],
   "source": [
    "Value Inc(Value v) {\n",
    "    v.depth++;\n",
    "    return v;\n",
    "}\n",
    "\n",
    "Value[] Add(Value[] l, Value[] r)\n",
    "    => l.Select(Inc).Concat(r.Select(Inc)).ToArray();\n",
    "\n",
    "Number Add(Number l, Number r)\n",
    "    => new Pair { left = l, right = r};\n"
   ]
  },
  {
   "cell_type": "markdown",
   "metadata": {},
   "source": [
    "## Reduce"
   ]
  },
  {
   "cell_type": "code",
   "execution_count": null,
   "metadata": {
    "dotnet_interactive": {
     "language": "csharp"
    }
   },
   "outputs": [],
   "source": [
    "(bool,Value[]) Explode(Value[] n) {\n",
    "    var last = n.Length - 1;\n",
    "    for (var f = 0; f < last; f++) {\n",
    "        var s = f + 1;\n",
    "        if (n[f].depth == 5 && n[s].depth == 5) {\n",
    "            if (f > 0) n[f-1].value += n[f].value;\n",
    "            n[f] = new Value(4, 0);\n",
    "            if (s < last) {\n",
    "                n[s+1].value += n[s].value;\n",
    "                return (true, n.Take(s).Concat(n.Skip(s+1)).ToArray());\n",
    "            } else {\n",
    "                return (true, n[..s]);\n",
    "            }\n",
    "        }\n",
    "    }\n",
    "    return (false, n);\n",
    "}\n",
    "\n",
    "(bool,Value[]) Split(Value[] n) {\n",
    "    for (var i = 0; i < n.Length; i++) {\n",
    "        var v = n[i];\n",
    "        if (v.value > 9) {\n",
    "            var h = v.value/2;\n",
    "            var s = new Value(v.depth+1, v.value-h);\n",
    "            n[i].depth++;\n",
    "            n[i].value = h;\n",
    "            return (true, n[..i].Append(n[i]).Append(s).Concat(n[(i+1)..]).ToArray());\n",
    "        }\n",
    "    }\n",
    "    return (false, n);\n",
    "}\n",
    "\n",
    "Number Reduce(Number input) {\n",
    "    var result = input.ToValues(0);\n",
    "    var reduce = true;\n",
    "    while (reduce) {\n",
    "        (reduce, result) = Explode(result);\n",
    "        if (!reduce)\n",
    "            (reduce, result) = Split(result);\n",
    "        // Console.WriteLine(Render(result));\n",
    "        }\n",
    "    return FromValues(result);\n",
    "}"
   ]
  },
  {
   "cell_type": "markdown",
   "metadata": {},
   "source": [
    "## Input"
   ]
  },
  {
   "cell_type": "code",
   "execution_count": null,
   "metadata": {
    "dotnet_interactive": {
     "language": "csharp"
    }
   },
   "outputs": [
    {
     "data": {
      "text/html": [
       "<div class=\"dni-plaintext\">100</div>"
      ]
     },
     "metadata": {},
     "output_type": "display_data"
    }
   ],
   "source": [
    "using System.IO;\n",
    "// var input = File.ReadAllLines(@\"day-18.sample\");\n",
    "var input = File.ReadAllLines(@\"day-18.input\");\n",
    "\n",
    "var nums = input.Select(i => Parse(i).Item1).ToArray();\n",
    "\n",
    "nums.Length"
   ]
  },
  {
   "cell_type": "markdown",
   "metadata": {},
   "source": [
    "## Part 1\n",
    "\n",
    "Add up all of the snailfish numbers from the homework assignment in the order they appear. What is the magnitude of the final sum?"
   ]
  },
  {
   "cell_type": "code",
   "execution_count": null,
   "metadata": {
    "dotnet_interactive": {
     "language": "csharp"
    }
   },
   "outputs": [
    {
     "data": {
      "text/html": [
       "<div class=\"dni-plaintext\">4132</div>"
      ]
     },
     "metadata": {},
     "output_type": "display_data"
    }
   ],
   "source": [
    "var sum = nums.Aggregate((l, r) => Reduce(Add(l, r)));\n",
    "\n",
    "sum.Magnitude()"
   ]
  },
  {
   "cell_type": "markdown",
   "metadata": {},
   "source": [
    "## Part 2\n",
    "\n",
    "You notice a second question on the back of the homework assignment:\n",
    "\n",
    "What is the largest magnitude you can get from adding only two of the snailfish numbers?\n",
    "\n",
    "Note that snailfish addition is not commutative - that is, x + y and y + x can produce different results.\n",
    "\n",
    "What is the largest magnitude of any sum of two different snailfish numbers from the homework assignment?"
   ]
  },
  {
   "cell_type": "code",
   "execution_count": null,
   "metadata": {
    "dotnet_interactive": {
     "language": "csharp"
    }
   },
   "outputs": [
    {
     "data": {
      "text/html": [
       "<div class=\"dni-plaintext\">4685</div>"
      ]
     },
     "metadata": {},
     "output_type": "display_data"
    }
   ],
   "source": [
    "var sums = nums.SelectMany(x => nums, (x, y) => (a: x, b:y))\n",
    "    .Where(p => p.a != p.b)\n",
    "    .Select(p => Reduce(Add(p.a, p.b)))\n",
    "    .ToArray();\n",
    "\n",
    "sums.Max(v => v.Magnitude())"
   ]
  }
 ],
 "metadata": {
  "kernelspec": {
   "display_name": ".NET (C#)",
   "language": "C#",
   "name": ".net-csharp"
  },
  "language_info": {
   "name": "C#"
  }
 },
 "nbformat": 4,
 "nbformat_minor": 2
}
