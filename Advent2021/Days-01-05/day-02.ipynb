{
 "cells": [
  {
   "cell_type": "code",
   "execution_count": null,
   "metadata": {
    "dotnet_interactive": {
     "language": "csharp"
    }
   },
   "outputs": [],
   "source": [
    "enum Direction { forward, down, up };\n",
    "\n",
    "record Action(Direction direction, int distance);\n",
    "\n",
    "Action Parse(string line) {\n",
    "    var words = line.Split(' ');\n",
    "    return Enum.TryParse<Direction>(words[0], out var dir) && int.TryParse(words[1], out var dist)\n",
    "        ? new Action(dir, dist) : null;\n",
    "}"
   ]
  },
  {
   "cell_type": "code",
   "execution_count": null,
   "metadata": {
    "dotnet_interactive": {
     "language": "csharp"
    }
   },
   "outputs": [],
   "source": [
    "// Part 1\n",
    "record Location(int position, int depth);\n",
    "\n",
    "var Start = new Location(0, 0);\n",
    "\n",
    "Location Move(Location from, Action by)\n",
    "    => by.direction switch {\n",
    "        Direction.forward => new Location(from.position + by.distance, from.depth),\n",
    "        Direction.down => new Location(from.position, from.depth + by.distance),\n",
    "        Direction.up => new Location(from.position, from.depth - by.distance),\n",
    "        _ => from\n",
    "    };"
   ]
  },
  {
   "cell_type": "code",
   "execution_count": null,
   "metadata": {
    "dotnet_interactive": {
     "language": "csharp"
    }
   },
   "outputs": [],
   "source": [
    "// Part 2\n",
    "record Location(int position, int depth, int aim);\n",
    "\n",
    "var Start = new Location(0, 0, 0);\n",
    "\n",
    "Location Move(Location loc, Action by)\n",
    "    => by.direction switch {\n",
    "        Direction.forward => loc with { \n",
    "            position = loc.position + by.distance, \n",
    "            depth = loc.depth + loc.aim * by.distance },\n",
    "        Direction.down => loc with { aim = loc.aim + by.distance },\n",
    "        Direction.up => loc with { aim = loc.aim - by.distance },\n",
    "        _ => loc\n",
    "    };"
   ]
  },
  {
   "cell_type": "code",
   "execution_count": null,
   "metadata": {
    "dotnet_interactive": {
     "language": "csharp"
    }
   },
   "outputs": [
    {
     "data": {
      "text/html": [
       "<div class=\"dni-plaintext\">6</div>"
      ]
     },
     "metadata": {},
     "output_type": "display_data"
    }
   ],
   "source": [
    "var input = @\"forward 5,down 5,forward 8,up 3,down 8,forward 2\".Split(',');\n",
    "input.Length"
   ]
  },
  {
   "cell_type": "code",
   "execution_count": null,
   "metadata": {
    "dotnet_interactive": {
     "language": "csharp"
    }
   },
   "outputs": [
    {
     "data": {
      "text/html": [
       "<div class=\"dni-plaintext\">1000</div>"
      ]
     },
     "metadata": {},
     "output_type": "display_data"
    }
   ],
   "source": [
    "using System.IO;\n",
    "var input = File.ReadAllLines(@\"day-02.input\");\n",
    "input.Length"
   ]
  },
  {
   "cell_type": "code",
   "execution_count": null,
   "metadata": {
    "dotnet_interactive": {
     "language": "csharp"
    }
   },
   "outputs": [
    {
     "data": {
      "text/html": [
       "<div class=\"dni-plaintext\">1813664422</div>"
      ]
     },
     "metadata": {},
     "output_type": "display_data"
    }
   ],
   "source": [
    "var location = input\n",
    "    .Select(l => Parse(l))\n",
    "    .Aggregate(Start, (f, b) => Move(f, b));\n",
    "location.position * location.depth"
   ]
  }
 ],
 "metadata": {
  "kernelspec": {
   "display_name": ".NET (C#)",
   "language": "C#",
   "name": ".net-csharp"
  },
  "language_info": {
   "name": "C#"
  }
 },
 "nbformat": 4,
 "nbformat_minor": 2
}
