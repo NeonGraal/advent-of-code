{
 "cells": [
  {
   "cell_type": "markdown",
   "metadata": {},
   "source": [
    "--- Day 5: Hydrothermal Venture ---\n",
    "You come across a field of hydrothermal vents on the ocean floor! These vents constantly produce large, opaque clouds, so it would be best to avoid them if possible.\n",
    "\n",
    "They tend to form in lines; the submarine helpfully produces a list of nearby lines of vents (your puzzle input) for you to review.--- Day 5: Hydrothermal Venture ---\n",
    "You come across a field of hydrothermal vents on the ocean floor! These vents constantly produce large, opaque clouds, so it would be best to avoid them if possible.\n",
    "\n",
    "They tend to form in lines; the submarine helpfully produces a list of nearby lines of vents (your puzzle input) for you to review.\n",
    "\n",
    "Each line of vents is given as a line segment in the format x1,y1 -> x2,y2 where x1,y1 are the coordinates of one end the line segment and x2,y2 are the coordinates of the other end. These line segments include the points at both ends.\n",
    "\n",
    "For now, only consider horizontal and vertical lines: lines where either x1 = x2 or y1 = y2.\n",
    "\n",
    "To avoid the most dangerous areas, you need to determine the number of points where at least two lines overlap. In the above example, this is anywhere in the diagram with a 2 or larger - a total of 5 points.\n",
    "\n",
    "Consider only horizontal and vertical lines. At how many points do at least two lines overlap?"
   ]
  },
  {
   "cell_type": "code",
   "execution_count": null,
   "metadata": {
    "dotnet_interactive": {
     "language": "csharp"
    }
   },
   "outputs": [],
   "source": [
    "record Point(int x, int y) {\n",
    "    public Point Add(Point delta)\n",
    "        => new Point(x + delta.x, y + delta.y);\n",
    "}\n",
    "\n",
    "record Line(Point from, Point to) {\n",
    "    int Dir(int from, int to)\n",
    "        => from < to ? 1 : from > to ? -1 : 0;\n",
    "\n",
    "    public Point Delta()\n",
    "        => new Point(Dir(from.x, to.x), Dir(from.y, to.y));\n",
    "\n",
    "    public int Len(Point d)\n",
    "        => (d.x == 0 ? (to.y - from.y) * d.y : (to.x - from.x) * d.x) + 1;\n",
    "}\n",
    "\n",
    "Point ParsePoint(string part) {\n",
    "    var coords = part.Split(',');\n",
    "    return new Point(int.Parse(coords[0]), int.Parse(coords[1]));\n",
    "}\n",
    "\n",
    "Line ParseLine(string line) {\n",
    "    var parts = line.Split(' ');\n",
    "    return new Line(ParsePoint(parts[0]), ParsePoint(parts[2]));\n",
    "}"
   ]
  },
  {
   "cell_type": "code",
   "execution_count": null,
   "metadata": {
    "dotnet_interactive": {
     "language": "csharp"
    }
   },
   "outputs": [
    {
     "data": {
      "text/html": [
       "<div class=\"dni-plaintext\">500</div>"
      ]
     },
     "metadata": {},
     "output_type": "display_data"
    }
   ],
   "source": [
    "using System.IO;\n",
    "//var input = File.ReadAllLines(@\"day-05.sample\");\n",
    "var input = File.ReadAllLines(@\"day-05.input\");\n",
    "\n",
    "var lines = input.Select(ParseLine).ToArray();\n",
    "\n",
    "var size = lines.SelectMany(l => new[] {l.from.x, l.from.y, l.to.x, l.to.y}).Max() + 1;\n",
    "var range = Enumerable.Range(0, size);\n",
    "\n",
    "lines.Length"
   ]
  },
  {
   "cell_type": "code",
   "execution_count": null,
   "metadata": {
    "dotnet_interactive": {
     "language": "csharp"
    }
   },
   "outputs": [
    {
     "data": {
      "text/html": [
       "<div class=\"dni-plaintext\">4873</div>"
      ]
     },
     "metadata": {},
     "output_type": "display_data"
    }
   ],
   "source": [
    "// Part 1\n",
    "var diagram = range.Select(y => range.Select(x => 0).ToArray()).ToArray();\n",
    "\n",
    "foreach (var l in lines) {\n",
    "    var d = l.Delta();\n",
    "    if (d.x == 0 || d.y == 0) {\n",
    "        var len = l.Len(d);\n",
    "        for (var (pt, i) = (l.from, 0); i < len; i++, pt = pt.Add(d))\n",
    "            diagram[pt.y][pt.x]++;\n",
    "    }\n",
    "}\n",
    "\n",
    "// display(diagram);\n",
    "\n",
    "var danger = diagram.SelectMany(l => l).Where(c => c > 1).Count();\n",
    "danger"
   ]
  },
  {
   "cell_type": "code",
   "execution_count": null,
   "metadata": {
    "dotnet_interactive": {
     "language": "csharp"
    }
   },
   "outputs": [
    {
     "data": {
      "text/html": [
       "<div class=\"dni-plaintext\">19472</div>"
      ]
     },
     "metadata": {},
     "output_type": "display_data"
    }
   ],
   "source": [
    "// Part 2\n",
    "var diagram = range.Select(y => range.Select(x => 0).ToArray()).ToArray();\n",
    "\n",
    "\n",
    "foreach (var l in lines) {\n",
    "    var d = l.Delta();\n",
    "    var len = l.Len(d);\n",
    "\n",
    "    for (var (pt, i) = (l.from, 0); i < len; i++, pt = pt.Add(d))\n",
    "            diagram[pt.y][pt.x]++;\n",
    "}\n",
    "\n",
    "// display(diagram);\n",
    "\n",
    "var danger = diagram.SelectMany(l => l).Where(c => c > 1).Count();\n",
    "danger"
   ]
  }
 ],
 "metadata": {
  "kernelspec": {
   "display_name": ".NET (C#)",
   "language": "C#",
   "name": ".net-csharp"
  },
  "language_info": {
   "name": "C#"
  }
 },
 "nbformat": 4,
 "nbformat_minor": 2
}
