{
 "cells": [
  {
   "cell_type": "markdown",
   "metadata": {},
   "source": [
    "# Day 9: Smoke Basin\n",
    "\n",
    "These caves seem to be lava tubes. Parts are even still volcanically active; small hydrothermal vents release smoke into the caves that slowly settles like rain.\n",
    "\n",
    "If you can model how the smoke flows through the caves, you might be able to avoid it and be that much safer. The submarine generates a heightmap of the floor of the nearby caves for you (your puzzle input).\n",
    "\n",
    "Smoke flows to the lowest point of the area it's in.\n"
   ]
  },
  {
   "cell_type": "markdown",
   "metadata": {},
   "source": [
    "## Input"
   ]
  },
  {
   "cell_type": "code",
   "execution_count": null,
   "metadata": {
    "dotnet_interactive": {
     "language": "csharp"
    }
   },
   "outputs": [
    {
     "data": {
      "text/html": [
       "<table><thead><tr><th>Item1</th><th>Item2</th></tr></thead><tbody><tr><td><div class=\"dni-plaintext\">100</div></td><td><div class=\"dni-plaintext\">100</div></td></tr></tbody></table>"
      ]
     },
     "metadata": {},
     "output_type": "display_data"
    }
   ],
   "source": [
    "using System.IO;\n",
    "// var input = File.ReadAllLines(@\"day-09.sample\");\n",
    "var input = File.ReadAllLines(@\"day-09.input\");\n",
    "\n",
    "var width = input[0].Length;\n",
    "var height = input.Length;\n",
    "\n",
    "var highest = new int[width + 2];\n",
    "Array.Fill(highest, 10);\n",
    "var left = new int[] { 10 };\n",
    "\n",
    "var grid = new int[][] { highest }\n",
    "    .Concat(input.Select(l => \n",
    "        left.Concat(l.ToCharArray().Select(c => (int)c - '0')).Append(10).ToArray()))\n",
    "    .Append(highest).ToArray();\n",
    "\n",
    "(width, height)"
   ]
  },
  {
   "cell_type": "markdown",
   "metadata": {},
   "source": [
    "## Part 1\n",
    "\n",
    "Your first goal is to find the low points - the locations that are lower than any of its adjacent locations. Most locations have four adjacent locations (up, down, left, and right); locations on the edge or corner of the map have three or two adjacent locations, respectively. (Diagonal locations do not count as adjacent.)\n",
    "\n",
    "The risk level of a low point is 1 plus its height. \n",
    "\n",
    "Find all of the low points on your heightmap. What is the sum of the risk levels of all low points on your heightmap?"
   ]
  },
  {
   "cell_type": "code",
   "execution_count": null,
   "metadata": {
    "dotnet_interactive": {
     "language": "csharp"
    }
   },
   "outputs": [
    {
     "data": {
      "text/html": [
       "<table><thead><tr><th>Item1</th><th>Item2</th></tr></thead><tbody><tr><td><div class=\"dni-plaintext\">227</div></td><td><div class=\"dni-plaintext\">530</div></td></tr></tbody></table>"
      ]
     },
     "metadata": {},
     "output_type": "display_data"
    }
   ],
   "source": [
    "var count = 0;\n",
    "var risk = 0;\n",
    "for (var y = 1; y <= height; y++) {\n",
    "    var (prev, curr, next) = (grid[y-1], grid[y], grid[y+1]);\n",
    "    for (var x = 1; x <= width; x++) {\n",
    "        var val = curr[x];\n",
    "        if (val < curr[x-1] && val < curr[x+1] && val < prev[x] && val < next[x]) {\n",
    "            count++;\n",
    "            risk += 1 + curr[x];\n",
    "        }\n",
    "    }\n",
    "}\n",
    "\n",
    "(count, risk)"
   ]
  },
  {
   "cell_type": "markdown",
   "metadata": {},
   "source": [
    "## Part 2\n",
    "\n",
    "Next, you need to find the largest basins so you know what areas are most important to avoid.\n",
    "\n",
    "A basin is all locations that eventually flow downward to a single low point. Therefore, every low point has a basin, although some basins are very small. Locations of height 9 do not count as being in any basin, and all other locations will always be part of exactly one basin.\n",
    "\n",
    "The size of a basin is the number of locations within the basin, including the low point.\n",
    "\n",
    "Find the three largest basins and multiply their sizes together."
   ]
  },
  {
   "cell_type": "code",
   "execution_count": null,
   "metadata": {
    "dotnet_interactive": {
     "language": "csharp"
    }
   },
   "outputs": [
    {
     "data": {
      "text/html": [
       "<div class=\"dni-plaintext\">1019494</div>"
      ]
     },
     "metadata": {},
     "output_type": "display_data"
    }
   ],
   "source": [
    "var basins = new List<List<(int X,int Y)>>();\n",
    "\n",
    "void GrowBasin(List<(int X, int Y)> basin, int x, int y) {\n",
    "    if (grid[y][x] > 8 || basin.Contains((x, y))) return;\n",
    "\n",
    "    basin.Add((x, y));\n",
    "    GrowBasin(basin, x-1, y  );\n",
    "    GrowBasin(basin, x  , y-1);\n",
    "    GrowBasin(basin, x+1, y  );\n",
    "    GrowBasin(basin, x  , y+1);\n",
    "}\n",
    "\n",
    "for (var y = 1; y <= height; y++) {\n",
    "    var (prev, curr, next) = (grid[y-1], grid[y], grid[y+1]);\n",
    "    for (var x = 1; x <= width; x++) {\n",
    "        var val = curr[x];\n",
    "        if (val < curr[x-1] && val < curr[x+1] && val < prev[x] && val < next[x]) {\n",
    "            var basin = new List<(int X, int Y)>();\n",
    "            GrowBasin(basin, x, y);\n",
    "            basins.Add(basin);\n",
    "        }\n",
    "    }\n",
    "}\n",
    "\n",
    "basins.Select(b => b.Count()).OrderByDescending(l => l).Take(3).Aggregate(1, (a, b) => a * b)"
   ]
  }
 ],
 "metadata": {
  "kernelspec": {
   "display_name": ".NET (C#)",
   "language": "C#",
   "name": ".net-csharp"
  },
  "language_info": {
   "name": "C#"
  }
 },
 "nbformat": 4,
 "nbformat_minor": 2
}
