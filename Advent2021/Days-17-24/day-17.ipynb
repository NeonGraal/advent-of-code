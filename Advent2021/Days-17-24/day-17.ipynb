{
 "cells": [
  {
   "cell_type": "markdown",
   "metadata": {},
   "source": [
    "# Day 17: Trick Shot\n",
    "\n",
    "You finally decode the Elves' message. HI, the message says. You continue searching for the sleigh keys.\n",
    "\n",
    "Ahead of you is what appears to be a large ocean trench. Could the keys have fallen into it? You'd better send a probe to investigate.\n",
    "\n",
    "The probe launcher on your submarine can fire the probe with any integer velocity in the x (forward) and y (upward, or downward if negative) directions. For example, an initial x,y velocity like 0,10 would fire the probe straight up, while an initial velocity like 10,-1 would fire the probe forward at a slight downward angle.\n",
    "\n",
    "The probe's x,y position starts at 0,0. Then, it will follow some trajectory by moving in steps. On each step, these changes occur in the following order:\n",
    "\n",
    "The probe's x position increases by its x velocity.\n",
    "The probe's y position increases by its y velocity.\n",
    "Due to drag, the probe's x velocity changes by 1 toward the value 0; that is, it decreases by 1 if it is greater than 0, increases by 1 if it is less than 0, or does not change if it is already 0.\n",
    "Due to gravity, the probe's y velocity decreases by 1.\n",
    "For the probe to successfully make it into the trench, the probe must be on some trajectory that causes it to be within a target area after any step. The submarine computer has already calculated this target area (your puzzle input)."
   ]
  },
  {
   "cell_type": "code",
   "execution_count": null,
   "metadata": {
    "dotnet_interactive": {
     "language": "csharp"
    }
   },
   "outputs": [],
   "source": [
    "record struct Point(int x, int y) {\n",
    "    public override string ToString()\n",
    "        => $\"{x}/{y}\";\n",
    "    static public Point Zero()\n",
    "        => new Point(0,0);\n",
    "    public Point Add(Point to)\n",
    "        => new Point(x + to.x, y + to.y);\n",
    "    public Point Drag()\n",
    "        => new Point(x switch {\n",
    "                > 0 => x - 1,\n",
    "                < 0 => x + 1,\n",
    "                _ => 0,\n",
    "            }, y - 1);\n",
    "    public bool In(Target t)\n",
    "        => x >= t.xMin && x <= t.xMax && y >= t.yMin && y <= t.yMax;\n",
    "}\n",
    "\n",
    "record struct Target(int xMin, int xMax, int yMin, int yMax) {\n",
    "    public IEnumerable<Point> Scan() {\n",
    "        for (var x = xMin; x <= xMax; x++)\n",
    "            for (var y = yMin; y<= yMax; y++)\n",
    "                yield return new Point(x, y);\n",
    "    }\n",
    "    public bool Contains(Point p)\n",
    "        => p.x >= xMin && p.x <= xMax && p.y >= yMin && p.y <= yMax;\n",
    "}\n",
    "\n",
    "record struct State(Point pos, Point vel) {\n",
    "    public State Step()\n",
    "        => new State(pos.Add(vel), vel.Drag());\n",
    "}\n",
    "\n",
    "int MaxHeight(Point initial, Target target) {\n",
    "    var state = new State(Point.Zero(), initial);\n",
    "    var yMax = 0;\n",
    "    \n",
    "    while (state.pos.x <= target.xMax && state.pos.y >= target.yMin) {\n",
    "        state = state.Step();\n",
    "        if (state.pos.y > yMax) yMax = state.pos.y;        \n",
    "        // Console.WriteLine(state);\n",
    "        if (target.Contains(state.pos)) return yMax;\n",
    "    }\n",
    "    // Console.WriteLine(state);\n",
    "    return -1;\n",
    "}"
   ]
  },
  {
   "cell_type": "markdown",
   "metadata": {},
   "source": [
    "## Input"
   ]
  },
  {
   "cell_type": "code",
   "execution_count": null,
   "metadata": {
    "dotnet_interactive": {
     "language": "csharp"
    }
   },
   "outputs": [
    {
     "data": {
      "text/html": [
       "<table><thead><tr><th>xMin</th><th>xMax</th><th>yMin</th><th>yMax</th></tr></thead><tbody><tr><td><div class=\"dni-plaintext\">56</div></td><td><div class=\"dni-plaintext\">76</div></td><td><div class=\"dni-plaintext\">-162</div></td><td><div class=\"dni-plaintext\">-134</div></td></tr></tbody></table>"
      ]
     },
     "metadata": {},
     "output_type": "display_data"
    }
   ],
   "source": [
    "using System.IO;\n",
    "// var input = File.ReadAllText(@\"day-17.sample\");\n",
    "var input = File.ReadAllText(@\"day-17.input\");\n",
    "\n",
    "var parts = input.Split('=', '.', ',').Where(s => int.TryParse(s, out var r)).Select(s => int.Parse(s)).ToArray();\n",
    "\n",
    "var target = new Target(parts[0], parts[1], parts[2], parts[3]);\n",
    "\n",
    "target"
   ]
  },
  {
   "cell_type": "markdown",
   "metadata": {},
   "source": [
    "## Part 1\n",
    "\n",
    "If you're going to fire a highly scientific probe out of a super cool probe launcher, you might as well do it with style. How high can you make the probe go while still reaching the target area?\n",
    "\n",
    "Find the initial velocity that causes the probe to reach the highest y position and still eventually be within the target area after any step. What is the highest y position it reaches on this trajectory?"
   ]
  },
  {
   "cell_type": "code",
   "execution_count": null,
   "metadata": {
    "dotnet_interactive": {
     "language": "csharp"
    }
   },
   "outputs": [
    {
     "data": {
      "text/html": [
       "<table><thead><tr><th>xMin</th><th>xMax</th><th>yMin</th><th>yMax</th></tr></thead><tbody><tr><td><div class=\"dni-plaintext\">7</div></td><td><div class=\"dni-plaintext\">13</div></td><td><div class=\"dni-plaintext\">11</div></td><td><div class=\"dni-plaintext\">162</div></td></tr></tbody></table>"
      ]
     },
     "metadata": {},
     "output_type": "display_data"
    },
    {
     "data": {
      "text/html": [
       "<div class=\"dni-plaintext\">13041</div>"
      ]
     },
     "metadata": {},
     "output_type": "display_data"
    }
   ],
   "source": [
    "var range = new Target(\n",
    "    (int)Math.Floor(Math.Sqrt(target.xMin)),\n",
    "    (int)Math.Ceiling(Math.Sqrt(2*target.xMax)),\n",
    "    (int)Math.Floor(Math.Sqrt(-target.yMax)),\n",
    "    -target.yMin);\n",
    "    \n",
    "display(range);\n",
    "\n",
    "var heights = range.Scan().Select(p\n",
    "        => (p, MaxHeight(p, target))\n",
    "    ).ToArray();\n",
    "    \n",
    "heights.Max(t => t.Item2)\n"
   ]
  },
  {
   "cell_type": "markdown",
   "metadata": {},
   "source": [
    "## Part 2\n",
    "\n",
    "Maybe a fancy trick shot isn't the best idea; after all, you only have one probe, so you had better not miss.\n",
    "\n",
    "To get the best idea of what your options are for launching the probe, you need to find every initial velocity that causes the probe to eventually be within the target area after any step.\n",
    "\n",
    "How many distinct initial velocity values cause the probe to be within the target area after any step?"
   ]
  },
  {
   "cell_type": "code",
   "execution_count": null,
   "metadata": {
    "dotnet_interactive": {
     "language": "csharp"
    }
   },
   "outputs": [
    {
     "data": {
      "text/html": [
       "<table><thead><tr><th>xMin</th><th>xMax</th><th>yMin</th><th>yMax</th></tr></thead><tbody><tr><td><div class=\"dni-plaintext\">7</div></td><td><div class=\"dni-plaintext\">76</div></td><td><div class=\"dni-plaintext\">-162</div></td><td><div class=\"dni-plaintext\">162</div></td></tr></tbody></table>"
      ]
     },
     "metadata": {},
     "output_type": "display_data"
    },
    {
     "data": {
      "text/html": [
       "<div class=\"dni-plaintext\">1031</div>"
      ]
     },
     "metadata": {},
     "output_type": "display_data"
    }
   ],
   "source": [
    "var range = new Target(\n",
    "    (int)Math.Floor(Math.Sqrt(target.xMin)),\n",
    "    target.xMax,\n",
    "    target.yMin,\n",
    "    -target.yMin);\n",
    "    \n",
    "display(range);\n",
    "\n",
    "var heights = range.Scan().Select(p\n",
    "        => (p, MaxHeight(p, target))\n",
    "    ).ToArray();\n",
    "\n",
    "heights.Count(i => i.Item2 >= 0)"
   ]
  }
 ],
 "metadata": {
  "kernelspec": {
   "display_name": ".NET (C#)",
   "language": "C#",
   "name": ".net-csharp"
  },
  "language_info": {
   "name": "C#"
  }
 },
 "nbformat": 4,
 "nbformat_minor": 2
}
