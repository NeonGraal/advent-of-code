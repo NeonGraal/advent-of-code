{
 "cells": [
  {
   "cell_type": "markdown",
   "metadata": {},
   "source": [
    "# Day 24: Arithmetic Logic Unit\n",
    "\n",
    "Magic smoke starts leaking from the submarine's arithmetic logic unit (ALU). Without the ability to perform basic arithmetic and logic functions, the submarine can't produce cool patterns with its Christmas lights!\n",
    "\n",
    "It also can't navigate. Or run the oxygen system.\n",
    "\n",
    "Don't worry, though - you probably have enough oxygen left to give you enough time to build a new ALU."
   ]
  },
  {
   "cell_type": "markdown",
   "metadata": {},
   "source": [
    "## ALU\n",
    "\n",
    "The ALU is a four-dimensional processing unit: it has integer variables w, x, y, and z. These variables all start with the value 0. The ALU also supports six instructions:\n",
    "\n",
    "- inp a - Read an input value and write it to variable a.\n",
    "- add a b - Add the value of a to the value of b, then store the result in variable a.\n",
    "- mul a b - Multiply the value of a by the value of b, then store the result in variable a.\n",
    "- div a b - Divide the value of a by the value of b, truncate the result to an integer, then store the result in variable a. (Here, \"truncate\" means to round the value toward zero.)\n",
    "- mod a b - Divide the value of a by the value of b, then store the remainder in variable a. (This is also called the modulo operation.)\n",
    "- eql a b - If the value of a and b are equal, then store the value 1 in variable a. Otherwise, store the value 0 in variable a.\n",
    "\n",
    "In all of these instructions, a and b are placeholders; a will always be the variable where the result of the operation is stored (one of w, x, y, or z), while b can be either a variable or a number. Numbers can be positive or negative, but will always be integers.\n",
    "\n",
    "The ALU has no jump instructions; in an ALU program, every instruction is run exactly once in order from top to bottom. The program halts after the last instruction has finished executing.\n",
    "\n",
    "(Program authors should be especially cautious; attempting to execute div with b=0 or attempting to execute mod with a<0 or b<=0 will cause the program to crash and might even damage the ALU. These operations are never intended in any serious ALU program.)"
   ]
  },
  {
   "cell_type": "code",
   "execution_count": null,
   "metadata": {
    "dotnet_interactive": {
     "language": "csharp"
    }
   },
   "outputs": [],
   "source": [
    "static char ToReg(int r)\n",
    "    => (char)('w'+r);\n",
    "\n",
    "enum Ins { inp, add, mul, div, mod, eql, debug };\n",
    "\n",
    "record Op (Ins ins, int dest, int src, bool srcReg) {\n",
    "    static public Op Parse(string l) {\n",
    "        var parts = l.Split(' ');\n",
    "        var ins = Enum.Parse<Ins>(parts[0]);\n",
    "        if (ins == Ins.debug) return new Op(ins, 0, 0, false);\n",
    "        var dest = (int)(parts[1][0]-'w');\n",
    "        var src = 0;\n",
    "        if (ins == Ins.inp || int.TryParse(parts[2], out src))\n",
    "            return new Op(ins, dest, src, false);\n",
    "        return new Op(ins, dest, parts[2][0]-'w', true);\n",
    "    }\n",
    "\n",
    "    string Source => srcReg ? $\"{ToReg(src)}\" : $\"{src}\";\n",
    "\n",
    "    public override string ToString()\n",
    "        => ins switch {\n",
    "            Ins.debug => \"debug\",\n",
    "            Ins.inp => $\"inp {ToReg(dest)}\",\n",
    "            _ => $\"{ins} {ToReg(dest)} {Source}\"\n",
    "        };\n",
    "}\n"
   ]
  },
  {
   "cell_type": "markdown",
   "metadata": {},
   "source": [
    "## Processing"
   ]
  },
  {
   "cell_type": "code",
   "execution_count": null,
   "metadata": {
    "dotnet_interactive": {
     "language": "csharp"
    }
   },
   "outputs": [],
   "source": [
    "record State(int[] inp) {\n",
    "    decimal[] vars = new decimal[4];\n",
    "\n",
    "    public State Copy => new State(inp.ToArray()) { vars = vars.ToArray() };\n",
    "    public State Pop(out decimal src) {\n",
    "        src = inp[0];\n",
    "        return new State(inp[1..].ToArray()) { vars = vars.ToArray() };\n",
    "    }\n",
    "\n",
    "    public void Set(int reg, decimal val) => vars[reg] = val;\n",
    "    public decimal Get(int reg) => vars[reg];\n",
    "    \n",
    "    public override string ToString()\n",
    "        => string.Join(\" \", \n",
    "            vars.Select((v,r) => $\"{ToReg(r)}={v}\")\n",
    "                .Append(\":\")\n",
    "                .Concat(inp.Select(i => $\"{i}\"))\n",
    "        );\n",
    "}\n",
    "\n",
    "static decimal Calc(Ins? ins, decimal left, decimal right)\n",
    "    => ins switch {\n",
    "            Ins.add => left + right,\n",
    "            Ins.mul => left * right,\n",
    "            Ins.div => Math.Truncate(left / right),\n",
    "            Ins.mod => left % right,\n",
    "            Ins.eql => left == right ? 1 : 0,\n",
    "            _ => right\n",
    "        };\n",
    "\n",
    "static decimal Min(Ins? ins, decimal left, decimal right)\n",
    "    => ins switch {\n",
    "        Ins.inp or Ins.eql or Ins.mod => 0,\n",
    "        Ins.add => left + right,\n",
    "        Ins.mul => left * right,\n",
    "        Ins.div => right == 0 ? 0 : left / right,\n",
    "        _ => -1\n",
    "    };\n",
    "\n",
    "static decimal Max(Ins? ins, decimal left, decimal right)\n",
    "    => ins switch {\n",
    "        Ins.inp => 9,\n",
    "        Ins.add => left + right,\n",
    "        Ins.mul => left * right,\n",
    "        Ins.div => right == 0 ? 0 : left / right,\n",
    "        Ins.mod => right - 1,\n",
    "        Ins.eql => 1,\n",
    "        _ => -1\n",
    "    };\n",
    "\n",
    "static State Process(State s, Op o) {\n",
    "    if (o.ins == Ins.debug) {\n",
    "        Console.WriteLine(s);\n",
    "        return new State(s.inp.ToArray());\n",
    "    }\n",
    "\n",
    "    var res = s.Copy;\n",
    "    var left = s.Get(o.dest);\n",
    "    decimal right = 0;\n",
    "    if (o.ins == Ins.inp) {\n",
    "        res = s.Pop(out right);\n",
    "    } else {\n",
    "        right = o.srcReg ? s.Get(o.src) : o.src;\n",
    "    }\n",
    "\n",
    "    var val = Calc(o.ins, left, right);\n",
    "\n",
    "    res.Set(o.dest, val);\n",
    "    return res;\n",
    "}"
   ]
  },
  {
   "cell_type": "markdown",
   "metadata": {},
   "source": [
    "## Input"
   ]
  },
  {
   "cell_type": "code",
   "execution_count": null,
   "metadata": {
    "dotnet_interactive": {
     "language": "csharp"
    }
   },
   "outputs": [
    {
     "data": {
      "text/html": [
       "<div class=\"dni-plaintext\">252</div>"
      ]
     },
     "metadata": {},
     "output_type": "display_data"
    }
   ],
   "source": [
    "using System.IO;\n",
    "// var input = File.ReadAllLines(@\"day-24.sample\");\n",
    "var input = File.ReadAllLines(@\"day-24.input\");\n",
    "\n",
    "var ops = input.Select(Op.Parse).ToArray();\n",
    "\n",
    "// ops.Select(o => $\"{o}\");\n",
    "ops.Length"
   ]
  },
  {
   "cell_type": "markdown",
   "metadata": {},
   "source": [
    "## Part 1\n",
    "\n",
    "Once you have built a replacement ALU, you can install it in the submarine, which will immediately resume what it was doing when the ALU failed: validating the submarine's model number. To do this, the ALU will run the MOdel Number Automatic Detector program (MONAD, your puzzle input).\n",
    "\n",
    "Submarine model numbers are always fourteen-digit numbers consisting only of digits 1 through 9. The digit 0 cannot appear in a model number.\n",
    "\n",
    "When MONAD checks a hypothetical fourteen-digit model number, it uses fourteen separate inp instructions, each expecting a single digit of the model number in order of most to least significant. (So, to check the model number 13579246899999, you would give 1 to the first inp instruction, 3 to the second inp instruction, 5 to the third inp instruction, and so on.) This means that when operating MONAD, each input instruction should only ever be given an integer value of at least 1 and at most 9.\n",
    "\n",
    "Then, after MONAD has finished running all of its instructions, it will indicate that the model number was valid by leaving a 0 in variable z. However, if the model number was invalid, it will leave some other non-zero value in z.\n",
    "\n",
    "MONAD imposes additional, mysterious restrictions on model numbers, and legend says the last copy of the MONAD documentation was eaten by a tanuki. You'll need to figure out what MONAD does some other way.\n",
    "\n",
    "To enable as many submarine features as possible, find the largest valid fourteen-digit model number that contains no 0 digits. What is the largest model number accepted by MONAD?"
   ]
  },
  {
   "cell_type": "markdown",
   "metadata": {},
   "source": [
    "### Expr and Registers"
   ]
  },
  {
   "cell_type": "code",
   "execution_count": null,
   "metadata": {
    "dotnet_interactive": {
     "language": "csharp"
    }
   },
   "outputs": [],
   "source": [
    "static string Paren(bool paren, string expr)\n",
    "    => paren ? $\"({expr})\" : expr;\n",
    "\n",
    "record Expr(int op, Ins? ins, Expr dest, decimal? val, Expr src, decimal max, decimal min) {\n",
    "    static public Expr Val(int op, decimal val)\n",
    "        => new Expr(op, null, null, val, null, val, val);\n",
    "    static public Expr Op(int op, Ins ins, Expr dest, Expr src)\n",
    "        => new Expr(op, ins, dest, null, src, Min(ins, dest.min, src.min), Max(ins, dest.max, src.max));\n",
    "    public Expr ToVal(decimal val)\n",
    "        => this with { ins = null, val = val, min = val, max = val };\n",
    "    public Expr ToOp(Expr left, Expr right)\n",
    "        => this with { dest = left, src = right\n",
    "                , min = Min(ins, left.min, right.min) \n",
    "                , max = Max(ins, left.max, right.max)\n",
    "            };\n",
    "    public bool Is(decimal value)\n",
    "        => ins == null && val == value;\n",
    "    string Dest(int d) \n",
    "        => dest == null ? \"\"\n",
    "            : $\" [{dest.Describe(d)}]\";\n",
    "    string Src(int d)\n",
    "        => src == null ? $\" {val}\" \n",
    "            : $\" [{src.Describe(d)}]\";\n",
    "    string MinMax\n",
    "        => $\" {min}..{max}\";\n",
    "    string Describe(int d)\n",
    "        => d < 0 ? \"...\" \n",
    "            : ins == null ? $\"{op}: {val}\"\n",
    "            : $\"{op}: {ins}{Dest(d-1)}{Src(d-1)}{MinMax}\";\n",
    "    public override string ToString()\n",
    "        => Describe(4);\n",
    "    public string Show (int pri)\n",
    "        => ins switch {\n",
    "            null => $\"{val}\",\n",
    "            Ins.inp => $\"i{val}\",\n",
    "            Ins.add => Paren(pri != 0, $\"{dest.Show(0)}+{src?.Show(0)}{val}\"),\n",
    "            Ins.mul => Paren(pri != 2, $\"{dest.Show(2)}*{src?.Show(2)}{val}\"),\n",
    "            Ins.div => Paren(pri != 2, $\"{dest.Show(2)}/{src?.Show(2)}{val}\"),\n",
    "            Ins.mod => Paren(pri != 2, $\"{dest.Show(2)}%{src?.Show(2)}{val}\"),\n",
    "            Ins.eql => Paren(pri != 1, $\"{dest.Show(1)}={src?.Show(1)}{val}\"),\n",
    "            _ => $\"?{ins} \",\n",
    "        };\n",
    "    public decimal Process(int[] inputs)\n",
    "        => ins switch {\n",
    "            null => val.Value,\n",
    "            Ins.inp => inputs[(int)val.Value],\n",
    "            Ins.add or Ins.mul or Ins.div or Ins.mod or\n",
    "            Ins.eql => Calc(ins, dest.Process(inputs), src.Process(inputs)),\n",
    "            _ => -1,\n",
    "        };\n",
    "}\n",
    "\n",
    "record Registers {\n",
    "    int inp;\n",
    "    Expr[] vars  = new []{ Expr.Val(-1, 0), Expr.Val(-1, 0), Expr.Val(-1, 0), Expr.Val(-1, 0), };\n",
    "\n",
    "    public Registers Copy => new Registers { inp = inp, vars = vars.ToArray() };\n",
    "    public Registers Pop(out int src) {\n",
    "        src = inp;\n",
    "        return new Registers { inp = inp + 1, vars = vars.ToArray() };\n",
    "    }\n",
    "\n",
    "    public void Set(int reg, Expr val) => vars[reg] = val;\n",
    "    public Expr Get(int reg) => vars[reg];\n",
    "\n",
    "    public string Show\n",
    "        => string.Join(\"\\n\", vars\n",
    "            .Select((v,r) => $\"{ToReg(r)}={v.Show(0)}\")\n",
    "            .Prepend($\"Inputs {inp}\")\n",
    "        );\n",
    "\n",
    "    public override string ToString()\n",
    "        => string.Join(\"\\n\", vars\n",
    "                .Select((v,r) => $\"{ToReg(r)}={v}\")\n",
    "                .Prepend($\"Inputs {inp}\")\n",
    "            );\n",
    "}"
   ]
  },
  {
   "cell_type": "markdown",
   "metadata": {},
   "source": [
    "### Simplification"
   ]
  },
  {
   "cell_type": "code",
   "execution_count": null,
   "metadata": {
    "dotnet_interactive": {
     "language": "csharp"
    }
   },
   "outputs": [],
   "source": [
    "\n",
    "static Expr Distribute(Expr val, Ins? op, Expr times, Expr left, Expr right) {\n",
    "    var dest = Simplify(val, left, times);\n",
    "    var src = Simplify(val, right, times);\n",
    "    var result = val with { ins = op };\n",
    "    result = result.ToOp(dest, src);\n",
    "    // Console.WriteLine($\"R: {times}*({left} {op} {right}) -> {result}\\n\");\n",
    "    return result;\n",
    "}\n",
    "\n",
    "static Expr Product(Expr val, decimal times, Expr left, Expr right) {\n",
    "    if (left.ins == null) return val.ToOp(right, left.ToVal(left.val.Value * times));\n",
    "    return val.ToOp(left, right.ToVal(right.val.Value * times));\n",
    "}\n",
    "\n",
    "static Expr SimplifyMul(Expr val, Expr left, Expr right) {\n",
    "    if (left.ins == null) {\n",
    "        if (left.val == 0) return val.ToVal(0);\n",
    "        if (left.val == 1) return right;        \n",
    "        // if (right.ins is Ins.add or Ins.div)\n",
    "        //     return Distribute(val, right.ins, left, right.dest,  right.src);\n",
    "        // if (right.ins == Ins.mul && (right.dest.ins == null || right.src.ins == null))\n",
    "        //     return Product(val, left.val.Value, right.dest, right.src);\n",
    "    }\n",
    "    if (right.ins == null) {\n",
    "        if (right.val == 0) return val.ToVal(0);\n",
    "        if (right.val == 1) return left;\n",
    "        // if (left.ins is Ins.add or Ins.div)\n",
    "        //     return Distribute(val, left.ins, right, left.dest, left.src);\n",
    "        // if (left.ins == Ins.mul && (left.dest.ins == null || left.src.ins == null))\n",
    "        //     return Product(val, right.val.Value, left.dest, left.src);\n",
    "    }\n",
    "    return val.ToOp(left, right);\n",
    "}\n",
    "\n",
    "static Expr SimplifyMod(Expr val, Expr left, Expr right) {\n",
    "    if (right.ins == null) {\n",
    "        if (left.ins == Ins.add && left.dest.ins == Ins.mul && left.dest.src.Is(right.val.Value))\n",
    "            return left.src;\n",
    "        if (right.val > left.min)\n",
    "            return left;\n",
    "    }\n",
    "    return val.ToOp(left, right);\n",
    "}\n",
    "\n",
    "static Expr Simplify(Expr val, Expr left, Expr right) {\n",
    "    if (left.ins == null && right.ins == null) {\n",
    "        var num = Calc(val.ins, left.val.Value, right.val.Value);\n",
    "        return val.ToVal(num);\n",
    "    }\n",
    "\n",
    "    return val.ins switch {\n",
    "        Ins.add when left.Is(0) => right,\n",
    "        Ins.add when right.Is(0) => left,\n",
    "\n",
    "//        Ins.mul => SimplifyMul(val, left, right),\n",
    "        Ins.mul when left.Is(0) => val.ToVal(0),\n",
    "        Ins.mul when right.Is(0) => val.ToVal(0),\n",
    "        Ins.mul when left.Is(1) => right,\n",
    "        Ins.mul when right.Is(1) => left,\n",
    "\n",
    "        Ins.div when right.Is(1) => left,\n",
    "        Ins.mod => SimplifyMod(val, left, right),\n",
    "        Ins.eql when left.max < right.min || left.min > right.max\n",
    "            => val.ToVal(0),\n",
    "\n",
    "        _ => val.ToOp(left, right),\n",
    "    };\n",
    "}"
   ]
  },
  {
   "cell_type": "markdown",
   "metadata": {},
   "source": [
    "### Analysis"
   ]
  },
  {
   "cell_type": "code",
   "execution_count": null,
   "metadata": {
    "dotnet_interactive": {
     "language": "csharp"
    }
   },
   "outputs": [
    {
     "name": "stdout",
     "output_type": "stream",
     "text": [
      "Inputs 5\n",
      "w=72: inp 4 1..9\n",
      "x=79: eql [78: eql [77: add [54: inp 3 1..9] [77: -8] -7..1] [72: inp 4 1..9] 0..1] [79: 0] 0..1\n",
      "y=88: mul [87: add [72: inp 4 1..9] [87: 1] 2..10] [79: eql [78: eql [77: add [54: inp 3 1..9] [77: -8] -7..1] [72: inp 4 1..9] 0..1] [79: 0] 0..1] 0..10\n",
      "z=89: add [84: mul [76: div [71: add [66: mul [...] [...] 64480..210704] [54: inp 3 1..9] 64481..210713] [76: 26] 2480.0384615384615384615384615..8104.346153846153846153846154] [83: add [82: mul [81: 25] [79: eql [...] [...] 0..1] 0..25] [83: 1] 1..26] 2480.0384615384615384615384615..210713.00000000000000000000000] [88: mul [87: add [72: inp 4 1..9] [87: 1] 2..10] [79: eql [78: eql [77: add [...] [...] -7..1] [72: inp 4 1..9] 0..1] [79: 0] 0..1] 0..10] 2480.0384615384615384615384615..210723.00000000000000000000000\r\n",
      "inp w\r\n"
     ]
    },
    {
     "data": {
      "text/plain": [
       "Inputs 5\n",
       "w=i4\n",
       "x=((i3+-8)=i4=0)\n",
       "y=((i4+1)*((i3+-8)=i4=0))\n",
       "z=((((((((i0+2)*26)+i1+16)*26)+i2+9)*26)+i3)/26*((25*((i3+-8)=i4=0))+1))+((i4+1)*((i3+-8)=i4=0))"
      ]
     },
     "metadata": {},
     "output_type": "display_data"
    }
   ],
   "source": [
    "static Registers Analyze(Registers a, (Op o,int i) t) {\n",
    "    if (t.o.ins == Ins.debug) {\n",
    "        Console.WriteLine($\"{t.i}: {a}\");\n",
    "        return a;\n",
    "    }\n",
    "    var res = a.Copy;\n",
    "    var val = new Expr(t.i, t.o.ins, null, null, null, 0, 0);\n",
    "    if (val.ins == Ins.inp) {\n",
    "        res = a.Pop(out var inp);\n",
    "        val = val with { val = inp, min = 1, max = 9 };\n",
    "    } else  {\n",
    "        var left = a.Get(t.o.dest);\n",
    "        var right = t.o.srcReg ? a.Get(t.o.src) : Expr.Val(t.i, t.o.src);\n",
    "        var simpler = Simplify(val, left, right);\n",
    "        val = simpler ?? val.ToOp(left, right);\n",
    "    }\n",
    "\n",
    "    res.Set(t.o.dest, val);\n",
    "    return res;\n",
    "}\n",
    "\n",
    "var idx = 90;\n",
    "var expr = ops[..idx].Select((o,i) => (o,i)).Aggregate(new Registers(), Analyze);\n",
    "Console.WriteLine(expr);\n",
    "Console.WriteLine(ops[idx]);\n",
    "expr.Show"
   ]
  },
  {
   "cell_type": "code",
   "execution_count": null,
   "metadata": {
    "dotnet_interactive": {
     "language": "csharp"
    }
   },
   "outputs": [
    {
     "name": "stdout",
     "output_type": "stream",
     "text": [
      "(inp w, 90)\n",
      " L: 72: inp 4 1..9\n",
      " R: 90: 0\r\n"
     ]
    },
    {
     "data": {
      "text/plain": [
       "90: inp [72: inp 4 1..9] [90: 0] 0..9"
      ]
     },
     "metadata": {},
     "output_type": "display_data"
    }
   ],
   "source": [
    "var t = (o: ops[idx], i: idx);\n",
    "var val = new Expr(t.i, t.o.ins, null, null, null, 0, 0);\n",
    "var left = expr.Get(t.o.dest);\n",
    "var right = t.o.srcReg ? expr.Get(t.o.src) : Expr.Val(t.i, t.o.src);\n",
    "Console.WriteLine($\"{t}\\n L: {left}\\n R: {right}\");\n",
    "\n",
    "Simplify(val, left, right).ToString()"
   ]
  },
  {
   "cell_type": "markdown",
   "metadata": {},
   "source": [
    "## Part 1 Processed"
   ]
  },
  {
   "cell_type": "code",
   "execution_count": null,
   "metadata": {
    "dotnet_interactive": {
     "language": "csharp"
    }
   },
   "outputs": [],
   "source": [
    "record Display {\n",
    "    Dictionary<Expr,int> counts = new();\n",
    "    Dictionary<Expr,decimal> values = new();\n",
    "    HashSet<Expr> shown = new();\n",
    "\n",
    "    public void Collect(Expr expr) {\n",
    "        if (expr?.ins == null || expr.ins == Ins.inp) return;\n",
    "        if (counts.TryGetValue(expr, out var count))\n",
    "            counts[expr] = count + 1;\n",
    "        else {\n",
    "            counts.Add(expr, 1);\n",
    "            Collect(expr.dest);\n",
    "            Collect(expr.src);\n",
    "        }\n",
    "    }\n",
    "\n",
    "    public decimal Value(Expr expr, int[] inputs) {\n",
    "        if (values.TryGetValue(expr, out var result))\n",
    "            return result;\n",
    "\n",
    "        result = expr.ins switch {\n",
    "            null => expr.val.Value,\n",
    "            Ins.inp => inputs[(int)expr.val.Value],\n",
    "            Ins.add or Ins.mul or Ins.div or Ins.mod or\n",
    "            Ins.eql => Calc(expr.ins, Value(expr.dest, inputs), Value(expr.src, inputs)),\n",
    "        };\n",
    "\n",
    "        if (counts.TryGetValue(expr, out var count) && count > 1)\n",
    "            values[expr] = result;\n",
    "        return result;\n",
    "    }\n",
    "\n",
    "    bool Function(Expr expr, string label) {\n",
    "        if (counts.TryGetValue(expr, out var count) && count > 1) {\n",
    "            if (!shown.Contains(expr)) {\n",
    "                if (values.TryGetValue(expr, out var value))\n",
    "                    label += $\" {value} %{value%26}\";\n",
    "                Console.WriteLine(label + \" => \" + Expression(expr, 0));\n",
    "                shown.Add(expr);\n",
    "            }\n",
    "            return false;\n",
    "        }\n",
    "        return true;\n",
    "    }\n",
    "\n",
    "    string Operation(string op, int pri, Expr dest, Expr src) {\n",
    "        var left = $\"f_{dest.op}\";\n",
    "        var right = $\"f_{src.op}\";\n",
    "    \n",
    "        if (Function(dest, left)) left = Expression(dest, pri);\n",
    "        if (Function(src, right)) right = Expression(src, pri);\n",
    "    \n",
    "        return left + op + right;\n",
    "    }\n",
    "\n",
    "    string Expression(Expr expr, int pri)\n",
    "        => expr.ins switch {\n",
    "            null => $\"{expr.val}\",\n",
    "            Ins.inp => $\"i_{expr.val}\",\n",
    "            Ins.add => Paren(pri != 0, Operation(\"+\", 0, expr.dest, expr.src)),\n",
    "            Ins.mul => Paren(pri != 2, Operation(\"*\", 2, expr.dest, expr.src)),\n",
    "            Ins.div => Paren(pri != 2, Operation(\"/\", 2, expr.dest, expr.src)),\n",
    "            Ins.mod => Paren(pri != 2, Operation(\"%\", 2, expr.dest, expr.src)),\n",
    "            Ins.eql => Paren(pri != 1, Operation(\"=\", 1, expr.dest, expr.src)),\n",
    "            _ => $\"?{expr.ins} \",\n",
    "        };\n",
    "\n",
    "    public void Show(Expr expr) \n",
    "        => Console.WriteLine(Expression(expr, 0));\n",
    "}\n"
   ]
  },
  {
   "cell_type": "code",
   "execution_count": null,
   "metadata": {
    "dotnet_interactive": {
     "language": "csharp"
    }
   },
   "outputs": [
    {
     "name": "stdout",
     "output_type": "stream",
     "text": [
      "w=4 x=0 y=0 z=0 :\r\n"
     ]
    },
    {
     "data": {
      "text/html": [
       "<div class=\"dni-plaintext\">0</div>"
      ]
     },
     "metadata": {},
     "output_type": "display_data"
    },
    {
     "data": {
      "text/html": [
       "<div class=\"dni-plaintext\">0</div>"
      ]
     },
     "metadata": {},
     "output_type": "display_data"
    },
    {
     "name": "stdout",
     "output_type": "stream",
     "text": [
      "f_79 0 %0 => ((i_3+-8)=i_4=0)\r\n",
      "f_105 21 %21 => i_5+12\r\n",
      "f_115 0 %0 => ((f_105+-16)=i_6=0)\r\n",
      "f_125 8073 %13 => ((((((((((((i_0+2)*26)+i_1+16)*26)+i_2+9)*26)+i_3)/26*((25*f_79)+1))+((i_4+1)*f_79))*26)+f_105)/26*((25*f_115)+1))+((i_6+6)*f_115)\r\n",
      "f_133 0 %0 => (((f_125%26)+-4)=i_7=0)\r\n",
      "f_159 12 %12 => i_8+3\r\n",
      "f_169 0 %0 => ((f_159+-3)=i_9=0)\r\n",
      "f_195 16 %16 => i_10+9\r\n",
      "f_205 0 %0 => ((f_195+-7)=i_11=0)\r\n",
      "f_215 310 %24 => (((((((((f_125/26*((25*f_133)+1))+((i_7+6)*f_133))*26)+f_159)/26*((25*f_169)+1))+((i_9+5)*f_169))*26)+f_195)/26*((25*f_205)+1))+((i_11+3)*f_205)\r\n",
      "f_223 0 %0 => (((f_215%26)+-15)=i_12=0)\r\n",
      "f_233 11 %11 => (f_215/26*((25*f_223)+1))+((i_12+2)*f_223)\r\n",
      "f_241 0 %0 => ((f_233+-7)=i_13=0)\r\n",
      "(f_233/26*((25*f_241)+1))+((i_13+3)*f_241)\r\n"
     ]
    }
   ],
   "source": [
    "//95491959997964 too low\n",
    "//98491959997994 \n",
    "\n",
    "var start = new State(new[] {\n",
    "        9, 8, 4, 9, 1, 9, 5, \n",
    "        9, 9, 9, 7, 9, 9, 4\n",
    "    });\n",
    "var processed = ops.Aggregate(start, Process);\n",
    "Console.WriteLine(processed);\n",
    "\n",
    "var analyzed = ops.Select((o,i) => (o,i)).Aggregate(new Registers(), Analyze);\n",
    "var z = analyzed.Get(3);\n",
    "display(z.Process(start.inp));\n",
    "\n",
    "var exprs = new Display();\n",
    "exprs.Collect(z);\n",
    "display(exprs.Value(z, start.inp));\n",
    "exprs.Show(z)\n",
    "// exprs.OrderByDescending(kv => kv.Value).Select(kv => $\"{kv.Value} - {kv.Key.Show(0)}\")"
   ]
  },
  {
   "cell_type": "markdown",
   "metadata": {},
   "source": [
    "```\n",
    "i_3  -8 = i_4  => ( 9, 1 )\n",
    "i_5  -4 = i_6  => ( 9, 5 )\n",
    "i_2  +5 = i_7  => ( 4, 9 )\n",
    "i_8     = i_9  => ( 9, 9 )\n",
    "i_10 +2 = i_11 => ( 7, 9 )\n",
    "i_1  +1 = i_12 => ( 8, 9 )\n",
    "i_0  -5 = i_13 => ( 9, 4 )\n",
    "```"
   ]
  },
  {
   "cell_type": "markdown",
   "metadata": {},
   "source": [
    "# Part 2\n",
    "\n",
    "As the submarine starts booting up things like the Retro Encabulator, you realize that maybe you don't need all these submarine features after all.\n",
    "\n",
    "What is the smallest model number accepted by MONAD?\n",
    "\n",
    "```\n",
    "i_0  -5 = i_13 => ( 6, 1 )\n",
    "i_1  +1 = i_12 => ( 1, 2 )\n",
    "i_2  +5 = i_7  => ( 1, 6 )\n",
    "i_3  -8 = i_4  => ( 9, 1 )\n",
    "i_5  -4 = i_6  => ( 5, 1 )\n",
    "i_8     = i_9  => ( 1, 1 )\n",
    "i_10 +2 = i_11 => ( 1, 3 )\n",
    "```"
   ]
  },
  {
   "cell_type": "code",
   "execution_count": null,
   "metadata": {},
   "outputs": [
    {
     "name": "stdout",
     "output_type": "stream",
     "text": [
      "w=1 x=0 y=0 z=0 :\r\n"
     ]
    },
    {
     "data": {
      "text/html": [
       "<div class=\"dni-plaintext\">0</div>"
      ]
     },
     "metadata": {},
     "output_type": "display_data"
    },
    {
     "data": {
      "text/html": [
       "<div class=\"dni-plaintext\">0</div>"
      ]
     },
     "metadata": {},
     "output_type": "display_data"
    },
    {
     "name": "stdout",
     "output_type": "stream",
     "text": [
      "f_79 0 %0 => ((i_3+-8)=i_4=0)\r\n",
      "f_105 17 %17 => i_5+12\r\n",
      "f_115 0 %0 => ((f_105+-16)=i_6=0)\r\n",
      "f_125 5860 %10 => ((((((((((((i_0+2)*26)+i_1+16)*26)+i_2+9)*26)+i_3)/26*((25*f_79)+1))+((i_4+1)*f_79))*26)+f_105)/26*((25*f_115)+1))+((i_6+6)*f_115)\r\n",
      "f_133 0 %0 => (((f_125%26)+-4)=i_7=0)\r\n",
      "f_159 4 %4 => i_8+3\r\n",
      "f_169 0 %0 => ((f_159+-3)=i_9=0)\r\n",
      "f_195 10 %10 => i_10+9\r\n",
      "f_205 0 %0 => ((f_195+-7)=i_11=0)\r\n",
      "f_215 225 %17 => (((((((((f_125/26*((25*f_133)+1))+((i_7+6)*f_133))*26)+f_159)/26*((25*f_169)+1))+((i_9+5)*f_169))*26)+f_195)/26*((25*f_205)+1))+((i_11+3)*f_205)\r\n",
      "f_223 0 %0 => (((f_215%26)+-15)=i_12=0)\r\n",
      "f_233 8 %8 => (f_215/26*((25*f_223)+1))+((i_12+2)*f_223)\r\n",
      "f_241 0 %0 => ((f_233+-7)=i_13=0)\r\n",
      "(f_233/26*((25*f_241)+1))+((i_13+3)*f_241)\r\n"
     ]
    }
   ],
   "source": [
    "// 61191516111321\n",
    "\n",
    "var start = new State(new[] {\n",
    "    6, 1, 1, 9, 1, 5, 1, \n",
    "    6, 1, 1, 1, 3, 2, 1\n",
    "});\n",
    "var processed = ops.Aggregate(start, Process);\n",
    "Console.WriteLine(processed);\n",
    "\n",
    "var analyzed = ops.Select((o,i) => (o,i)).Aggregate(new Registers(), Analyze);\n",
    "var z = analyzed.Get(3);\n",
    "display(z.Process(start.inp));\n",
    "\n",
    "var exprs = new Display();\n",
    "exprs.Collect(z);\n",
    "display(exprs.Value(z, start.inp));\n",
    "exprs.Show(z)"
   ]
  }
 ],
 "metadata": {
  "kernelspec": {
   "display_name": ".NET (C#)",
   "language": "C#",
   "name": ".net-csharp"
  },
  "language_info": {
   "name": "C#"
  }
 },
 "nbformat": 4,
 "nbformat_minor": 2
}
