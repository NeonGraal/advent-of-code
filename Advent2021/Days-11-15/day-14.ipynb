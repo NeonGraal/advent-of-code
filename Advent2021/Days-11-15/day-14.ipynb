{
 "cells": [
  {
   "cell_type": "markdown",
   "metadata": {},
   "source": [
    "# Day 14: Extended Polymerization\n",
    "\n",
    "The incredible pressures at this depth are starting to put a strain on your submarine. The submarine has polymerization equipment that would produce suitable materials to reinforce the submarine, and the nearby volcanically-active caves should even have the necessary input elements in sufficient quantities.\n",
    "\n",
    "The submarine manual contains instructions for finding the optimal polymer formula; specifically, it offers a polymer template and a list of pair insertion rules (your puzzle input). You just need to work out what polymer would result after repeating the pair insertion process a few times."
   ]
  },
  {
   "cell_type": "markdown",
   "metadata": {},
   "source": [
    "## Input\n",
    "\n",
    "The first line is the polymer template - this is the starting point of the process.\n",
    "\n",
    "The following section defines the pair insertion rules. A rule like AB -> C means that when elements A and B are immediately adjacent, element C should be inserted between them. These insertions all happen simultaneously.\n",
    "\n",
    "Note that these pairs overlap: the second element of one pair is the first element of the next pair. Also, because all pairs are considered simultaneously, inserted elements are not considered to be part of a pair until the next step."
   ]
  },
  {
   "cell_type": "code",
   "execution_count": null,
   "metadata": {
    "dotnet_interactive": {
     "language": "csharp"
    }
   },
   "outputs": [
    {
     "data": {
      "text/plain": [
       "HBCHSNFFVOBNOFHFOBNO"
      ]
     },
     "metadata": {},
     "output_type": "display_data"
    }
   ],
   "source": [
    "using System.IO;\n",
    "// var input = File.ReadAllLines(@\"day-14.sample\");\n",
    "var input = File.ReadAllLines(@\"day-14.input\");\n",
    "\n",
    "var polymer = input[0].ToCharArray();\n",
    "var rules = input[2..^0].Select(l => l.Split(\" -> \"))\n",
    "    .ToDictionary(l => (l[0][0], l[0][1]), l => l[1][0]);\n",
    "\n",
    "// foreach (var k in rules.Keys) Console.WriteLine($\"{k} -> {rules[k]}\");\n",
    "new String(polymer)"
   ]
  },
  {
   "cell_type": "markdown",
   "metadata": {},
   "source": [
    "## Part 1\n",
    "\n",
    "Apply 10 steps of pair insertion to the polymer template and find the most and least common elements in the result. What do you get if you take the quantity of the most common element and subtract the quantity of the least common element?"
   ]
  },
  {
   "cell_type": "code",
   "execution_count": null,
   "metadata": {
    "dotnet_interactive": {
     "language": "csharp"
    }
   },
   "outputs": [
    {
     "data": {
      "text/html": [
       "<div class=\"dni-plaintext\">1588</div>"
      ]
     },
     "metadata": {},
     "output_type": "display_data"
    }
   ],
   "source": [
    "char[] Polymerize(char[] input) {\n",
    "    var prev = input[0];\n",
    "    return new[]{prev}.Concat(input[1..^0]\n",
    "        .SelectMany(c => {\n",
    "            var ins = rules[(prev, c)];\n",
    "            prev = c;\n",
    "            return new [] {ins, c};\n",
    "        })).ToArray();\n",
    "}\n",
    "\n",
    "var result = polymer;\n",
    "\n",
    "for (var i = 0; i < 10; i++) result = Polymerize(result);\n",
    "\n",
    "var counts = result.GroupBy(c => c).Select(g => g.Count()).ToArray();\n",
    "\n",
    "counts.Max() - counts.Min()\n"
   ]
  },
  {
   "cell_type": "markdown",
   "metadata": {},
   "source": [
    "## Part2\n",
    "\n",
    "The resulting polymer isn't nearly strong enough to reinforce the submarine. You'll need to run more steps of the pair insertion process; a total of 40 steps should do it.\n",
    "\n",
    "Apply 40 steps of pair insertion to the polymer template and find the most and least common elements in the result. What do you get if you take the quantity of the most common element and subtract the quantity of the least common element?"
   ]
  },
  {
   "cell_type": "code",
   "execution_count": null,
   "metadata": {
    "dotnet_interactive": {
     "language": "csharp"
    }
   },
   "outputs": [
    {
     "name": "stdout",
     "output_type": "stream",
     "text": [
      "(N, B) -> 1094472770278\r\n",
      "(B, B) -> 1094624367533\r\n",
      "(B, N) -> 1093021098466\r\n",
      "(B, C) -> 2903343622\r\n",
      "(C, C) -> 1451671811\r\n",
      "(C, N) -> 2541358752\r\n",
      "(N, C) -> 1089686941\r\n",
      "(C, B) -> 1554005966\r\n",
      "(B, H) -> 1490759980\r\n",
      "(H, C) -> 1152932927\r\n",
      "(H, H) -> 823172187\r\n",
      "(H, N) -> 485345134\r\n",
      "(N, H) -> 485345134\r\n",
      "(C, H) -> 1050598772\r\n",
      "(H, B) -> 1388425825\r\n"
     ]
    },
    {
     "data": {
      "text/html": [
       "<div class=\"dni-plaintext\">2188189693529</div>"
      ]
     },
     "metadata": {},
     "output_type": "display_data"
    }
   ],
   "source": [
    "var pairs = polymer.Zip(polymer[1..^0]).GroupBy(l => l).ToDictionary(l => l.Key, l => (decimal)l.LongCount());\n",
    "\n",
    "Dictionary<(char,char), decimal> Polymerize(Dictionary<(char,char), decimal> input)\n",
    "    => input.Keys.SelectMany(k => new [] {(k.Item1, rules[k], input[k]), (rules[k], k.Item2, input[k])})\n",
    "        .GroupBy(c => (c.Item1, c.Item2)).ToDictionary(g => g.Key, g => g.Sum(g => g.Item3));\n",
    "\n",
    "for (var i = 0; i < 40; i++) pairs = Polymerize(pairs);\n",
    "// pairs = Polymerize(pairs);\n",
    "\n",
    "var counts = pairs.Keys.Select(p => (p.Item2, pairs[p])).Append((polymer[0], 1))\n",
    "    .GroupBy(c => c.Item1).Select(g => (g.Key, g.Sum(c => c.Item2))).ToArray();\n",
    "\n",
    "foreach (var p in pairs) Console.WriteLine($\"{p.Key} -> {p.Value}\");\n",
    "\n",
    "counts.Max(v => v.Item2) - counts.Min(v => v.Item2)"
   ]
  }
 ],
 "metadata": {
  "kernelspec": {
   "display_name": ".NET (C#)",
   "language": "C#",
   "name": ".net-csharp"
  },
  "language_info": {
   "name": "C#"
  }
 },
 "nbformat": 4,
 "nbformat_minor": 2
}
