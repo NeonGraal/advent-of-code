{
 "cells": [
  {
   "cell_type": "markdown",
   "metadata": {},
   "source": [
    "# Day 25: Sea Cucumber\n",
    "\n",
    "This is it: the bottom of the ocean trench, the last place the sleigh keys could be. Your submarine's experimental antenna still isn't boosted enough to detect the keys, but they must be here. All you need to do is reach the seafloor and find them.\n",
    "\n",
    "At least, you'd touch down on the seafloor if you could; unfortunately, it's completely covered by two large herds of sea cucumbers, and there isn't an open space large enough for your submarine.\n",
    "\n",
    "You suspect that the Elves must have done this before, because just then you discover the phone number of a deep-sea marine biologist on a handwritten note taped to the wall of the submarine's cockpit.\n",
    "\n",
    "\"Sea cucumbers? Yeah, they're probably hunting for food. But don't worry, they're predictable critters: they move in perfectly straight lines, only moving forward when there's space to do so. They're actually quite polite!\"\n",
    "\n",
    "You explain that you'd like to predict when you could land your submarine.\n",
    "\n",
    "\"Oh that's easy, they'll eventually pile up and leave enough space for-- wait, did you say submarine? And the only place with that many sea cucumbers would be at the very bottom of the Mariana--\" You hang up the phone."
   ]
  },
  {
   "cell_type": "markdown",
   "metadata": {},
   "source": [
    "## Data\n",
    "\n",
    "There are two herds of sea cucumbers sharing the same region; one always moves east (>), while the other always moves south (v). Each location can contain at most one sea cucumber; the remaining locations are empty (.). "
   ]
  },
  {
   "cell_type": "code",
   "execution_count": null,
   "metadata": {
    "dotnet_interactive": {
     "language": "csharp"
    }
   },
   "outputs": [],
   "source": [
    "enum Spot { empty, east, south };\n",
    "\n",
    "struct Pos { int x; int y; }\n",
    "\n",
    "Spot[][] region;\n",
    "Pos[] easts;\n",
    "Pos[] souths;\n",
    "\n",
    "int width;\n",
    "int height;"
   ]
  },
  {
   "cell_type": "markdown",
   "metadata": {},
   "source": [
    "## Input\n",
    "\n",
    "The submarine helpfully generates a map of the situation (your puzzle input)."
   ]
  },
  {
   "cell_type": "code",
   "execution_count": null,
   "metadata": {
    "dotnet_interactive": {
     "language": "csharp"
    }
   },
   "outputs": [
    {
     "data": {
      "text/html": [
       "<table><thead><tr><th>Item1</th><th>Item2</th><th>Item3</th><th>Item4</th></tr></thead><tbody><tr><td><div class=\"dni-plaintext\">137</div></td><td><div class=\"dni-plaintext\">139</div></td><td><div class=\"dni-plaintext\">4709</div></td><td><div class=\"dni-plaintext\">4725</div></td></tr></tbody></table>"
      ]
     },
     "metadata": {},
     "output_type": "display_data"
    }
   ],
   "source": [
    "using System.IO;\n",
    "// var input = File.ReadAllLines(@\"day-25.sample\");\n",
    "var input = File.ReadAllLines(@\"day-25.input\");\n",
    "\n",
    "void Reset() {\n",
    "    var e = new List<Pos>();\n",
    "    var s = new List<Pos>();\n",
    "\n",
    "    region = input.Select((l,y) => l.ToCharArray()\n",
    "        .Select((c,x) => {\n",
    "            var p = new Pos(x,y);\n",
    "            if (c == '>') {\n",
    "                e.Add(p);\n",
    "                return Spot.east;\n",
    "            }\n",
    "            if (c == 'v') {\n",
    "                s.Add(p);\n",
    "                return Spot.south;\n",
    "            }\n",
    "            return Spot.empty;\n",
    "        }).ToArray()).ToArray();\n",
    "        \n",
    "    height = region.Length;\n",
    "    width = region[0].Length;\n",
    "\n",
    "    easts = e.ToArray();\n",
    "    souths = s.ToArray();\n",
    "\n",
    "    display((height, width, easts.Length, souths.Length));\n",
    "}\n",
    "\n",
    "Reset();"
   ]
  },
  {
   "cell_type": "markdown",
   "metadata": {},
   "source": [
    "## Stepping\n",
    "\n",
    "Every step, the sea cucumbers in the east-facing herd attempt to move forward one location, then the sea cucumbers in the south-facing herd attempt to move forward one location. When a herd moves forward, every sea cucumber in the herd first simultaneously considers whether there is a sea cucumber in the adjacent location it's facing (even another sea cucumber facing the same direction), and then every sea cucumber facing an empty location simultaneously moves into that location.\n",
    "\n",
    "Due to strong water currents in the area, sea cucumbers that move off the right edge of the map appear on the left edge, and sea cucumbers that move off the bottom edge of the map appear on the top edge. Sea cucumbers always check whether their destination location is empty before moving, even if that destination is on the opposite side of the map"
   ]
  },
  {
   "cell_type": "code",
   "execution_count": null,
   "metadata": {
    "dotnet_interactive": {
     "language": "csharp"
    }
   },
   "outputs": [
    {
     "data": {
      "text/html": [
       "<table><thead><tr><th>Item1</th><th>Item2</th><th>Item3</th><th>Item4</th></tr></thead><tbody><tr><td><div class=\"dni-plaintext\">9</div></td><td><div class=\"dni-plaintext\">10</div></td><td><div class=\"dni-plaintext\">23</div></td><td><div class=\"dni-plaintext\">26</div></td></tr></tbody></table>"
      ]
     },
     "metadata": {},
     "output_type": "display_data"
    },
    {
     "name": "stdout",
     "output_type": "stream",
     "text": [
      "v...>>.vv>\r\n",
      ".vv>>.vv..\r\n",
      ">>.>v>...v\r\n",
      ">>v>>.>.v.\r\n",
      "v>v.vv.v..\r\n",
      ">.>>..v...\r\n",
      ".vv..>.>v.\r\n",
      "v.v..>>v.v\r\n",
      "....v..v.>\r\n",
      "---\r\n",
      "....>.>v.>\r\n",
      "v.v>.>v.v.\r\n",
      ">v>>..>v..\r\n",
      ">>v>v>.>.v\r\n",
      ".>v.v...v.\r\n",
      "v>>.>vvv..\r\n",
      "..v...>>..\r\n",
      "vv...>>vv.\r\n",
      ">.v.v..v.v\r\n",
      "---\r\n"
     ]
    }
   ],
   "source": [
    "bool Step() {\n",
    "    var moved = false;\n",
    "    \n",
    "    var toMove = easts\n",
    "        .Select((e, i) => (i, x: (e.x + 1) % width, e.y))\n",
    "        .Where(e => region[e.y][e.x] == Spot.empty)\n",
    "        .ToArray();\n",
    "    foreach (var (i, x, y) in toMove) {\n",
    "        region[y][easts[i].x] = Spot.empty;\n",
    "        easts[i].x = x;\n",
    "        region[y][x] = Spot.east;\n",
    "        moved = true;\n",
    "    }\n",
    "\n",
    "\n",
    "    toMove = souths\n",
    "        .Select((e, i) => (i, e.x, y: (e.y + 1) % height))\n",
    "        .Where(e => region[e.y][e.x] == Spot.empty)\n",
    "        .ToArray();\n",
    "    foreach (var (i, x, y) in toMove) {\n",
    "        region[souths[i].y][x] = Spot.empty;\n",
    "        souths[i].y = y;\n",
    "        region[y][x] = Spot.south;\n",
    "        moved = true;\n",
    "    }\n",
    "    return moved;\n",
    "}\n",
    "\n",
    "void Show() {\n",
    "    foreach (var r in region) {\n",
    "        var l = r.Select(s => s switch {\n",
    "            Spot.east => '>', Spot.south => 'v', _ => '.'\n",
    "        }).ToArray();\n",
    "        Console.WriteLine(l);\n",
    "    }\n",
    "    Console.WriteLine(\"---\");\n",
    "}\n",
    "\n",
    "Reset();\n",
    "Show();\n",
    "Step();\n",
    "Show();\n"
   ]
  },
  {
   "cell_type": "markdown",
   "metadata": {},
   "source": [
    "## Part 1\n"
   ]
  },
  {
   "cell_type": "code",
   "execution_count": null,
   "metadata": {
    "dotnet_interactive": {
     "language": "csharp"
    }
   },
   "outputs": [
    {
     "data": {
      "text/html": [
       "<table><thead><tr><th>Item1</th><th>Item2</th><th>Item3</th><th>Item4</th></tr></thead><tbody><tr><td><div class=\"dni-plaintext\">137</div></td><td><div class=\"dni-plaintext\">139</div></td><td><div class=\"dni-plaintext\">4709</div></td><td><div class=\"dni-plaintext\">4725</div></td></tr></tbody></table>"
      ]
     },
     "metadata": {},
     "output_type": "display_data"
    },
    {
     "name": "stdout",
     "output_type": "stream",
     "text": [
      "100\r\n",
      "200\r\n",
      "300\r\n"
     ]
    },
    {
     "data": {
      "text/html": [
       "<div class=\"dni-plaintext\">374</div>"
      ]
     },
     "metadata": {},
     "output_type": "display_data"
    }
   ],
   "source": [
    "Reset();\n",
    "var count = 1;\n",
    "\n",
    "while (Step()) {\n",
    "    count++;\n",
    "    if (count % 100 == 0)\n",
    "        Console.WriteLine(count);\n",
    "}\n",
    "// Show();\n",
    "count"
   ]
  }
 ],
 "metadata": {
  "kernelspec": {
   "display_name": ".NET (C#)",
   "language": "C#",
   "name": ".net-csharp"
  },
  "language_info": {
   "name": "C#"
  }
 },
 "nbformat": 4,
 "nbformat_minor": 2
}
