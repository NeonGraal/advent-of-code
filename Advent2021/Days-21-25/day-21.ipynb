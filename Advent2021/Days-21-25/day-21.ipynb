{
 "cells": [
  {
   "cell_type": "markdown",
   "metadata": {},
   "source": [
    "# Day 21: Dirac Dice\n",
    "\n",
    "There's not much to do as you slowly descend to the bottom of the ocean. The submarine computer challenges you to a nice game of Dirac Dice.\n",
    "\n",
    "This game consists of a single die, two pawns, and a game board with a circular track containing ten spaces marked 1 through 10 clockwise. Each player's starting space is chosen randomly (your puzzle input). Player 1 goes first.\n",
    "\n",
    "Players take turns moving. On each player's turn, the player rolls the die three times and adds up the results. Then, the player moves their pawn that many times forward around the track (that is, moving clockwise on spaces in order of increasing value, wrapping back around to 1 after 10). So, if a player is on space 7 and they roll 2, 2, and 1, they would move forward 5 times, to spaces 8, 9, 10, 1, and finally stopping on 2.\n",
    "\n",
    "After each player moves, they increase their score by the value of the space their pawn stopped on. Players' scores start at 0. So, if the first player starts on space 7 and rolls a total of 5, they would stop on space 2 and add 2 to their score (for a total score of 2). The game immediately ends as a win for any player whose score reaches at least 1000.\n",
    "\n",
    "Since the first game is a practice game, the submarine opens a compartment labeled deterministic dice and a 100-sided die falls out. This die always rolls 1 first, then 2, then 3, and so on up to 100, after which it starts over at 1 again. Play using this die."
   ]
  },
  {
   "cell_type": "markdown",
   "metadata": {},
   "source": [
    "## Game"
   ]
  },
  {
   "cell_type": "code",
   "execution_count": null,
   "metadata": {
    "dotnet_interactive": {
     "language": "csharp"
    }
   },
   "outputs": [
    {
     "data": {
      "text/html": [
       "<table><thead><tr><th>Item1</th><th>Item2</th><th>Item3</th></tr></thead><tbody><tr><td><div class=\"dni-plaintext\">1</div></td><td><div class=\"dni-plaintext\">2</div></td><td><div class=\"dni-plaintext\">[ 100, 1, 2 ]</div></td></tr></tbody></table>"
      ]
     },
     "metadata": {},
     "output_type": "display_data"
    },
    {
     "data": {
      "text/html": [
       "<div class=\"dni-plaintext\">102</div>"
      ]
     },
     "metadata": {},
     "output_type": "display_data"
    },
    {
     "data": {
      "text/html": [
       "<table><thead><tr><th>Item1</th><th>Item2</th><th>Item3</th><th>Item4</th></tr></thead><tbody><tr><td><div class=\"dni-plaintext\">{ Player { pos = 7, score = 0 }: pos: 7, score: 0 }</div></td><td><div class=\"dni-plaintext\">19</div></td><td><div class=\"dni-plaintext\">False</div></td><td><div class=\"dni-plaintext\">{ Player { pos = 9, score = 9 }: pos: 9, score: 9 }</div></td></tr></tbody></table>"
      ]
     },
     "metadata": {},
     "output_type": "display_data"
    }
   ],
   "source": [
    "static var dice = 0;\n",
    "\n",
    "static int Roll() => dice++ % 100 + 1;\n",
    "\n",
    "display((Roll(), Roll(), Enumerable.Range(0, 100).Select(l => Roll()).ToArray().Skip(97)));\n",
    "\n",
    "record struct Player(int pos) {\n",
    "    public int score = 0;\n",
    "\n",
    "    public bool Move() {\n",
    "        var roll = Roll() + Roll() + Roll();\n",
    "        pos = (pos - 1 + roll) % 10 + 1;\n",
    "        score = score + pos;\n",
    "\n",
    "        return score >= 1000;\n",
    "    }\n",
    "}\n",
    "\n",
    "display(dice);\n",
    "\n",
    "var p = new Player(7);\n",
    "(p, 7 + 3 + 4 + 5, p.Move(), p)"
   ]
  },
  {
   "cell_type": "markdown",
   "metadata": {},
   "source": [
    "## Input"
   ]
  },
  {
   "cell_type": "code",
   "execution_count": null,
   "metadata": {
    "dotnet_interactive": {
     "language": "csharp"
    }
   },
   "outputs": [
    {
     "data": {
      "text/html": [
       "<table><thead><tr><th><i>index</i></th><th>value</th></tr></thead><tbody><tr><td>0</td><td><div class=\"dni-plaintext\">4</div></td></tr><tr><td>1</td><td><div class=\"dni-plaintext\">5</div></td></tr></tbody></table>"
      ]
     },
     "metadata": {},
     "output_type": "display_data"
    }
   ],
   "source": [
    "using System.IO;\n",
    "// var input = File.ReadAllLines(@\"day-21.sample\");\n",
    "var input = File.ReadAllLines(@\"day-21.input\");\n",
    "\n",
    "var starting = input.Select(l => int.Parse(l.Split(':')[1])).ToArray();\n",
    "\n",
    "starting"
   ]
  },
  {
   "cell_type": "markdown",
   "metadata": {},
   "source": [
    "## Part 1\n",
    "\n",
    "Play a practice game using the deterministic 100-sided die. The moment either player wins, what do you get if you multiply the score of the losing player by the number of times the die was rolled during the game?"
   ]
  },
  {
   "cell_type": "code",
   "execution_count": null,
   "metadata": {
    "dotnet_interactive": {
     "language": "csharp"
    }
   },
   "outputs": [
    {
     "data": {
      "text/html": [
       "<table><thead><tr><th><i>index</i></th><th>pos</th><th>score</th></tr></thead><tbody><tr><td>0</td><td><div class=\"dni-plaintext\">4</div></td><td><div class=\"dni-plaintext\">0</div></td></tr><tr><td>1</td><td><div class=\"dni-plaintext\">5</div></td><td><div class=\"dni-plaintext\">0</div></td></tr></tbody></table>"
      ]
     },
     "metadata": {},
     "output_type": "display_data"
    },
    {
     "data": {
      "text/html": [
       "<div class=\"dni-plaintext\">864900</div>"
      ]
     },
     "metadata": {},
     "output_type": "display_data"
    }
   ],
   "source": [
    "var game = starting.Select(l => new Player(l)).ToArray();\n",
    "display(game);\n",
    "\n",
    "dice = 0;\n",
    "\n",
    "while (!game[0].Move() && !game[1].Move()) ;\n",
    "\n",
    "dice * game.First(p => p.score < 1000).score"
   ]
  },
  {
   "cell_type": "markdown",
   "metadata": {},
   "source": [
    "## Part 2\n",
    "\n",
    "Now that you're warmed up, it's time to play the real game.\n",
    "\n",
    "A second compartment opens, this time labeled Dirac dice. Out of it falls a single three-sided die.\n",
    "\n",
    "As you experiment with the die, you feel a little strange. An informational brochure in the compartment explains that this is a quantum die: when you roll it, the universe splits into multiple copies, one copy for each possible outcome of the die. In this case, rolling the die always splits the universe into three copies: one where the outcome of the roll was 1, one where it was 2, and one where it was 3.\n",
    "\n",
    "The game is played the same as before, although to prevent things from getting too far out of hand, the game now ends when either player's score reaches at least 21.\n",
    "\n",
    "Using your given starting positions, determine every possible outcome. Find the player that wins in more universes; in how many universes does that player win?"
   ]
  },
  {
   "cell_type": "code",
   "execution_count": null,
   "metadata": {
    "dotnet_interactive": {
     "language": "csharp"
    }
   },
   "outputs": [
    {
     "data": {
      "text/html": [
       "<table><thead><tr><th><i>index</i></th><th>value</th></tr></thead><tbody><tr><td>0</td><td><div class=\"dni-plaintext\">0</div></td></tr><tr><td>1</td><td><div class=\"dni-plaintext\">0</div></td></tr><tr><td>2</td><td><div class=\"dni-plaintext\">575111835924670</div></td></tr><tr><td>3</td><td><div class=\"dni-plaintext\">392525387812463</div></td></tr></tbody></table>"
      ]
     },
     "metadata": {},
     "output_type": "display_data"
    }
   ],
   "source": [
    "static (int roll, int num)[] threeRolls = new [] { \n",
    "        (3,1), (4,3), (5,6), (6,7), (7,6), (8,3), (9,1),\n",
    "};\n",
    "const int splits = 27;\n",
    "const int winAfter = 20;\n",
    "\n",
    "record Dirac(int pos, int score = 0, int splits = 1, long count = 1) {\n",
    "    public Dirac[] Move()\n",
    "        => threeRolls\n",
    "            .Select(r => {\n",
    "                var next = (pos - 1 + r.roll) % 10 + 1;\n",
    "                return new Dirac(next, score + next, r.num, count * r.num);\n",
    "            }).ToArray();\n",
    "    public Dirac Split(int times)\n",
    "        => new Dirac(pos, score, times, count * times);\n",
    "}\n",
    "\n",
    "class Game {\n",
    "    public Dirac[] A { get; private set; }\n",
    "    public Dirac[] B { get; private set; }\n",
    "\n",
    "    public Game(int[] starting) {\n",
    "        A = new[] { new Dirac(starting[0]) };\n",
    "        B = new[] { new Dirac(starting[1]) };\n",
    "    }\n",
    "\n",
    "    public long winsA;\n",
    "    public long winsB;\n",
    "\n",
    "    long Wins(Dirac[] moves, Dirac[] other)\n",
    "        => moves.Where(p => p.score > winAfter).Sum(p => p.count)\n",
    "            * other.Sum(p => p.count);\n",
    "\n",
    "    public bool Play() {\n",
    "        var movesA = A.SelectMany(p => p.Move()).ToArray();\n",
    "        winsA = winsA + Wins(movesA, B);\n",
    "        A = movesA.Where(p => p.score <= winAfter).ToArray();\n",
    "\n",
    "        var movesB = B.SelectMany(p => p.Move()).ToArray();\n",
    "        winsB = winsB + Wins(movesB, A);\n",
    "        B = movesB.Where(p => p.score <= winAfter).ToArray();\n",
    "\n",
    "        return A.Any() && B.Any();\n",
    "    }\n",
    "\n",
    "    public long[] State\n",
    "        => new[] {A.Sum(p => p.count), B.Sum(p => p.count), winsA, winsB};\n",
    "}\n",
    "\n",
    "var game = new Game(starting);\n",
    "\n",
    "while(game.Play());\n",
    "\n",
    "game.State"
   ]
  }
 ],
 "metadata": {
  "kernelspec": {
   "display_name": ".NET (C#)",
   "language": "C#",
   "name": ".net-csharp"
  },
  "language_info": {
   "name": "C#"
  }
 },
 "nbformat": 4,
 "nbformat_minor": 2
}
