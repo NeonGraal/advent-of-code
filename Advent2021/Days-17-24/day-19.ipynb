{
 "cells": [
  {
   "cell_type": "markdown",
   "metadata": {},
   "source": [
    "# Day 19: Beacon Scanner\n",
    "\n",
    "As your probe drifted down through this area, it released an assortment of beacons and scanners into the water. It's difficult to navigate in the pitch black open waters of the ocean trench, but if you can build a map of the trench using data from the scanners, you should be able to safely reach the bottom.\n",
    "\n",
    "The beacons and scanners float motionless in the water; they're designed to maintain the same position for long periods of time. Each scanner is capable of detecting all beacons in a large cube centered on the scanner; beacons that are at most 1000 units away from the scanner in each of the three axes (x, y, and z) have their precise position determined relative to the scanner. However, scanners cannot detect other scanners. The submarine has automatically summarized the relative positions of beacons detected by each scanner (your puzzle input).\n",
    "\n",
    "For example, if a scanner is at x,y,z coordinates 500,0,-500 and there are beacons at -500,1000,-1500 and 1501,0,-500, the scanner could report that the first beacon is at -1000,1000,-1000 (relative to the scanner) but would not detect the second beacon at all.\n",
    "\n",
    "Unfortunately, while each scanner can report the positions of all detected beacons relative to itself, the scanners do not know their own position. You'll need to determine the positions of the beacons and scanners yourself.\n",
    "\n",
    "The scanners and beacons map a single contiguous 3d region. This region can be reconstructed by finding pairs of scanners that have overlapping detection regions such that there are at least 12 beacons that both scanners detect within the overlap. By establishing 12 common beacons, you can precisely determine where the scanners are relative to each other, allowing you to reconstruct the beacon map one scanner at a time.\n",
    "\n",
    "Unfortunately, there's a second problem: the scanners also don't know their rotation or facing direction. Due to magnetic alignment, each scanner is rotated some integer number of 90-degree turns around all of the x, y, and z axes. That is, one scanner might call a direction positive x, while another scanner might call that direction negative y. Or, two scanners might agree on which direction is positive x, but one scanner might be upside-down from the perspective of the other scanner. In total, each scanner could be in any of 24 different orientations: facing positive or negative x, y, or z, and considering any of four directions \"up\" from that facing."
   ]
  },
  {
   "cell_type": "markdown",
   "metadata": {},
   "source": [
    "## Data Structures"
   ]
  },
  {
   "cell_type": "code",
   "execution_count": null,
   "metadata": {
    "dotnet_interactive": {
     "language": "csharp"
    }
   },
   "outputs": [
    {
     "name": "stdout",
     "output_type": "stream",
     "text": [
      "2/3/4 | 0,1,0,0,0,-1,-1,0,0 | 3/-4/-2 | 0,0,-1,1,0,0,0,-1,0\r\n"
     ]
    },
    {
     "data": {
      "text/html": [
       "<div class=\"dni-plaintext\">True</div>"
      ]
     },
     "metadata": {},
     "output_type": "display_data"
    }
   ],
   "source": [
    "record class Pos(long x, long y, long z) {\n",
    "    Lazy<decimal> _mag = new(() => (decimal)Math.Sqrt(x*x + y*y + z*z));\n",
    "    public decimal Mag() => _mag.Value;\n",
    "    public override string ToString()\n",
    "        => $\"{x}/{y}/{z}\";\n",
    "    public Pos Add(Pos with)\n",
    "        => with == null ? this : new Pos(x + with.x, y + with.y, z + with.z);\n",
    "    public Pos Diff(Pos with)\n",
    "        => with == null ? this : new Pos(x - with.x, y - with.y, z - with.z);\n",
    "    public bool Match(Pos with)\n",
    "        => with != null && x == with.x && y == with.y && z == with.z;\n",
    "    public Pos Reorient(int[] o)\n",
    "        => new Pos(\n",
    "            x * o[0] + y * o[1] + z * o[2],\n",
    "            x * o[3] + y * o[4] + z * o[5],\n",
    "            x * o[6] + y * o[7] + z * o[8]);\n",
    "    static int S(long a, long b)\n",
    "        => a == b ? 1 : a == -b ? -1 : 0;\n",
    "    public int[] Orient(Pos with)\n",
    "        => new [] {\n",
    "            S(x, with.x), S(x, with.y), S(x, with.z),\n",
    "            S(y, with.x), S(y, with.y), S(y, with.z),\n",
    "            S(z, with.x), S(z, with.y), S(z, with.z)};\n",
    "}\n",
    "\n",
    "record Relative(int from, int to, Pos diff) {\n",
    "    public override string ToString()\n",
    "        => $\"{from}>{to} {diff}\";\n",
    "}\n",
    "\n",
    "record Scanner(int id, Pos[] beacons) {\n",
    "    public Pos pos;\n",
    "    public int[] orient = { 1, 0, 0, 0, 1, 0, 0, 0, 1};\n",
    "\n",
    "    public Pos Transformed(int b)\n",
    "        => beacons[b].Reorient(orient).Add(pos);\n",
    "    public Pos[] Transformed()\n",
    "        => beacons.Select(b => b.Reorient(orient).Add(pos)).ToArray();\n",
    "\n",
    "    public Relative[] Distances()\n",
    "        => beacons.SelectMany((f, i) => beacons\n",
    "                .Select((t, j) => new Relative(i, j, f.Diff(t)))\n",
    "                .Where(p => p.to != p.from))\n",
    "            .GroupBy(p => (p.from, p.to))\n",
    "            .Select(g => g.First())\n",
    "            .OrderBy(p => p.diff.Mag())\n",
    "            .ToArray();\n",
    "\n",
    "    public override string ToString()\n",
    "        => $\"{id}: {pos} {Show(orient)}\";\n",
    "}\n",
    "\n",
    "static string Show<T>(IEnumerable<T> list, string sep = \",\")\n",
    "    => string.Join(sep, list);\n",
    "\n",
    "var p = new Pos(2, 3, 4);\n",
    "var o = new[]{0,1,0,0,0,-1,-1,0,0};\n",
    "var p1 = p.Reorient(o);\n",
    "var o1 = p.Orient(p1);\n",
    "\n",
    "Console.WriteLine($\"{p} | {Show(o)} | {p1} | {Show(o1)}\");\n",
    "p1.Reorient(o1).Match(p)"
   ]
  },
  {
   "cell_type": "code",
   "execution_count": null,
   "metadata": {
    "dotnet_interactive": {
     "language": "csharp"
    }
   },
   "outputs": [],
   "source": [
    "record Mapping(Relative a, Relative b, decimal dist) {\n",
    "    public int[] Orient(int[] orient)\n",
    "        => a.diff.Reorient(orient).Orient(b.diff);\n",
    "    public override string ToString()\n",
    "        => $\"{a} ~ {b} {dist}\";\n",
    "}\n",
    "\n",
    "record Match(int from_a, int from_b, Mapping[] mappings) {\n",
    "    public override string ToString()\n",
    "        => $\"{from_a} ~ {from_b} #{mappings.Length}\";\n",
    "}\n",
    "\n",
    "class Beacon {\n",
    "    public int Id { get; }\n",
    "    public Beacon(int id)\n",
    "        => Id = id;\n",
    "    public Dictionary<int,int> scans { get; } = new();\n",
    "\n",
    "    public override string ToString()\n",
    "        => $\"{Id}:[{string.Join(\",\", scans.Select(s => $\"{s.Key}->{s.Value}\"))}]\";\n",
    "}\n",
    "\n",
    "Match[] Matches(Scanner a, Scanner b)\n",
    "    => a.Distances().SelectMany(da =>\n",
    "        b.Distances().Where(db => da.diff.Mag() == db.diff.Mag())\n",
    "            .Select(db => new Mapping(da, db, da.diff.Mag())\n",
    "            ))\n",
    "        .GroupBy(m => (a: m.a.from, b: m.b.from))\n",
    "        .Select(m => new Match(m.Key.a, m.Key.b, m.ToArray()))\n",
    "        .Where(m => m.mappings.Length > 1)\n",
    "        .OrderByDescending(m => m.mappings.Length)\n",
    "        .ToArray();\n"
   ]
  },
  {
   "cell_type": "markdown",
   "metadata": {},
   "source": [
    "## Input"
   ]
  },
  {
   "cell_type": "code",
   "execution_count": null,
   "metadata": {
    "dotnet_interactive": {
     "language": "csharp"
    }
   },
   "outputs": [
    {
     "data": {
      "text/html": [
       "<div class=\"dni-plaintext\">27</div>"
      ]
     },
     "metadata": {},
     "output_type": "display_data"
    }
   ],
   "source": [
    "using System.IO;\n",
    "// var input = File.ReadAllLines(@\"day-19.sample\");\n",
    "var input = File.ReadAllLines(@\"day-19.input\");\n",
    "\n",
    "Scanner[] Parse(string[] i) {\n",
    "    var s = new List<Scanner>();\n",
    "    var id = -1;\n",
    "    var b = new List<Pos>();\n",
    "\n",
    "    foreach (var l in i) {\n",
    "        if (string.IsNullOrEmpty(l)) {\n",
    "            s.Add(new Scanner(id, b.ToArray()));\n",
    "            continue;\n",
    "        }\n",
    "        if (l.Substring(0, 3) == \"---\") {\n",
    "            b.Clear();\n",
    "            var parts = l.Split(' ');\n",
    "            id = int.Parse(parts[2]);\n",
    "            continue;\n",
    "        }\n",
    "        var p = l.Split(',').Select(int.Parse).ToArray();\n",
    "        b.Add(new Pos(p[0], p[1], p[2]));\n",
    "    }\n",
    "    if (b.Count() > 0) {\n",
    "        s.Add(new Scanner(id, b.ToArray()));\n",
    "    }\n",
    "\n",
    "    return s.ToArray();\n",
    "}\n",
    "\n",
    "var scanners = Parse(input);\n",
    "\n",
    "scanners.Length"
   ]
  },
  {
   "cell_type": "markdown",
   "metadata": {},
   "source": [
    "## Part 1\n",
    "\n",
    "By finding pairs of scanners that both see at least 12 of the same beacons, you can assemble the entire map.\n",
    "\n",
    "Assemble the full map of beacons. How many beacons are there?"
   ]
  },
  {
   "cell_type": "code",
   "execution_count": null,
   "metadata": {
    "dotnet_interactive": {
     "language": "csharp"
    }
   },
   "outputs": [
    {
     "data": {
      "text/plain": [
       " 1 26"
      ]
     },
     "metadata": {},
     "output_type": "display_data"
    },
    {
     "data": {
      "text/plain": [
       " 2 25"
      ]
     },
     "metadata": {},
     "output_type": "display_data"
    },
    {
     "data": {
      "text/plain": [
       " 5 22"
      ]
     },
     "metadata": {},
     "output_type": "display_data"
    },
    {
     "data": {
      "text/plain": [
       "10 17"
      ]
     },
     "metadata": {},
     "output_type": "display_data"
    },
    {
     "data": {
      "text/plain": [
       "15 12"
      ]
     },
     "metadata": {},
     "output_type": "display_data"
    },
    {
     "data": {
      "text/plain": [
       "19  8"
      ]
     },
     "metadata": {},
     "output_type": "display_data"
    },
    {
     "data": {
      "text/plain": [
       "24  3"
      ]
     },
     "metadata": {},
     "output_type": "display_data"
    },
    {
     "data": {
      "text/html": [
       "<table><thead><tr><th><i>index</i></th><th>value</th></tr></thead><tbody><tr><td>0</td><td>0: 0/0/0 1,0,0,0,1,0,0,0,1</td></tr><tr><td>1</td><td>1: 1322/-2282/1116 0,1,0,-1,0,0,0,0,1</td></tr><tr><td>2</td><td>2: 2403/-2246/1125 0,-1,0,1,0,0,0,0,1</td></tr><tr><td>3</td><td>3: -1028/-7104/-25 0,-1,0,0,0,-1,1,0,0</td></tr><tr><td>4</td><td>4: 55/-3610/2500 0,-1,0,0,0,1,-1,0,0</td></tr><tr><td>5</td><td>5: 2512/-1193/-1206 0,0,-1,1,0,0,0,-1,0</td></tr><tr><td>6</td><td>6: -1083/-1099/-1143 1,0,0,0,0,-1,0,1,0</td></tr><tr><td>7</td><td>7: 179/-2321/1186 -1,0,0,0,0,-1,0,-1,0</td></tr><tr><td>8</td><td>8: 3669/-2272/1278 0,0,1,0,-1,0,1,0,0</td></tr><tr><td>9</td><td>9: 3625/-3552/1237 -1,0,0,0,-1,0,0,0,1</td></tr><tr><td>10</td><td>10: 1387/-3564/1219 0,0,-1,0,-1,0,-1,0,0</td></tr><tr><td>11</td><td>11: 1347/-7167/-19 0,0,1,1,0,0,0,1,0</td></tr><tr><td>12</td><td>12: 146/-7152/-60 0,1,0,1,0,0,0,0,-1</td></tr><tr><td>13</td><td>13: 132/-3536/27 -1,0,0,0,0,1,0,1,0</td></tr><tr><td>14</td><td>14: 114/-1031/35 -1,0,0,0,1,0,0,0,-1</td></tr><tr><td>15</td><td>15: 131/-1099/1290 0,1,0,0,0,1,1,0,0</td></tr><tr><td>16</td><td>16: 14/-2321/-21 0,0,-1,-1,0,0,0,1,0</td></tr><tr><td>17</td><td>17: 100/-6004/0 0,0,1,0,1,0,-1,0,0</td></tr><tr><td>18</td><td>18: -1128/-2352/-53 0,1,0,0,0,-1,-1,0,0</td></tr><tr><td>19</td><td>19: -1093/-3601/2390 1,0,0,0,-1,0,0,0,-1</td></tr><tr><td colspan=\"2\"><i>... (more)</i></td></tr></tbody></table>"
      ]
     },
     "metadata": {},
     "output_type": "display_data"
    },
    {
     "data": {
      "text/html": [
       "<div class=\"dni-plaintext\">353</div>"
      ]
     },
     "metadata": {},
     "output_type": "display_data"
    }
   ],
   "source": [
    "scanners[0].pos = new Pos(0, 0, 0);\n",
    "var known = scanners.Where(s => s.pos != null).ToArray();\n",
    "var unknown = scanners.Where(s => s.pos == null).ToArray();\n",
    "\n",
    "while (unknown.Length > 0) {\n",
    "    display($\"{known.Length,2} {unknown.Length,2}\");\n",
    "    var matches = known\n",
    "        .SelectMany(a => unknown\n",
    "            .Select(b => (a: a, b: b, matches: Matches(a, b)))\n",
    "            .Where(t => t.matches.Length > 11)\n",
    "        ).ToArray();\n",
    "        \n",
    "    foreach (var m in matches) {\n",
    "        var first = m.matches.OrderBy(t => t.from_a).First()\n",
    "            .mappings.OrderBy(t => t.b.from)\n",
    "            .First();\n",
    "        var o = m.b.orient = first.Orient(m.a.orient);\n",
    "        var pos_a = m.a.Transformed(first.a.from);\n",
    "        var bcn_b = m.b.beacons[first.b.from];\n",
    "        var scn_from = pos_a.Diff(bcn_b.Reorient(o));\n",
    "        m.b.pos = scn_from;\n",
    "        // display($\"{m.a}\\n- {first.a} {pos_a}\\n- {first.b} {bcn_b}\\n> {m.b} {scn_from}\");\n",
    "    }\n",
    "    known = scanners.Where(s => s.pos != null).ToArray();\n",
    "    unknown = scanners.Where(s => s.pos == null).ToArray();\n",
    "}\n",
    "\n",
    "display(scanners.Select(s => $\"{s.id}: {s.pos} {Show(s.orient)}\"));\n",
    "\n",
    "scanners.SelectMany(s => s.Transformed()).DistinctBy(p => $\"{p}\").Count()\n"
   ]
  },
  {
   "cell_type": "markdown",
   "metadata": {},
   "source": [
    "## Part 2\n",
    "\n",
    "Sometimes, it's a good idea to appreciate just how big the ocean is. Using the Manhattan distance, how far apart do the scanners get?\n",
    "\n",
    "What is the largest Manhattan distance between any two scanners?"
   ]
  },
  {
   "cell_type": "code",
   "execution_count": null,
   "metadata": {
    "dotnet_interactive": {
     "language": "csharp"
    }
   },
   "outputs": [
    {
     "data": {
      "text/html": [
       "<div class=\"dni-plaintext\">3621</div>"
      ]
     },
     "metadata": {},
     "output_type": "display_data"
    },
    {
     "data": {
      "text/html": [
       "<table><thead><tr><th>Item1</th><th>Item2</th></tr></thead><tbody><tr><td><div class=\"dni-plaintext\">( 8, 3, { 4697/4832/1303: x: 4697, y: 4832, z: 1303 } )</div></td><td><div class=\"dni-plaintext\">10832</div></td></tr></tbody></table>"
      ]
     },
     "metadata": {},
     "output_type": "display_data"
    }
   ],
   "source": [
    "var p1 = new Pos(1105,-1205,1229);\n",
    "var p2 = new Pos(-92,-2380,-20);\n",
    "\n",
    "var m = p1.Diff(p2);\n",
    "display(m.x + m.y + m.z);\n",
    "\n",
    "scanners.SelectMany(a => \n",
    "    scanners.Where(b => b.id != a.id)\n",
    "        .Select(b => (a_id: a.id, b_id: b.id, diff: a.pos.Diff(b.pos)))\n",
    "    )\n",
    "    .Select(t => (t, dist: t.diff.x + t.diff.y + t.diff.z))\n",
    "    .MaxBy(t => t.dist)"
   ]
  }
 ],
 "metadata": {
  "kernelspec": {
   "display_name": ".NET (C#)",
   "language": "C#",
   "name": ".net-csharp"
  },
  "language_info": {
   "name": "C#"
  }
 },
 "nbformat": 4,
 "nbformat_minor": 2
}
