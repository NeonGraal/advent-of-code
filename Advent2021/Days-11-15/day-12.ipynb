{
 "cells": [
  {
   "cell_type": "markdown",
   "metadata": {},
   "source": [
    "# Passage Pathing\n",
    "\n",
    "With your submarine's subterranean subsystems subsisting suboptimally, the only way you're \n",
    "getting out of this cave anytime soon is by finding a path yourself. \n",
    "Not just a path - the only way to know if you've found the best path is to find all of them.\n",
    "\n",
    "Fortunately, the sensors are still mostly working, and so you build a rough map of the remaining caves (your puzzle input)."
   ]
  },
  {
   "cell_type": "markdown",
   "metadata": {},
   "source": [
    "## Input\n",
    "\n",
    "This is a list of how all of the caves are connected. You start in the cave named start, and your destination is the cave named end. An entry like b-d means that cave b is connected to cave d - that is, you can move between them."
   ]
  },
  {
   "cell_type": "code",
   "execution_count": null,
   "metadata": {
    "dotnet_interactive": {
     "language": "csharp"
    }
   },
   "outputs": [
    {
     "data": {
      "text/html": [
       "<table><thead><tr><th><i>key</i></th><th>value</th></tr></thead><tbody><tr><td>bw</td><td><div class=\"dni-plaintext\">[ QF, US, po, ju ]</div></td></tr><tr><td>ne</td><td><div class=\"dni-plaintext\">[ end, XL, nu, QF, lo, ju ]</div></td></tr><tr><td>ju</td><td><div class=\"dni-plaintext\">[ po, ne, QF, end, bw ]</div></td></tr><tr><td>lo</td><td><div class=\"dni-plaintext\">[ QF, ne, XL, nu ]</div></td></tr><tr><td>start</td><td><div class=\"dni-plaintext\">[ po, nu, lo ]</div></td></tr><tr><td>US</td><td><div class=\"dni-plaintext\">[ bw ]</div></td></tr><tr><td>po</td><td><div class=\"dni-plaintext\">[ bw, XL, ju ]</div></td></tr><tr><td>XL</td><td><div class=\"dni-plaintext\">[ lo, nu, xb, ne, end, po ]</div></td></tr><tr><td>nu</td><td><div class=\"dni-plaintext\">[ lo, ne, XL ]</div></td></tr><tr><td>QF</td><td><div class=\"dni-plaintext\">[ bw, lo, ne, ju ]</div></td></tr><tr><td>xb</td><td><div class=\"dni-plaintext\">[ XL ]</div></td></tr></tbody></table>"
      ]
     },
     "metadata": {},
     "output_type": "display_data"
    }
   ],
   "source": [
    "using System.IO;\n",
    "// var input = File.ReadAllLines(@\"day-12.sample1\");\n",
    "var input = File.ReadAllLines(@\"day-12.input\");\n",
    "\n",
    "var paths = input.Select(l => l.Split('-')).ToArray();\n",
    "var caves = paths.Select(p => new[]{ p[1], p[0]})\n",
    "    .Concat(paths)\n",
    "    .Where(p => p[0] != \"end\" && p[1] != \"start\")\n",
    "    .ToLookup(p => p[0], p => p[1])\n",
    "    .ToDictionary(p => p.Key, p => p.ToArray());\n",
    "\n",
    "caves"
   ]
  },
  {
   "cell_type": "markdown",
   "metadata": {},
   "source": [
    "## Part 1\n",
    "\n",
    "Your goal is to find the number of distinct paths that start at start, end at end, and don't visit small caves more than once. There are two types of caves: big caves (written in uppercase, like A) and small caves (written in lowercase, like b). It would be a waste of time to visit any small cave more than once, but big caves are large enough that it might be worth visiting them multiple times. So, all paths you find should visit small caves at most once, and can visit big caves any number of times."
   ]
  },
  {
   "cell_type": "code",
   "execution_count": null,
   "metadata": {
    "dotnet_interactive": {
     "language": "csharp"
    }
   },
   "outputs": [
    {
     "data": {
      "text/html": [
       "<div class=\"dni-plaintext\">5104</div>"
      ]
     },
     "metadata": {},
     "output_type": "display_data"
    }
   ],
   "source": [
    "string[][] Paths(string[] path, string curr) {\n",
    "    var newPath = path.Append(curr).ToArray();\n",
    "    if (curr == \"end\") return new []{ newPath };\n",
    "\n",
    "    var paths = new List<string[]>();\n",
    "    foreach(var c in caves[curr]) {\n",
    "        if (c == c.ToLower() && path.Contains(c)) continue;\n",
    "        paths.AddRange(Paths(newPath, c));\n",
    "    }\n",
    "    return paths.ToArray();\n",
    "}\n",
    "\n",
    "Paths(new string[0], \"start\").Length"
   ]
  },
  {
   "cell_type": "markdown",
   "metadata": {},
   "source": [
    "## Part two\n",
    "\n",
    "After reviewing the available paths, you realize you might have time to visit a single small cave twice. Specifically, big caves can be visited any number of times, a single small cave can be visited at most twice, and the remaining small caves can be visited at most once. However, the caves named start and end can only be visited exactly once each: once you leave the start cave, you may not return to it, and once you reach the end cave, the path must end immediately."
   ]
  },
  {
   "cell_type": "code",
   "execution_count": null,
   "metadata": {
    "dotnet_interactive": {
     "language": "csharp"
    }
   },
   "outputs": [
    {
     "data": {
      "text/html": [
       "<div class=\"dni-plaintext\">149220</div>"
      ]
     },
     "metadata": {},
     "output_type": "display_data"
    }
   ],
   "source": [
    "string[][] Paths(string[] path, string curr, bool twice) {\n",
    "    var newPath = path.Append(curr).ToArray();\n",
    "    if (curr == \"end\") return new []{ newPath };\n",
    "\n",
    "    var paths = new List<string[]>();\n",
    "    foreach(var c in caves[curr]) {\n",
    "        if (c == c.ToLower() && path.Contains(c)) {\n",
    "            if (!twice)\n",
    "                paths.AddRange(Paths(newPath, c, true));\n",
    "            continue;\n",
    "        };\n",
    "        paths.AddRange(Paths(newPath, c, twice));\n",
    "    }\n",
    "    return paths.ToArray();\n",
    "}\n",
    "\n",
    "Paths(new string[0], \"start\", new string[0], false).Length"
   ]
  }
 ],
 "metadata": {
  "kernelspec": {
   "display_name": ".NET (C#)",
   "language": "C#",
   "name": ".net-csharp"
  },
  "language_info": {
   "name": "C#"
  }
 },
 "nbformat": 4,
 "nbformat_minor": 2
}
