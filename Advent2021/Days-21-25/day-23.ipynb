{
 "cells": [
  {
   "cell_type": "markdown",
   "metadata": {},
   "source": [
    "# Day 23: Amphipod\n",
    "\n",
    "A group of amphipods notice your fancy submarine and flag you down. \"With such an impressive shell,\" one amphipod says, \"surely you can help us with a question that has stumped our best scientists.\"\n",
    "\n",
    "They go on to explain that a group of timid, stubborn amphipods live in a nearby burrow. Four types of amphipods live there: Amber (A), Bronze (B), Copper (C), and Desert (D). They live in a burrow that consists of a hallway and four side rooms. The side rooms are initially full of amphipods, and the hallway is initially empty.\n",
    "\n",
    "They give you a diagram of the situation (your puzzle input), including locations of each amphipod (A, B, C, or D, each of which is occupying an otherwise open space), walls (#), and open space (.).\n",
    "\n",
    "The amphipods would like a method to organize every amphipod into side rooms so that each side room contains one type of amphipod and the types are sorted A-D going left to right."
   ]
  },
  {
   "cell_type": "markdown",
   "metadata": {},
   "source": [
    "## Data and Rules\n",
    "\n",
    "Amphipods can move up, down, left, or right so long as they are moving into an unoccupied open space. Each type of amphipod requires a different amount of energy to move one step: Amber amphipods require 1 energy per step, Bronze amphipods require 10 energy, Copper amphipods require 100, and Desert ones require 1000. The amphipods would like you to find a way to organize the amphipods that requires the least total energy.\n",
    "\n",
    "However, because they are timid and stubborn, the amphipods have some extra rules:\n",
    "\n",
    "- Amphipods will never stop on the space immediately outside any room. They can move into that space so long as they immediately continue moving. (Specifically, this refers to the four open spaces in the hallway that are directly above an amphipod starting position.)\n",
    "- Amphipods will never move from the hallway into a room unless that room is their destination room and that room contains no amphipods which do not also have that room as their own destination. If an amphipod's starting room is not its destination room, it can stay in that room until it leaves the room. (For example, an Amber amphipod will not move from the hallway into the right three rooms, and will only move into the leftmost room if that room is empty or if it only contains other Amber amphipods.)\n",
    "- Once an amphipod stops moving in the hallway, it will stay in that spot until it can move into a room. (That is, once any amphipod starts moving, any other amphipods currently in the hallway are locked in place and will not move again until they can move fully into a room.)"
   ]
  },
  {
   "cell_type": "markdown",
   "metadata": {},
   "source": [
    "### Location"
   ]
  },
  {
   "cell_type": "code",
   "execution_count": null,
   "metadata": {
    "dotnet_interactive": {
     "language": "csharp"
    }
   },
   "outputs": [],
   "source": [
    "static var doors = new int[] { 2, 4, 6, 8 };\n",
    "\n",
    "record struct Location(\n",
    "        int inRoom, // 0 == Hallway, 2 == Amber, 4 == Bronze, ...\n",
    "        int pos) {\n",
    "    public bool HomeFor(int colour)\n",
    "        => inRoom == colour * 2;\n",
    "    public bool Is(int isRoom, int isPos)\n",
    "        => inRoom == isRoom && pos == isPos;\n",
    "    public bool SameRoom(Location o)\n",
    "        => o.inRoom == inRoom && inRoom > 0;\n",
    "    public bool RoomBlock(Location o)\n",
    "        => SameRoom(o) && o.pos <= pos;\n",
    "    public bool Between(Location from, Location to) {\n",
    "        if (from.RoomBlock(this) || to.RoomBlock(this)) return true;\n",
    "        if (inRoom != 0) return false;\n",
    "\n",
    "        var start = from.HallPos;\n",
    "        var end = to.HallPos;\n",
    "\n",
    "        return start < end \n",
    "            ? (start <= pos && pos <= end)\n",
    "            : (start >= pos && pos >= end);\n",
    "    }\n",
    "    public int Steps(Location to)\n",
    "        => StepsTo(to.HallPos, to.RoomPos);\n",
    "    public int StepsTo(int end, int pos) {\n",
    "        var start = HallPos;\n",
    "        var depth = RoomPos + pos;\n",
    "    \n",
    "        return (start < end\n",
    "                ? end - start\n",
    "                : start - end\n",
    "            ) + depth;\n",
    "    }\n",
    "    public bool InHall { get; } = inRoom == 0;\n",
    "    public int HallPos { get; } = inRoom > 0 ? inRoom : pos;\n",
    "    public int RoomPos { get; } = inRoom > 0 ? pos : 0;\n",
    "\n",
    "    public override string ToString()\n",
    "        => $\"{inRoom}/{pos}\";\n",
    "    public Location Up()\n",
    "        => new Location(inRoom, pos - 1);\n",
    "}\n",
    "\n",
    "static var hallLocs = Enumerable.Range(0, 11)\n",
    "    .Where(i => !doors.Contains(i))\n",
    "    .Select(i => new Location(0, i))\n",
    "    .ToArray();\n",
    "\n",
    "static var roomDepth = 2;"
   ]
  },
  {
   "cell_type": "markdown",
   "metadata": {},
   "source": [
    "### Amphipod"
   ]
  },
  {
   "cell_type": "code",
   "execution_count": null,
   "metadata": {
    "dotnet_interactive": {
     "language": "csharp"
    }
   },
   "outputs": [],
   "source": [
    "record struct Amphipod(int colour, Location loc) {\n",
    "    public bool Is(int isColour, int isRoom, int isPos)\n",
    "        => colour == isColour && loc.Is(isRoom, isPos);\n",
    "    public bool Home { get; } = loc.HomeFor(colour);\n",
    "    public bool InHall { get; } = loc.InHall;\n",
    "    public int Cost { get; } \n",
    "        = colour switch { 1 => 1, 2 => 10, 3 => 100, 4 => 1000, _ => 0 };\n",
    "    public string Label { get; }\n",
    "        = colour switch { 1 => \"A\", 2 => \"B\", 3 => \"C\", 4 => \"D\", _ => \".\" };\n",
    "    public bool RoomMismatch(Amphipod a)\n",
    "        => a.colour != colour && loc.SameRoom(a.loc);\n",
    "    public bool BlockOut(Location l)\n",
    "        => loc.RoomBlock(l);\n",
    "    public bool BlockOut(Amphipod a)\n",
    "        => BlockOut(a.loc);\n",
    "    public bool BlockIn(Location l)\n",
    "        => l.RoomBlock(loc);\n",
    "    public bool Between(Location from, Location to)\n",
    "        => loc.Between(from, to);\n",
    "    public int Steps(Location to)\n",
    "        => loc.Steps(to);\n",
    "    public int Energy()\n",
    "        => Home ? 0 : loc.StepsTo(colour * 2, 1) * Cost;\n",
    "    public override string ToString() => $\"{Label} @{loc}\";\n",
    "}"
   ]
  },
  {
   "cell_type": "code",
   "execution_count": null,
   "metadata": {
    "dotnet_interactive": {
     "language": "csharp"
    }
   },
   "outputs": [
    {
     "data": {
      "text/html": [
       "<table><thead><tr><th>colour</th><th>loc</th><th>Home</th><th>InHall</th><th>Cost</th><th>Label</th></tr></thead><tbody><tr><td><div class=\"dni-plaintext\">3</div></td><td><div class=\"dni-plaintext\">{ 6/1: inRoom: 6, pos: 1, InHall: False, HallPos: 6, RoomPos: 1 }</div></td><td><div class=\"dni-plaintext\">True</div></td><td><div class=\"dni-plaintext\">False</div></td><td><div class=\"dni-plaintext\">100</div></td><td><div class=\"dni-plaintext\">C</div></td></tr></tbody></table>"
      ]
     },
     "metadata": {},
     "output_type": "display_data"
    }
   ],
   "source": [
    "var pod = new Amphipod(3, new Location(6, 1));\n",
    "pod"
   ]
  },
  {
   "cell_type": "markdown",
   "metadata": {},
   "source": [
    "## Processing"
   ]
  },
  {
   "cell_type": "markdown",
   "metadata": {},
   "source": [
    "\n",
    "### Action"
   ]
  },
  {
   "cell_type": "code",
   "execution_count": null,
   "metadata": {
    "dotnet_interactive": {
     "language": "csharp"
    }
   },
   "outputs": [],
   "source": [
    "class Action {\n",
    "    public Action(Amphipod actor, Location to) {\n",
    "        Actor = actor;\n",
    "        To = to;\n",
    "\n",
    "        Cost = Actor.Steps(To) * Actor.Cost;\n",
    "        Energy = Actor.Cost * To.StepsTo(Actor.colour * 2, 1);\n",
    "    }\n",
    "\n",
    "    public Amphipod Actor { get; }\n",
    "    public Location To { get; }\n",
    "    public int Cost { get; }\n",
    "    public int Energy { get; }\n",
    "\n",
    "    public bool IsTo(int isColour, int isRoom, int isPos)\n",
    "        => Actor.colour == isColour && To.Is(isRoom, isPos);\n",
    "\n",
    "    public bool Blocked(Amphipod block)\n",
    "        => Actor.BlockOut(block) || block.BlockIn(To) || block.Between(Actor.loc, To);\n",
    "    public bool Blocked(Location by)\n",
    "        => Actor.BlockOut(by) || by.RoomBlock(To) || by.Between(Actor.loc, To);\n",
    "    public int[] UsesHalls() {\n",
    "        var start = Actor.loc.HallPos;\n",
    "        var end = To.HallPos;\n",
    "\n",
    "        return doors.Concat(start < end \n",
    "                ? Enumerable.Range(start, end-start+1)\n",
    "                : Enumerable.Range(end, start-end+1)\n",
    "            ).Distinct().ToArray();\n",
    "    }\n",
    "    public override string ToString() => $\"{Actor} >{To} ${Cost}/{Energy}\";\n",
    "}"
   ]
  },
  {
   "cell_type": "markdown",
   "metadata": {},
   "source": [
    "### State"
   ]
  },
  {
   "cell_type": "code",
   "execution_count": null,
   "metadata": {
    "dotnet_interactive": {
     "language": "csharp"
    }
   },
   "outputs": [],
   "source": [
    "class State {\n",
    "    public State(Amphipod[] current, Action[] taken) {\n",
    "        Current = current ?? Array.Empty<Amphipod>();\n",
    "        Taken = taken ?? Array.Empty<Action>();\n",
    "\n",
    "        Key = new string(MakeRooms().SelectMany(r => r).ToArray());\n",
    "        Cost = Taken.Sum(a => a.Cost);\n",
    "        Energy = Current.Sum(a => a.Energy());\n",
    "        Finished = Current.All(a => a.Home);\n",
    "    }\n",
    "\n",
    "    public Amphipod[] Current { get; }\n",
    "    public Action[] Taken { get; }\n",
    "    public string Key { get; }\n",
    "    public bool Finished { get; }\n",
    "    public int Energy { get; }\n",
    "    public int Cost { get; }\n",
    "\n",
    "    public bool Valid(Action act) {\n",
    "        var actor = act.Actor;\n",
    "        var others = Current.Where(c => c != actor); // || (c.colour == actor.colour && c.loc.pos == 1)).ToArray();\n",
    "        if (act.To.HomeFor(actor.colour)) {\n",
    "            others = others.Where(o => o.colour != actor.colour || o.loc.pos == 1);\n",
    "        }\n",
    "        return !others.Any(o => act.Blocked(o));\n",
    "    }\n",
    "    public Amphipod[] Blocks(Action act)\n",
    "        => Current.Where(a => a.colour != act.Actor.colour && act.Blocked(a)).ToArray();\n",
    "\n",
    "    public Action[] Split(Action act, Amphipod a) {\n",
    "        if (a.InHall) return new[] { new Action(a, new Location(a.colour * 2, roomDepth)) };\n",
    "        return hallLocs.Select(l => new Action(a, l)).ToArray();\n",
    "        // Amphipod? inHall = Current.FirstOrDefault(i => i != a && i.loc.InHall);\n",
    "        // if (inHall is Amphipod blocker) {\n",
    "        //     splits = splits.Where(l => !l.Blocked(blocker.loc));\n",
    "        // }\n",
    "        // return splits.ToArray();\n",
    "    }\n",
    "    public State Perform(Action act) {\n",
    "        if (Finished) return this;\n",
    "\n",
    "        var inPlace = Current.Where(c => c.loc == act.To).ToArray();\n",
    "        while (act.To.RoomPos > 1 && inPlace.Any()) {\n",
    "            // Console.WriteLine($\"{act} blocked by {inPlace[0]}\");\n",
    "            act = new Action(act.Actor, act.To.Up());\n",
    "            inPlace = Current.Where(c => c.loc == act.To).ToArray();\n",
    "        }\n",
    "\n",
    "        var current = Current\n",
    "            .Select(c => c == act.Actor ? new Amphipod(c.colour, act.To) : c);\n",
    "\n",
    "        return new State(current.ToArray(), Taken.Append(act).ToArray());\n",
    "    }\n",
    "    public Action[] Needed()\n",
    "        => Current.Where(c => !c.Home)\n",
    "            .Select(a => new Action(a, new Location(a.colour * 2, roomDepth)))\n",
    "            .ToArray();\n",
    "\n",
    "    const char empty = ',';\n",
    "    char[][] MakeRooms() {\n",
    "        var r = Enumerable.Range(1, roomDepth+1).Select(i => new char[11]).ToArray();\n",
    "        foreach (var e in r) {\n",
    "            Array.Fill(e, ' ');\n",
    "            e[2] = empty; e[4] = empty; e[6] = empty; e[8] = empty;\n",
    "        }\n",
    "        Array.Fill(r[0], empty);\n",
    "        foreach (var a in Current) {\n",
    "            char c = (char)('A' + a.colour - 1);\n",
    "            var l = a.loc;\n",
    "            if (l.inRoom > 0 && l.pos > roomDepth || l.inRoom == 0 && l.pos > 10)\n",
    "                Console.WriteLine($\"Invalid current {a}\");\n",
    "            else if (l.inRoom == 0) r[0][l.pos] = c;\n",
    "            else r[l.pos][l.inRoom] = c;\n",
    "        }\n",
    "        return r;\n",
    "    }\n",
    "\n",
    "    public void ShowCurrent() {\n",
    "        foreach (var e in MakeRooms()) {\n",
    "            Console.WriteLine(e);\n",
    "        }\n",
    "        foreach (var t in Taken.Chunk(5)) {\n",
    "            Console.WriteLine(string.Join(\" | \", t.Select(a => a.ToString()).Prepend(\"\")));\n",
    "        }\n",
    "        Console.WriteLine($\"Energy : {Energy}  Cost: {Cost}\");\n",
    "    }\n",
    "    public bool Equivalent(State other)\n",
    "        => other != null \n",
    "            && Current.SequenceEqual(other.Current)\n",
    "            && Cost == other.Cost;\n",
    "}"
   ]
  },
  {
   "cell_type": "markdown",
   "metadata": {},
   "source": [
    "### Tests"
   ]
  },
  {
   "cell_type": "code",
   "execution_count": null,
   "metadata": {
    "dotnet_interactive": {
     "language": "csharp"
    }
   },
   "outputs": [
    {
     "name": "stdout",
     "output_type": "stream",
     "text": [
      ",,,,,,,,,,,\r\n",
      "  , , C ,  \r\n",
      "  , , C ,  \r\n",
      "Energy : 0  Cost: 0\r\n"
     ]
    },
    {
     "data": {
      "text/html": [
       "<i>(empty)</i>"
      ]
     },
     "metadata": {},
     "output_type": "display_data"
    }
   ],
   "source": [
    "var s = new State(new [] { new Amphipod(3, new Location(6, 2)), new Amphipod(3, new Location(6, 1))  }, null);\n",
    "s.ShowCurrent();\n",
    "s.Needed()"
   ]
  },
  {
   "cell_type": "code",
   "execution_count": null,
   "metadata": {
    "dotnet_interactive": {
     "language": "csharp"
    }
   },
   "outputs": [
    {
     "name": "stdout",
     "output_type": "stream",
     "text": [
      ",,,,,D,,,,,\r\n",
      "  , , , D  \r\n",
      "  , , , A  \r\n",
      "Energy : 4009  Cost: 0\r\n"
     ]
    },
    {
     "data": {
      "text/html": [
       "<table><thead><tr><th>Item1</th><th>Item2</th></tr></thead><tbody><tr><td><div class=\"dni-plaintext\">False</div></td><td><div class=\"dni-plaintext\">[ A @8/2 &gt;2/2 $10/3, D @0/5 &gt;8/2 $5000/3000 ]</div></td></tr></tbody></table>"
      ]
     },
     "metadata": {},
     "output_type": "display_data"
    },
    {
     "data": {
      "text/plain": [
       "D @0/5 >8/2 $5000/3000 ! D @8/1"
      ]
     },
     "metadata": {},
     "output_type": "display_data"
    },
    {
     "data": {
      "text/html": [
       "<table><thead><tr><th><i>index</i></th><th>value</th></tr></thead><tbody><tr><td>0</td><td>blocker A @8/2</td></tr></tbody></table>"
      ]
     },
     "metadata": {},
     "output_type": "display_data"
    }
   ],
   "source": [
    "var blocker = new Amphipod(4, new Location(8, 1));\n",
    "var s = new State(new[] { new Amphipod(1, new Location(8, 2)), new Amphipod(4, new Location(0, 5)), blocker }, null);\n",
    "\n",
    "s.ShowCurrent();\n",
    "display((s.Finished, s.Needed().Select(n => $\"{n}\")));\n",
    "\n",
    "var act = s.Needed()[1];\n",
    "display($\"{act} ! {blocker}\");\n",
    "var blocks = s.Blocks(act);\n",
    "blocks.Select(p => $\"blocker {p}\")\n"
   ]
  },
  {
   "cell_type": "markdown",
   "metadata": {},
   "source": [
    "## Attempts"
   ]
  },
  {
   "cell_type": "code",
   "execution_count": null,
   "metadata": {
    "dotnet_interactive": {
     "language": "csharp"
    }
   },
   "outputs": [],
   "source": [
    "IEnumerable<State> Attempt(State curr) {\n",
    "    foreach (var act in curr.Needed()) {\n",
    "        if (curr.Valid(act)) {\n",
    "            yield return curr.Perform(act);\n",
    "        } else {\n",
    "            foreach (var blocker in curr.Blocks(act)) {\n",
    "                var split = curr.Split(act, blocker);\n",
    "\n",
    "                foreach (var s in split) {\n",
    "                    if (curr.Valid(s)) {\n",
    "                        yield return curr.Perform(s);\n",
    "                    }\n",
    "                }\n",
    "            }\n",
    "        }\n",
    "    }\n",
    "}"
   ]
  },
  {
   "cell_type": "code",
   "execution_count": null,
   "metadata": {
    "dotnet_interactive": {
     "language": "csharp"
    }
   },
   "outputs": [],
   "source": [
    "State Minimum(State curr) {\n",
    "    var iteration = 1;\n",
    "    HashSet<string> tried = new();\n",
    "    HashSet<string> toTry = new();\n",
    "    Dictionary<string,State> pending = new();\n",
    "    State[] attempts;\n",
    "    string key = curr.Key;\n",
    "    pending[key] = curr;\n",
    "    toTry.Add(key);\n",
    "\n",
    "    while (pending.Count() > 0) {\n",
    "        if (++iteration % 1000 == 0)  {\n",
    "            Console.Write($\"{iteration}: {pending.Count()}  \");\n",
    "            if (iteration % 9000 == 0) Console.WriteLine();\n",
    "        }\n",
    "\n",
    "        attempts = Attempt(curr).ToArray();\n",
    "        curr = pending.Values.MinBy(s => s.Cost);\n",
    "        foreach (var a in attempts) {\n",
    "            key = a.Key;\n",
    "            if (tried.Contains(key)) continue;\n",
    "            if (toTry.Contains(key)) {\n",
    "                if (a.Cost >= pending[key].Cost) continue;\n",
    "            } else\n",
    "                toTry.Add(key);\n",
    "            pending[key] = a;\n",
    "            if (a.Cost < curr.Cost)\n",
    "                curr = a;\n",
    "        }\n",
    "\n",
    "        if (curr.Finished) return curr;\n",
    "\n",
    "        key = curr.Key;\n",
    "        tried.Add(key);\n",
    "        toTry.Remove(key);\n",
    "        pending.Remove(key);\n",
    "    }\n",
    "    return null;\n",
    "}"
   ]
  },
  {
   "cell_type": "code",
   "execution_count": null,
   "metadata": {
    "dotnet_interactive": {
     "language": "csharp"
    }
   },
   "outputs": [],
   "source": [
    "State[] Guided(State curr, (int,int,int)[] expected) {\n",
    "    State[] next;\n",
    "    State[] distinct = new[] { curr };\n",
    "    List<State> attempts = new();\n",
    "\n",
    "    foreach (var (c, r, p) in expected) {\n",
    "        attempts.Clear();\n",
    "        foreach (var d in distinct) {\n",
    "            attempts.AddRange(Attempt(d));\n",
    "        }\n",
    "\n",
    "        next = attempts.Where(n => n.Taken.Any(t => t.IsTo(c, r, p))).ToArray();\n",
    "        if (next.Length == 0) {\n",
    "            display((c, r, p));\n",
    "            display(next.Count());\n",
    "            break;\n",
    "        }\n",
    "        distinct = next.DistinctBy(c => (c.Energy, c.Cost)).ToArray();\n",
    "    }\n",
    "\n",
    "    return distinct;\n",
    "}"
   ]
  },
  {
   "cell_type": "markdown",
   "metadata": {},
   "source": [
    "## Input"
   ]
  },
  {
   "cell_type": "code",
   "execution_count": null,
   "metadata": {
    "dotnet_interactive": {
     "language": "csharp"
    }
   },
   "outputs": [
    {
     "data": {
      "text/html": [
       "<table><thead><tr><th><i>index</i></th><th>value</th></tr></thead><tbody><tr><td>0</td><td>D @2/1</td></tr><tr><td>1</td><td>D @2/2</td></tr><tr><td>2</td><td>C @4/1</td></tr><tr><td>3</td><td>A @4/2</td></tr><tr><td>4</td><td>B @6/1</td></tr><tr><td>5</td><td>A @6/2</td></tr><tr><td>6</td><td>C @8/1</td></tr><tr><td>7</td><td>B @8/2</td></tr></tbody></table>"
      ]
     },
     "metadata": {},
     "output_type": "display_data"
    }
   ],
   "source": [
    "using System.IO;\n",
    "// var input = File.ReadAllLines(@\"day-23.sample\");\n",
    "var input = File.ReadAllLines(@\"day-23.input\");\n",
    "\n",
    "var initial = new List<Amphipod>();\n",
    "\n",
    "foreach (var d in doors) {\n",
    "    var c = (int)(input[2][d+1] - 'A' + 1);\n",
    "    var p = new Location(d, 1);\n",
    "    var a = new Amphipod(c, p);\n",
    "    initial.Add(a);\n",
    "    c = (int)(input[3][d+1] - 'A' + 1);\n",
    "    p = new Location(d, 2);\n",
    "    a = new Amphipod(c, p);\n",
    "    initial.Add(a);\n",
    "}\n",
    "\n",
    "initial.Select(a => $\"{a}\")"
   ]
  },
  {
   "cell_type": "markdown",
   "metadata": {},
   "source": [
    "## Part 1\n",
    "\n",
    "What is the least energy required to organize the amphipods?"
   ]
  },
  {
   "cell_type": "code",
   "execution_count": null,
   "metadata": {
    "dotnet_interactive": {
     "language": "csharp"
    }
   },
   "outputs": [
    {
     "name": "stdout",
     "output_type": "stream",
     "text": [
      ",,,,,,,,,,,\r\n",
      "  D C B C  \r\n",
      "  D A A B  \r\n",
      "Energy : 17922  Cost: 0\r\n"
     ]
    }
   ],
   "source": [
    "roomDepth = 2;\n",
    "var start = new State(initial.ToArray(), null);\n",
    "start.ShowCurrent();"
   ]
  },
  {
   "cell_type": "code",
   "execution_count": null,
   "metadata": {
    "dotnet_interactive": {
     "language": "csharp"
    }
   },
   "outputs": [
    {
     "data": {
      "text/html": [
       "<table><thead><tr><th>Item1</th><th>Item2</th><th>Item3</th></tr></thead><tbody><tr><td><div class=\"dni-plaintext\">3</div></td><td><div class=\"dni-plaintext\">6</div></td><td><div class=\"dni-plaintext\">1</div></td></tr></tbody></table>"
      ]
     },
     "metadata": {},
     "output_type": "display_data"
    },
    {
     "data": {
      "text/html": [
       "<div class=\"dni-plaintext\">0</div>"
      ]
     },
     "metadata": {},
     "output_type": "display_data"
    },
    {
     "name": "stdout",
     "output_type": "stream",
     "text": [
      ",,,B,,,,,,,\r\n",
      "  D C , C  \r\n",
      "  D A A B  \r\n",
      " | B @6/1 >0/3 $40/20\r\n",
      "Energy : 17902  Cost: 40\r\n"
     ]
    }
   ],
   "source": [
    "var expected = new[] {\n",
    "    (2, 0, 3), (3, 6, 1), (4, 0, 5), (2, 4, 2), (2, 4, 1), (4, 0, 7), (1, 0, 9), (4, 8, 2), (4, 8, 1), (1, 2, 1)\n",
    "};\n",
    "\n",
    "var guided = Guided(start, expected);\n",
    "foreach (var g in guided) g.ShowCurrent();\n",
    "// display(guided[0].Current);\n",
    "// guided[0].Needed().Select(n => $\"{n}\")"
   ]
  },
  {
   "cell_type": "code",
   "execution_count": null,
   "metadata": {
    "dotnet_interactive": {
     "language": "csharp"
    }
   },
   "outputs": [
    {
     "name": "stdout",
     "output_type": "stream",
     "text": [
      "1000: 3229  2000: 4902  3000: 6037  4000: 7038  5000: 8003  6000: 9030  7000: 9541  8000: 10039  9000: 9576  \r\n",
      "10000: 8943  11000: 8281  12000: 7592  13000: 6945  14000: 6445  15000: 6409  16000: 6746  17000: 7091  18000: 7180  \r\n",
      "19000: 7504  20000: 7641  21000: 6832  22000: 6730  23000: 6645  24000: 6417  25000: 6534  26000: 6487  27000: 6291  \r\n",
      "28000: 5704  29000: 5065  30000: 5872  31000: 6381  32000: 7227  33000: 8219  34000: 9316  35000: 9829  36000: 10083  \r\n",
      "37000: 10189  38000: 10456  39000: 10637  40000: 10605  41000: 10739  42000: 10646  43000: 10271  44000: 9766  45000: 9387  \r\n",
      "46000: 9196  47000: 8888  48000: 8532  49000: 8051  50000: 7464  51000: 6979  52000: 6359  53000: 5879  54000: 5435  \r\n",
      "55000: 5178  56000: 4691  57000: 4339  58000: 3851  59000: 3496  60000: 2833  61000: 2148  62000: 1777  63000: 1772  \r\n",
      "64000: 1845  65000: 1872  66000: 2314  67000: 2188  68000: 2031  69000: 1964  ,,,,,,,,,,,\r\n",
      "  A B C D  \r\n",
      "  A B C D  \r\n",
      " | B @6/1 >0/7 $20/40 | A @6/2 >0/0 $8/3 | C @4/1 >0/5 $200/200 | A @4/2 >0/1 $5/2 | C @0/5 >6/2 $300/300\r\n",
      " | B @0/7 >4/2 $50/30 | C @8/1 >6/1 $400/200 | B @8/2 >4/1 $70/20 | D @2/1 >0/5 $4000/4000 | D @2/2 >0/3 $3000/6000\r\n",
      " | A @0/1 >2/2 $3/3 | A @0/0 >2/1 $3/2 | D @0/5 >8/2 $5000/3000 | D @0/3 >8/1 $6000/2000\r\n",
      "Energy : 0  Cost: 19059\r\n"
     ]
    }
   ],
   "source": [
    "var min = Minimum(start);\n",
    "min?.ShowCurrent();"
   ]
  },
  {
   "cell_type": "markdown",
   "metadata": {},
   "source": [
    "## Part 2\n",
    "\n",
    "As you prepare to give the amphipods your solution, you notice that the diagram they handed you was actually folded up. As you unfold it, you discover an extra part of the diagram.\n",
    "\n",
    "Between the first and second lines of text that contain amphipod starting positions, insert the following lines:\n",
    "```\n",
    "  #D#C#B#A#\n",
    "  #D#B#A#C#\n",
    "```"
   ]
  },
  {
   "cell_type": "code",
   "execution_count": null,
   "metadata": {
    "dotnet_interactive": {
     "language": "csharp"
    }
   },
   "outputs": [
    {
     "name": "stdout",
     "output_type": "stream",
     "text": [
      ",,,,,,,,,,,\r\n",
      "  D C B C  \r\n",
      "  D C B A  \r\n",
      "  D B A C  \r\n",
      "  D A A B  \r\n",
      "Energy : 40113  Cost: 0\r\n"
     ]
    }
   ],
   "source": [
    "roomDepth = 4;\n",
    "var extras = new (int c, int r, int p)[] { (4, 2, 2), (4, 2, 3), (3, 4, 2), (2, 4, 3), (2, 6, 2), (1, 6, 3), (1, 8, 2), (3, 8, 3) };\n",
    "var row1 = initial.Where(a => a.loc.pos == 1);\n",
    "var row4 = initial.Where(a => a.loc.pos == 2).Select(a => new Amphipod(a.colour, new Location(a.loc.inRoom, roomDepth)));\n",
    "\n",
    "var extended = extras.Select(t => new Amphipod(t.c, new Location(t.r, t.p))).Concat(row1).Concat(row4);\n",
    "\n",
    "start = new State(extended.ToArray(), null);\n",
    "start.ShowCurrent()"
   ]
  },
  {
   "cell_type": "code",
   "execution_count": null,
   "metadata": {
    "dotnet_interactive": {
     "language": "csharp"
    }
   },
   "outputs": [
    {
     "data": {
      "text/html": [
       "<table><thead><tr><th>Item1</th><th>Item2</th><th>Item3</th></tr></thead><tbody><tr><td><div class=\"dni-plaintext\">1</div></td><td><div class=\"dni-plaintext\">0</div></td><td><div class=\"dni-plaintext\">0</div></td></tr></tbody></table>"
      ]
     },
     "metadata": {},
     "output_type": "display_data"
    },
    {
     "data": {
      "text/html": [
       "<div class=\"dni-plaintext\">0</div>"
      ]
     },
     "metadata": {},
     "output_type": "display_data"
    },
    {
     "name": "stdout",
     "output_type": "stream",
     "text": [
      ",,,,,,,,,,D\r\n",
      "  , C B C  \r\n",
      "  D C B A  \r\n",
      "  D B A C  \r\n",
      "  D A A B  \r\n",
      " | D @2/1 >0/10 $9000/3000\r\n",
      "Energy : 35113  Cost: 9000\r\n"
     ]
    }
   ],
   "source": [
    "var expected = new[] {\n",
    "    (4, 0, 10), (1, 0, 0), (2, 0, 9), (2, 0, 7), (1, 0, 1), (3, 6, 3), (3, 6, 2), (2, 0, 5),\n",
    "    (4, 0, 3), (2, 4, 4), (2, 4, 3), (2, 4, 2), (3, 6, 1), (1, 0, 9), (4, 8, 4), (2, 4, 1),\n",
    "    (4, 8, 4), (4, 8, 3), (4, 8, 2), (1, 2, 3), (1, 2, 2), (1, 2, 1)\n",
    "};\n",
    "\n",
    "foreach (var g in Guided(start, expected)) g.ShowCurrent();"
   ]
  },
  {
   "cell_type": "code",
   "execution_count": null,
   "metadata": {
    "dotnet_interactive": {
     "language": "csharp"
    }
   },
   "outputs": [
    {
     "name": "stdout",
     "output_type": "stream",
     "text": [
      "1000: 3194  2000: 4839  3000: 6280  4000: 7595  5000: 8728  6000: 9793  7000: 10412  8000: 10843  9000: 11103  \r\n",
      "10000: 11512  11000: 11994  12000: 12447  13000: 13084  14000: 13577  15000: 13995  16000: 14345  17000: 14465  18000: 14483  \r\n",
      "19000: 14336  20000: 14396  21000: 14333  22000: 14095  23000: 13557  24000: 12933  25000: 12223  26000: 11489  27000: 10709  \r\n",
      "28000: 10123  29000: 9466  30000: 9010  31000: 8467  32000: 8056  33000: 7494  34000: 7365  35000: 7384  36000: 7063  \r\n",
      "37000: 7006  38000: 7065  39000: 7065  40000: 6984  41000: 6795  42000: 6224  43000: 6130  44000: 5781  45000: 5712  \r\n",
      "46000: 5625  47000: 5357  48000: 5270  49000: 4735  50000: 4803  51000: 5029  52000: 5709  53000: 6371  54000: 6973  \r\n",
      "55000: 7417  56000: 7849  57000: 8118  58000: 8454  59000: 8473  60000: 8556  61000: 8275  62000: 8055  63000: 7704  \r\n",
      "64000: 7134  65000: 6592  66000: 6144  67000: 5624  68000: 5142  69000: 4738  70000: 4415  71000: 4299  72000: 4018  \r\n",
      "73000: 3821  74000: 3698  75000: 3381  76000: 3023  77000: 2521  78000: 2671  79000: 2277  80000: 1879  81000: 1402  \r\n",
      "82000: 1099  83000: 621  84000: 234  85000: 25  ,,,,,,,,,,,\r\n",
      "  A B C D  \r\n",
      "  A B C D  \r\n",
      "  A B C D  \r\n",
      "  A B C D  \r\n",
      " | C @8/1 >0/0 $900/700 | A @8/2 >0/1 $9/2 | C @8/3 >0/10 $500/500 | B @8/4 >0/9 $50/60 | D @2/1 >0/7 $6000/2000\r\n",
      " | D @2/2 >0/5 $5000/4000 | D @2/3 >0/3 $4000/6000 | D @2/4 >8/4 $14000/5000 | A @0/1 >2/4 $5/5 | D @0/7 >8/3 $4000/4000\r\n",
      " | D @0/5 >8/2 $5000/3000 | D @0/3 >8/1 $6000/2000 | B @6/1 >0/7 $20/40 | B @6/2 >0/1 $70/40 | A @6/3 >2/3 $10/4\r\n",
      " | A @6/4 >2/2 $10/3 | C @4/1 >6/4 $700/500 | C @4/2 >6/3 $700/400 | B @4/3 >0/5 $40/20 | A @4/4 >2/1 $7/2\r\n",
      " | B @0/5 >4/4 $50/50 | B @0/7 >4/3 $60/40 | B @0/1 >4/2 $50/30 | B @0/9 >4/1 $60/20 | C @0/10 >6/2 $600/300\r\n",
      " | C @0/0 >6/1 $700/200\r\n",
      "Energy : 0  Cost: 48541\r\n"
     ]
    }
   ],
   "source": [
    "min = Minimum(start);\n",
    "min?.ShowCurrent();\n",
    "\n",
    "// 48581 is too high"
   ]
  }
 ],
 "metadata": {
  "kernelspec": {
   "display_name": ".NET (C#)",
   "language": "C#",
   "name": ".net-csharp"
  },
  "language_info": {
   "name": "C#"
  }
 },
 "nbformat": 4,
 "nbformat_minor": 2
}
