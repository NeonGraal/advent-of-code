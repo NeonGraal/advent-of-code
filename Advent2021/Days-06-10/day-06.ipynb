{
 "cells": [
  {
   "cell_type": "markdown",
   "metadata": {},
   "source": [
    "--- Day 6: Lanternfish ---\n",
    "The sea floor is getting steeper. Maybe the sleigh keys got carried this way?\n",
    "\n",
    "A massive school of glowing lanternfish swims past. They must spawn quickly to reach such large numbers - maybe exponentially quickly? You should model their growth rate to be sure.\n",
    "\n",
    "Although you know nothing about this specific species of lanternfish, you make some guesses about their attributes. Surely, each lanternfish creates a new lanternfish once every 7 days.\n",
    "\n",
    "However, this process isn't necessarily synchronized between every lanternfish - one lanternfish might have 2 days left until it creates another lanternfish, while another might have 4. So, you can model each fish as a single number that represents the number of days until it creates a new lanternfish.\n",
    "\n",
    "Furthermore, you reason, a new lanternfish would surely need slightly longer before it's capable of producing more lanternfish: two more days for its first cycle.\n",
    "\n",
    "Realizing what you're trying to do, the submarine automatically produces a list of the ages of several hundred nearby lanternfish (your puzzle input).\n",
    "\n",
    "Each day, a 0 becomes a 6 and adds a new 8 to the end of the list, while each other number decreases by 1 if it was present at the start of the day."
   ]
  },
  {
   "cell_type": "code",
   "execution_count": null,
   "metadata": {
    "dotnet_interactive": {
     "language": "csharp"
    }
   },
   "outputs": [
    {
     "data": {
      "text/html": [
       "<div class=\"dni-plaintext\">300</div>"
      ]
     },
     "metadata": {},
     "output_type": "display_data"
    }
   ],
   "source": [
    "using System.IO;\n",
    "// var input = File.ReadAllText(@\"day-06.sample\");\n",
    "var input = File.ReadAllText(@\"day-06.input\");\n",
    "\n",
    "var ages = input.Split(',').Select(int.Parse).ToArray();\n",
    "ages.Length"
   ]
  },
  {
   "cell_type": "code",
   "execution_count": null,
   "metadata": {
    "dotnet_interactive": {
     "language": "csharp"
    }
   },
   "outputs": [
    {
     "data": {
      "text/html": [
       "<div class=\"dni-plaintext\">352872</div>"
      ]
     },
     "metadata": {},
     "output_type": "display_data"
    }
   ],
   "source": [
    "//Part 1\n",
    "\n",
    "var counts = new long[9];\n",
    "\n",
    "Array.ForEach(ages, a => counts[a]++);\n",
    "\n",
    "for (var i = 0; i < 80; i++) {\n",
    "    var count0 = counts[0];\n",
    "    counts = counts.Skip(1).Append(count0).ToArray();\n",
    "    counts[6] = counts[6] + count0;\n",
    "    // display((i+1, counts));\n",
    "}\n",
    "counts.Sum()"
   ]
  },
  {
   "cell_type": "code",
   "execution_count": null,
   "metadata": {
    "dotnet_interactive": {
     "language": "csharp"
    }
   },
   "outputs": [
    {
     "data": {
      "text/html": [
       "<div class=\"dni-plaintext\">1604361182149</div>"
      ]
     },
     "metadata": {},
     "output_type": "display_data"
    }
   ],
   "source": [
    "//Part 2\n",
    "\n",
    "var counts = new long[9];\n",
    "\n",
    "Array.ForEach(ages, a => counts[a]++);\n",
    "\n",
    "for (var i = 0; i < 256; i++) {\n",
    "    var count0 = counts[0];\n",
    "    counts = counts.Skip(1).Append(count0).ToArray();\n",
    "    counts[6] = counts[6] + count0;\n",
    "    // display((i+1, counts));\n",
    "}\n",
    "counts.Sum()"
   ]
  }
 ],
 "metadata": {
  "kernelspec": {
   "display_name": ".NET (C#)",
   "language": "C#",
   "name": ".net-csharp"
  },
  "language_info": {
   "name": "C#"
  }
 },
 "nbformat": 4,
 "nbformat_minor": 2
}
