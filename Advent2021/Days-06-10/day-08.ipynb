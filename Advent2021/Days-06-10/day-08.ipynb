{
 "cells": [
  {
   "cell_type": "markdown",
   "metadata": {},
   "source": [
    "# Day 8: Seven Segment Search\n",
    "\n",
    "You barely reach the safety of the cave when the whale smashes into the cave mouth, collapsing it. Sensors indicate another exit to this cave at a much greater depth, so you have no choice but to press on.\n",
    "\n",
    "As your submarine slowly makes its way through the cave system, you notice that the four-digit seven-segment displays in your submarine are malfunctioning; they must have been damaged during the escape. You'll be in a lot of trouble without them, so you'd better figure out what's wrong.\n",
    "\n",
    "Each digit of a seven-segment display is rendered by turning on or off any of seven segments named a through g:\n",
    "\n",
    "So, to render a 1, only segments c and f would be turned on; the rest would be off. To render a 7, only segments a, c, and f would be turned on.\n",
    "\n",
    "The problem is that the signals which control the segments have been mixed up on each display. The submarine is still trying to display numbers by producing output on signal wires a through g, but those wires are connected to segments randomly. Worse, the wire/segment connections are mixed up separately for each four-digit display! (All of the digits within a display use the same connections, though.)\n",
    "\n",
    "For each display, you watch the changing signals for a while, make a note of all ten unique signal patterns you see, and then write down a single four digit output value (your puzzle input). Using the signal patterns, you should be able to work out which pattern corresponds to which digit.\n",
    "\n",
    "Each entry consists of ten unique signal patterns, a | delimiter, and finally the four digit output value. Within an entry, the same wire/segment connections are used (but you don't know what the connections actually are). The unique signal patterns correspond to the ten different ways the submarine tries to render a digit using the current wire/segment connections. Because 7 is the only digit that uses three segments, dab in the above example means that to render a 7, signal lines d, a, and b are on. Because 4 is the only digit that uses four segments, eafb means that to render a 4, signal lines e, a, f, and b are on.\n",
    "\n",
    "Using this information, you should be able to work out which combination of signal wires corresponds to each of the ten digits. Then, you can decode the four digit output value. Unfortunately, in the above example, all of the digits in the output value (cdfeb fcadb cdfeb cdbaf) use five segments and are more difficult to deduce."
   ]
  },
  {
   "cell_type": "code",
   "execution_count": null,
   "metadata": {
    "dotnet_interactive": {
     "language": "csharp"
    }
   },
   "outputs": [
    {
     "data": {
      "text/html": [
       "<table><thead><tr><th><i>index</i></th><th>Item1</th><th>Item2</th></tr></thead><tbody><tr><td>0</td><td><div class=\"dni-plaintext\">6</div></td><td><span>a, b, c, e, f, g</span></td></tr><tr><td>1</td><td><div class=\"dni-plaintext\">2</div></td><td><span>c, f</span></td></tr><tr><td>2</td><td><div class=\"dni-plaintext\">5</div></td><td><span>a, c, d, e, g</span></td></tr><tr><td>3</td><td><div class=\"dni-plaintext\">5</div></td><td><span>a, c, d, f, g</span></td></tr><tr><td>4</td><td><div class=\"dni-plaintext\">4</div></td><td><span>b, c, d, f</span></td></tr><tr><td>5</td><td><div class=\"dni-plaintext\">5</div></td><td><span>a, b, d, f, g</span></td></tr><tr><td>6</td><td><div class=\"dni-plaintext\">6</div></td><td><span>a, b, d, e, f, g</span></td></tr><tr><td>7</td><td><div class=\"dni-plaintext\">3</div></td><td><span>a, c, f</span></td></tr><tr><td>8</td><td><div class=\"dni-plaintext\">7</div></td><td><span>a, b, c, d, e, f, g</span></td></tr><tr><td>9</td><td><div class=\"dni-plaintext\">6</div></td><td><span>a, b, c, d, f, g</span></td></tr></tbody></table>"
      ]
     },
     "metadata": {},
     "output_type": "display_data"
    }
   ],
   "source": [
    "[Flags]\n",
    "enum Signal { a = 1 , b = 2, c = 4, d = 8, e = 16, f = 32, g = 64 };\n",
    "\n",
    "static (int,Signal) ParseSignal(string s)\n",
    "    => (s.Length, Enum.Parse<Signal>(string.Join(',', s.ToCharArray())));\n",
    "    \n",
    "var digits = \"abcefg cf acdeg acdfg bcdf abdfg abdefg acf abcdefg abcdfg\"\n",
    "    .Split(' ').Select(ParseSignal).ToArray();\n",
    "digits\n"
   ]
  },
  {
   "cell_type": "code",
   "execution_count": null,
   "metadata": {},
   "outputs": [],
   "source": [
    "record Note((int,Signal)[] Unique, (int,Signal)[] Output);\n",
    "    \n",
    "static Note ParseNote(string s) {\n",
    "    var parts = s.Split('|', StringSplitOptions.TrimEntries)\n",
    "        .Select(s => s.Split(' ').Select(ParseSignal).ToArray()\n",
    "        ).ToArray();\n",
    "    return new Note(parts[0], parts[1]);\n",
    "}"
   ]
  },
  {
   "cell_type": "code",
   "execution_count": null,
   "metadata": {
    "dotnet_interactive": {
     "language": "csharp"
    }
   },
   "outputs": [
    {
     "data": {
      "text/html": [
       "<div class=\"dni-plaintext\">200</div>"
      ]
     },
     "metadata": {},
     "output_type": "display_data"
    }
   ],
   "source": [
    "using System.IO;\n",
    "// var input = File.ReadAllLines(@\"day-08.sample\");\n",
    "var input = File.ReadAllLines(@\"day-08.input\");\n",
    "\n",
    "var note = ParseNote(\"acedgfb cdfbe gcdfa fbcad dab cefabd cdfgeb eafb cagedb ab | cdfeb fcadb cdfeb cdbaf\");\n",
    "\n",
    "var notes = input.Select(ParseNote).ToArray();\n",
    "notes.Length"
   ]
  },
  {
   "cell_type": "markdown",
   "metadata": {},
   "source": [
    "## Part 1\n",
    "\n",
    "For now, focus on the easy digits.\n",
    "\n",
    "Because the digits 1, 4, 7, and 8 each use a unique number of segments, you should be able to tell which combinations of signals correspond to those digits. Counting only digits in the output values (the part after | on each line), in the above example, there are 26 instances of digits that use a unique number of segments (highlighted above)."
   ]
  },
  {
   "cell_type": "code",
   "execution_count": null,
   "metadata": {
    "dotnet_interactive": {
     "language": "csharp"
    }
   },
   "outputs": [
    {
     "data": {
      "text/html": [
       "<div class=\"dni-plaintext\">0</div>"
      ]
     },
     "metadata": {},
     "output_type": "display_data"
    },
    {
     "data": {
      "text/html": [
       "<div class=\"dni-plaintext\">310</div>"
      ]
     },
     "metadata": {},
     "output_type": "display_data"
    }
   ],
   "source": [
    "static bool IsEasyDigit((int,Signal) pattern)\n",
    "    => pattern.Item1 switch {\n",
    "        2 or 4 or 3 or 7 => true,\n",
    "        _ => false\n",
    "    };\n",
    "\n",
    "display(note.Output.Count(p => IsEasyDigit(p)));\n",
    "\n",
    "notes.SelectMany(n => n.Output).Count(p => IsEasyDigit(p))"
   ]
  },
  {
   "cell_type": "markdown",
   "metadata": {},
   "source": [
    "## Part 2\n",
    "\n",
    "Through a little deduction, you should now be able to determine the remaining digits.\n",
    "\n",
    "For each entry, determine all of the wire/segment connections and decode the four-digit output values. What do you get if you add up all of the output values?"
   ]
  },
  {
   "cell_type": "code",
   "execution_count": null,
   "metadata": {},
   "outputs": [
    {
     "data": {
      "text/html": [
       "<div class=\"dni-plaintext\">5353</div>"
      ]
     },
     "metadata": {},
     "output_type": "display_data"
    },
    {
     "data": {
      "text/html": [
       "<div class=\"dni-plaintext\">915941</div>"
      ]
     },
     "metadata": {},
     "output_type": "display_data"
    }
   ],
   "source": [
    "static Signal[] Decode((int,Signal)[] unique) {\n",
    "    var result = new Signal[10];\n",
    "    var possible = unique.ToList();\n",
    "\n",
    "    Signal Take1(int len, Func<Signal, bool> check) {\n",
    "        var result = possible.Single(u => u.Item1 == len && check(u.Item2));\n",
    "        possible.Remove(result);\n",
    "        return result.Item2;\n",
    "    }\n",
    "\n",
    "    result[1] = Take1(2, u => true);\n",
    "    result[4] = Take1(4, u => true);\n",
    "    result[7] = Take1(3, u => true);\n",
    "    result[8] = Take1(7, u => true);\n",
    "\n",
    "    result[3] = Take1(5, u => (u & result[1]) == result[1]);\n",
    "    result[9] = Take1(6, u => (u & result[3]) == result[3]);    \n",
    "\n",
    "    result[5] = Take1(5, u => (u & result[9]) == u);\n",
    "    result[6] = Take1(6, u => (u & result[1]) != result[1]);\n",
    "\n",
    "    result[0] = Take1(6, u => true);\n",
    "    result[2] = Take1(5, u => true);\n",
    "\n",
    "    // display(possible);\n",
    "\n",
    "    return result;\n",
    "}\n",
    "\n",
    "int Value(Note note) {\n",
    "    var decode = Decode(note.Unique).Select((s, i) => (s, i)).ToDictionary(t => t.Item1, t => t.Item2);\n",
    "\n",
    "    return note.Output\n",
    "        .Select(s => decode[s.Item2]).Aggregate(0, (a, v) => a * 10 + v);\n",
    "}\n",
    "\n",
    "display(Value(note));\n",
    "\n",
    "notes.Select(Value).Sum()"
   ]
  }
 ],
 "metadata": {
  "kernelspec": {
   "display_name": ".NET (C#)",
   "language": "C#",
   "name": ".net-csharp"
  },
  "language_info": {
   "name": "C#"
  }
 },
 "nbformat": 4,
 "nbformat_minor": 2
}
