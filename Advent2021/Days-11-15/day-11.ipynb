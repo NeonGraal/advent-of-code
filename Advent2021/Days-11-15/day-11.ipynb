{
 "cells": [
  {
   "cell_type": "markdown",
   "metadata": {},
   "source": [
    "# Day 11: Dumbo Octopus\n",
    "\n",
    "You enter a large cavern full of rare bioluminescent dumbo octopuses! They seem to not like the Christmas lights on your submarine, so you turn them off for now.\n",
    "\n",
    "There are 100 octopuses arranged neatly in a 10 by 10 grid. Each octopus slowly gains energy over time and flashes brightly for a moment when its energy is full. Although your lights are off, maybe you could navigate through the cave without disturbing the octopuses if you could predict when the flashes of light will happen.\n",
    "\n",
    "Each octopus has an energy level - your submarine can remotely measure the energy level of each octopus (your puzzle input)."
   ]
  },
  {
   "cell_type": "markdown",
   "metadata": {},
   "source": [
    "## Input"
   ]
  },
  {
   "cell_type": "code",
   "execution_count": null,
   "metadata": {
    "dotnet_interactive": {
     "language": "csharp"
    }
   },
   "outputs": [
    {
     "data": {
      "text/html": [
       "<div class=\"dni-plaintext\">10</div>"
      ]
     },
     "metadata": {},
     "output_type": "display_data"
    }
   ],
   "source": [
    "using System.IO;\n",
    "// var input = File.ReadAllLines(@\"day-11.sample\");\n",
    "var input = File.ReadAllLines(@\"day-11.input\");\n",
    "\n",
    "input.Length"
   ]
  },
  {
   "cell_type": "markdown",
   "metadata": {},
   "source": [
    "## Part 1\n",
    "\n",
    "The energy level of each octopus is a value between 0 and 9. Here, the top-left octopus has an energy level of 5, the bottom-right one has an energy level of 6, and so on.\n",
    "\n",
    "You can model the energy levels and flashes of light in steps. During a single step, the following occurs:\n",
    "\n",
    "- First, the energy level of each octopus increases by 1.\n",
    "- Then, any octopus with an energy level greater than 9 flashes. This increases the energy level of all adjacent octopuses by 1, including octopuses that are diagonally adjacent. If this causes an octopus to have an energy level greater than 9, it also flashes. This process continues as long as new octopuses keep having their energy level increased beyond 9. (An octopus can only flash at most once per step.)\n",
    "- Finally, any octopus that flashed during this step has its energy level set to 0, as it used all of its energy to flash.\n",
    "\n",
    "Adjacent flashes can cause an octopus to flash on a step even if it begins that step with very little energy.\n",
    "\n",
    "Given the starting energy levels of the dumbo octopuses in your cavern, simulate 100 steps. How many total flashes are there after 100 steps?"
   ]
  },
  {
   "cell_type": "code",
   "execution_count": null,
   "metadata": {
    "dotnet_interactive": {
     "language": "csharp"
    }
   },
   "outputs": [
    {
     "data": {
      "text/html": [
       "<table><thead><tr><th>Item1</th><th>Item2</th></tr></thead><tbody><tr><td><div class=\"dni-plaintext\">488</div></td><td><div class=\"dni-plaintext\">100</div></td></tr></tbody></table>"
      ]
     },
     "metadata": {},
     "output_type": "display_data"
    }
   ],
   "source": [
    "var grid = input.Select(l => l.ToCharArray().Select(c => (int)(c - '0')).ToArray()).ToArray();\n",
    "\n",
    "var height = grid.Length;\n",
    "var width = grid[0].Length;\n",
    "\n",
    "int Flashes() {\n",
    "    var flashed = grid.Select(l => l.Select(c => false).ToArray()).ToArray();\n",
    "\n",
    "    void Inc(int x, int y) {\n",
    "        if (x < 0 || x >= width || y < 0 || y >= height) return;\n",
    "        if (flashed[y][x]) return;\n",
    "        grid[y][x]++;\n",
    "\n",
    "        if (grid[y][x] > 9) {\n",
    "            flashed[y][x] = true;\n",
    "            Inc(x-1, y-1); Inc(x  , y-1); Inc(x+1, y-1);            \n",
    "            Inc(x-1, y  );                Inc(x+1, y  );\n",
    "            Inc(x-1, y+1); Inc(x  , y+1); Inc(x+1, y+1);            \n",
    "        }\n",
    "    }\n",
    "\n",
    "    for (var y = 0; y < height; y++)\n",
    "        for (var x = 0; x < width; x++)\n",
    "            Inc(x, y);\n",
    "\n",
    "    for (var y = 0; y < height; y++)\n",
    "        for (var x = 0; x < width; x++)\n",
    "            if (flashed[y][x]) grid[y][x] = 0;\n",
    "\n",
    "    return flashed.Sum(l => l.Count(f => f));\n",
    "}\n",
    "\n",
    "Enumerable.Range(1, 999).Select(c => (c, Flashes())).First(t => t.Item2 == height * width)"
   ]
  }
 ],
 "metadata": {
  "kernelspec": {
   "display_name": ".NET (C#)",
   "language": "C#",
   "name": ".net-csharp"
  },
  "language_info": {
   "name": "C#"
  }
 },
 "nbformat": 4,
 "nbformat_minor": 2
}
